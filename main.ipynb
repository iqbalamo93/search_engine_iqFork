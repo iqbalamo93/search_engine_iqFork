{
 "cells": [
  {
   "cell_type": "code",
   "execution_count": 1,
   "id": "44c48e21",
   "metadata": {},
   "outputs": [],
   "source": [
    "import json\n",
    "from fastapi import FastAPI\n",
    "import gensim\n",
    "\n",
    "import scipy\n",
    "\n",
    "import sys\n",
    "sys.path.append('./models')\n",
    "\n",
    "from fastapi.middleware.cors import CORSMiddleware\n",
    "\n",
    "import pickle \n",
    "import os\n",
    "import glob"
   ]
  },
  {
   "cell_type": "code",
   "execution_count": 2,
   "id": "9522a591",
   "metadata": {},
   "outputs": [],
   "source": [
    "from rank_bm25 import BM25Okapi\n",
    "from pymongo import MongoClient\n",
    "import psycopg2\n",
    "\n",
    "# Connect to the PostgreSQL database\n",
    "conn = psycopg2.connect(\n",
    "    host=\"localhost\",\n",
    "    database=\"SearchEngine\",\n",
    "    user=\"postgres\",\n",
    "    password=\"2580\"\n",
    ")\n",
    "\n",
    "# Create a cursor object\n",
    "cursor = conn.cursor()\n",
    "\n",
    "\n",
    "client = MongoClient('mongodb://localhost:27017/')\n",
    "# select a database\n",
    "db = client['inverted_index']\n",
    "mycollection = db['inverted_index']"
   ]
  },
  {
   "cell_type": "code",
   "execution_count": 3,
   "id": "ea1e15de",
   "metadata": {},
   "outputs": [],
   "source": [
    "app = FastAPI()\n",
    "\n",
    "origins = [\n",
    "    \"http://localhost.tiangolo.com\",\n",
    "    \"https://localhost.tiangolo.com\",\n",
    "    \"http://localhost\",\n",
    "    \"http://localhost:8080\",\n",
    "]\n",
    "\n",
    "app.add_middleware(\n",
    "    CORSMiddleware,\n",
    "    allow_origins=origins,\n",
    "    allow_credentials=True,\n",
    "    allow_methods=[\"*\"],\n",
    "    allow_headers=[\"*\"],\n",
    ")"
   ]
  },
  {
   "cell_type": "code",
   "execution_count": 29,
   "id": "556cd017",
   "metadata": {},
   "outputs": [],
   "source": [
    "\n",
    "def reated_documents(user_input):\n",
    "    words = user_input.split()\n",
    "    rel_docs = set()\n",
    "    for word in words:\n",
    "        myquery = {\"word\": word}\n",
    "        results  = mycollection.find(myquery)\n",
    "        for result in results:\n",
    "            docs = result['doc_ids']\n",
    "            rel_docs.update(docs)\n",
    "            \n",
    "    return list(rel_docs)\n",
    "\n",
    "def url_documents(rel_docs):\n",
    "    documents  = []\n",
    "    urls = []\n",
    "    for idx in rel_docs:\n",
    "        query = f\"SELECT * FROM sites where id = {idx};\"\n",
    "        cursor.execute(query)\n",
    "        results = cursor.fetchall()\n",
    "        for row in results:\n",
    "            doc_id = row[0]\n",
    "            url = row[1]\n",
    "            urls.append(url)\n",
    "            text = row[2]\n",
    "            documents.append(text)\n",
    "    return (documents,urls)\n",
    "\n",
    "def BM25_json(user_query):\n",
    "    out_data = {}\n",
    "    rew_score_list = []\n",
    "    \n",
    "    rel_docs = reated_documents(user_query)\n",
    "    documents , urls = url_documents(rel_docs)\n",
    "    \n",
    "    tokenized_corpus = [doc.split(\" \") for doc in documents]\n",
    "    bm25 = BM25Okapi(tokenized_corpus)\n",
    "    \n",
    "    tokenized_query = user_query.split()\n",
    "    doc_scores_raw = bm25.get_scores(tokenized_query)\n",
    "    doc_scores_indxed = doc_scores_raw.argsort()[::-1]\n",
    "    doc_scores_indxed = doc_scores_indxed[:10]\n",
    "    sorted_rawscores = doc_scores_raw[doc_scores_indxed[:10]]\n",
    "    \n",
    "    query = f\"SELECT max(number)+1 FROM sessions;\"\n",
    "    cursor.execute(query)\n",
    "    session_id = cursor.fetchall()[0][0]\n",
    "    session_id =int(session_id)\n",
    "    \n",
    "    for idx,idx_score in enumerate(zip(doc_scores_indxed,sorted_rawscores),start=1):\n",
    "        doc_idx, raw_score = idx_score[0], idx_score[1]\n",
    "        rew_score_list.append(raw_score)\n",
    "        doc_id = rel_docs[doc_idx]\n",
    "        url = urls[doc_idx]\n",
    "        text = documents[doc_idx][:600]\n",
    "        out_data.update({idx:{'rank':idx,'doc_id':doc_id,'score':raw_score,'url':url,'text':text,'session_id':session_id }})  \n",
    "    \n",
    "    return out_data,rew_score_list"
   ]
  },
  {
   "cell_type": "code",
   "execution_count": 30,
   "id": "d1b1d842",
   "metadata": {},
   "outputs": [],
   "source": []
  },
  {
   "cell_type": "code",
   "execution_count": 3,
   "id": "14f189c9",
   "metadata": {},
   "outputs": [],
   "source": [
    "from models.bm25_base import BM25_json"
   ]
  },
  {
   "cell_type": "code",
   "execution_count": 4,
   "id": "b120425f",
   "metadata": {},
   "outputs": [],
   "source": [
    "user_input = 'London Rishi'"
   ]
  },
  {
   "cell_type": "code",
   "execution_count": 5,
   "id": "127d2488",
   "metadata": {},
   "outputs": [],
   "source": [
    "out_data, raw_scores = BM25_json(user_input)"
   ]
  },
  {
   "cell_type": "code",
   "execution_count": 6,
   "id": "fe4f1c76",
   "metadata": {},
   "outputs": [],
   "source": [
    "json_data = json.dumps(out_data)"
   ]
  },
  {
   "cell_type": "code",
   "execution_count": 7,
   "id": "46fe1fc5",
   "metadata": {},
   "outputs": [
    {
     "data": {
      "text/plain": [
       "'{\"1\": {\"rank\": 1, \"doc_id\": 1610, \"score\": 5.756529688123202, \"url\": \"https://www.bbc.com/news/uk-england-london-64803166\", \"text\": \"Tube strike: RMT announces London Underground walk out More London Underground staff are to strike on 15 March, Budget Day, a transport workers\\' union has announced. The RMT has announced the walkout, which is in a dispute over pensions, job losses and contractual agreements. Members will walk out on the same day that Aslef members are striking on the Tube network. A spokesperson for Transport for London (TfL) said: \\\\\"We have not proposed changes to anyone\\'s pensions.\\\\\" But the RMT\\'s general secretary Mick Lynch said: \\\\\"Our members will never accept job losses, attacks on their pensions or change\", \"session_id\": 1}, \"2\": {\"rank\": 2, \"doc_id\": 906, \"score\": 5.699376436595253, \"url\": \"https://www.bbc.com/news/uk-northern-ireland-64795902\", \"text\": \"Brexit: What is the Stormont brake? This video can not be played Watch: How would the Stormont brake work? First came the backstop, then the protocol, now we can expect to hear a lot more about the \\\\\"Stormont brake\\\\\" as it is added to the Brexit lexicon. But could the aforementioned brake being hailed by Rishi Sunak in his new Brexit deal end the year-long break in devolved government in Northern Ireland? The plan aims to give a future Northern Ireland Assembly a greater say on how EU laws apply to Northern Ireland - a key demand of the Democratic Unionist Party\\'s before it will end its boycott \", \"session_id\": 1}, \"3\": {\"rank\": 3, \"doc_id\": 1747, \"score\": 5.605257905488272, \"url\": \"https://www.bbc.com/news/uk-england-london-64811855\", \"text\": \"London: Three in 10 miss out on first-choice secondary school Three in 10 children in London missed out on a place at their top choice of secondary school. Lambeth, in south London, had the lowest proportion of children getting their top choice, at 61.56%. The number of applications for places at secondary schools in the capital fell slightly this year. Families leaving London due to different working patterns has played a part in this drop, councils have said. Overall, 69.78% of pupils who applied to start at a London secondary school this autumn received an offer from their first preference,\", \"session_id\": 1}, \"4\": {\"rank\": 4, \"doc_id\": 1349, \"score\": 5.376870428890802, \"url\": \"https://www.bbc.com/news/uk-england-kent-64809801\", \"text\": \"London ULEZ: Dartford vicar says expansion will hit mourners A vicar has described the expansion of London\\'s ultra-low emission zone (ULEZ) as \\\\\"a tax on friendship\\\\\" for mourners wanting to attend funerals in London. From 29 August drivers of the most polluting vehicles will pay \\\\u00c2\\\\u00a312.50 a day to drive into Greater London. The Reverend Carl Chambers, vicar of St Michael and All Angels in Wilmington, Kent, called it \\\\\"a kick in the guts\\\\\". The Mayor of London said the expansion is needed to tackle the 4,000 deaths a year due to air pollution. Mr Chambers said: \\\\\"I think it\\'s a kick in the guts, a pu\", \"session_id\": 1}, \"5\": {\"rank\": 5, \"doc_id\": 1329, \"score\": 4.812363375680443, \"url\": \"https://www.bbc.com/news/uk-england-london-64809875\", \"text\": \"Oxford Street partially closed after man attacked on bus A man is in a critical condition after being attacked on a bus on Oxford Street. Part of the central London street remains cordoned off around a Number 94 bus, where the assault happened at about 22:15 GMT on Tuesday. Police say the passenger, 25, suffered head injuries after becoming involved in an argument with another man. Det Ch Insp Michael Dougall said it was believed the victim sustained his injuries as a result of blunt force. No arrests have been made but, in an update, the Met Police said officers were searching for a suspect w\", \"session_id\": 1}, \"6\": {\"rank\": 6, \"doc_id\": 1825, \"score\": 4.559988729751198, \"url\": \"https://www.bbc.com/news/uk-england-bristol-64744458\", \"text\": \"Bristol woman to run London Marathon in memory of brain tumour victim A woman who lost a friend to a brain tumour is training to run the London Marathon in her memory.  Julie Middleton, 65, from Bristol, was part of a friendship group of women who called themselves \\'The Gazelles\\'. Her best friend Sophie Slingsby died with a glioblastoma in August 2017. \\\\\"Sophie was the peacemaker and the map reader of our group. We loved her and we miss her,\\\\\" Ms Middleton said. She will run the marathon in aid of Brain Tumour Research.  Ms Slingsby\\'s illness was revealed after she had an MRI scan at Southmead H\", \"session_id\": 1}, \"7\": {\"rank\": 7, \"doc_id\": 1483, \"score\": 4.15910602546774, \"url\": \"https://www.bbc.com/news/uk-politics-64811140\", \"text\": \"PMQs: Sunak quizzed on claims of leaked Hancock messages This video can not be played Sir Keir Starmer said politicians writing books about Covid and leaking messages was \\\\u00e2\\\\u0080\\\\u009cinsulting\\\\u00e2\\\\u0080\\\\u009d and a \\\\u00e2\\\\u0080\\\\u009cghoulish spectacle\\\\u00e2\\\\u0080\\\\u009d. He was referencing newspaper claims of leaked messages about former Health Secretary Matt Hancock. Rishi Sunak paid tribute to health workers, adding the Covid inquiry should do its work rather than him commenting on \\\\\"piecemeal bits of information\\\\\". A spokesman for Mr Hancock has said the messages had been \\\\\"doctored\\\\\" to create a false story which is \\\\\"flat wrong\\\\\". Matt Hancock di\", \"session_id\": 1}, \"8\": {\"rank\": 8, \"doc_id\": 357, \"score\": 4.055952028460194, \"url\": \"https://www.bbc.com/news/uk-politics-64780244\", \"text\": \"NI Protocol: Final talks on Brexit deal due - No 10 Rishi Sunak and the European Commission president are due to hold \\\\\"final talks\\\\\" on a new post-Brexit deal for Northern Ireland on Monday, Downing Street says. The prime minister and Ursula von der Leyen will meet in Berkshire in the afternoon to discuss \\\\\"complex challenges\\\\\" around the protocol. The UK wants to change the current agreement - which sees some goods checked when entering Northern Ireland from the rest of Great Britain. A new deal has been expected for days. Deputy Prime Minister Dominic Raab earlier said the UK and EU were \\\\\"on th\", \"session_id\": 1}, \"9\": {\"rank\": 9, \"doc_id\": 235, \"score\": 3.9505586548135474, \"url\": \"https://www.bbc.com/news/uk-politics-64773214\", \"text\": \"Northern Ireland Protocol: Sunak \\'giving it everything\\' to reach Brexit deal Rishi Sunak says he is \\\\\"giving it everything\\\\\" this weekend to secure a new Brexit deal for Northern Ireland, and he wants \\\\\"to get the job done\\\\\". But the prime minister said no agreement had yet been made between the UK and the European Union.  Deputy PM Dominic Raab told the BBC the UK was close to a deal.  He said: \\\\\"If we can get this over the line - we\\'re on the cusp, we\\'ve made great progress, we\\'re not there yet - this would be a really important deal.\\\\\" Irish Prime Minister Leo Varadkar said the deal over trade be\", \"session_id\": 1}, \"10\": {\"rank\": 10, \"doc_id\": 857, \"score\": 3.9088421001706903, \"url\": \"https://www.bbc.com/news/uk-northern-ireland-64794091\", \"text\": \"Brexit: Pressure builds on DUP over new deal The Democratic Unionist Party (DUP) has been urged by other Stormont parties to get back in government following the announcement of the Windsor Framework. The party is boycotting devolved government until concerns about post-Brexit trading arrangements are fixed. A new EU-UK agreement was announced on Monday, which PM Rishi Sunak said would make Northern Ireland \\\\\"the world\\'s most exciting economic zone\\\\\". The DUP said it would take time to come to a \\\\\"collective decision\\\\\". On Tuesday, its party leader Sir Jeffrey Donaldson added: \\\\\"I see opportunity o\", \"session_id\": 1}}'"
      ]
     },
     "execution_count": 7,
     "metadata": {},
     "output_type": "execute_result"
    }
   ],
   "source": [
    "json_data"
   ]
  },
  {
   "cell_type": "code",
   "execution_count": 24,
   "id": "dd278d10",
   "metadata": {},
   "outputs": [
    {
     "data": {
      "text/plain": [
       "1610"
      ]
     },
     "execution_count": 24,
     "metadata": {},
     "output_type": "execute_result"
    }
   ],
   "source": [
    "doc_id"
   ]
  },
  {
   "cell_type": "code",
   "execution_count": 25,
   "id": "b607be51",
   "metadata": {},
   "outputs": [
    {
     "name": "stdout",
     "output_type": "stream",
     "text": [
      "(1610, 'https://www.bbc.com/news/uk-england-london-64803166', 'Tube strike: RMT announces London Underground walk out More London Underground staff are to strike on 15 March, Budget Day, a transport workers\\' union has announced. The RMT has announced the walkout, which is in a dispute over pensions, job losses and contractual agreements. Members will walk out on the same day that Aslef members are striking on the Tube network. A spokesperson for Transport for London (TfL) said: \"We have not proposed changes to anyone\\'s pensions.\" But the RMT\\'s general secretary Mick Lynch said: \"Our members will never accept job losses, attacks on their pensions or changes to working conditions in order to pay for a funding cut which is the government\\'s political decision. \"Tube workers provide an essential service to the capital, making sure the city can keep moving and work long hours in demanding roles. \"In return they deserve decent pensions, job security and good working conditions and the RMT will fight and tooth nail to make sure that\\'s what they get.\" Nick Dent, director of customer operations at TfL, said: \"We have been working with our trade unions to see how we can make London Underground a fairer and more sustainable place.  \"We want to make London Underground a better place to work so we urge Aslef and the RMT to call off this damaging strike and continue working with us.\" A national RMT rail strike has already been announced for 16 March. In 2022 there were six 24-hour strikes by the RMT in the ongoing dispute. Follow BBC London on Facebook, Twitter and Instagram. Send your story ideas to hellobbclondon@bbc.co.uk When are the next train strikes? London Underground drivers to strike on Budget Day BeyoncÃ© UK tour: Tottenham Hotspur stadium breaches licence BeyoncÃ© UK tour: Tottenham Hotspur stadium breaches licence Barnet Council tight-lipped over Finchley Lido decision date Man robbed and threatened with machete after meeting \\'escort\\' London stocks edge higher after mixed session for European markets Prince Harry phone hacking lawsuit to go to trial in May More snow to sweep UK as Arctic blast hits I\\'ll keep speaking out, says Lineker after criticism Stopping small boats is priority for people - PM A mum\\'s \\'remarkable turnaround\\' to win her baby back Why Lineker\\'s comments present problem for the BBC How cycling carried two sisters out of the Talibanâ\\x80\\x99s reach Indecent exposure: \\'I was the 8th woman he\\'d attacked\\' Why a million Americans a year risk Mexico medical tourism Zoe Saldana\\'s box office record (and 15 other Oscar facts) What is International Women\\'s Day? The mad scramble for Eurovision tickets. AudioThe mad scramble for Eurovision tickets How a \\'pig butcher\\' romances and scams his victims. VideoHow a \\'pig butcher\\' romances and scams his victims \\'Money can\\'t buy you a better cheeseburger\\' Billionaire Bill Gates talks to Amol Rajan about wealth, conspiracies and controversy How much money do you need to be happy? A panel of experts discuss the finances of happiness Break up the week with a film night There\\'s something for everyone on BBC iPlayer Is paying more for premium petrol worth it? Greg Foot drives the investigation into the fumy world of petrol Who is Andrew Tate? P!nk\\'s spine-tingling performance! Stanley embarks on a whirlwind tour  One simple tip to boost mental health Â© 2023 BBC. The BBC is not responsible for the content of external sites. Read about our approach to external linking.', None)\n"
     ]
    }
   ],
   "source": [
    "query = f\"SELECT * FROM sites where id = {doc_id};\"\n",
    "cursor.execute(query)\n",
    "results = cursor.fetchall()\n",
    "for row in results:\n",
    "    print(row)"
   ]
  },
  {
   "cell_type": "code",
   "execution_count": null,
   "id": "810729b8",
   "metadata": {},
   "outputs": [],
   "source": []
  },
  {
   "cell_type": "markdown",
   "id": "cfd13821",
   "metadata": {},
   "source": [
    "## TESTING WORD2VEC"
   ]
  },
  {
   "cell_type": "markdown",
   "id": "65919477",
   "metadata": {},
   "source": [
    "As mentioned in the DESM paper, we compute the centroid of documents and compute the cosine similarity of the query words with document centroid."
   ]
  },
  {
   "cell_type": "code",
   "execution_count": 4,
   "id": "de6af299",
   "metadata": {},
   "outputs": [],
   "source": [
    "from models.desm import DESM_json\n",
    "from models.bm25_base import BM25_json\n",
    "\n",
    "import json"
   ]
  },
  {
   "cell_type": "code",
   "execution_count": 5,
   "id": "bd93658b",
   "metadata": {},
   "outputs": [
    {
     "name": "stdout",
     "output_type": "stream",
     "text": [
      "{1: {'rank': 1, 'doc_id': 357, 'score': 0.5438157918094071, 'url': 'https://www.bbc.com/news/uk-politics-64780244', 'text': 'NI Protocol: Final talks on Brexit deal due - No 10 Rishi Sunak and the European Commission president are due to hold \"final talks\" on a new post-Brexit deal for Northern Ireland on Monday, Downing Street says. The prime minister and Ursula von der Leyen will meet in Berkshire in the afternoon to discuss \"complex challenges\" around the protocol. The UK wants to change the current agreement - which sees some goods checked when entering Northern Ireland from the rest of Great Britain. A new deal has been expected for days. Deputy Prime Minister Dominic Raab earlier said the UK and EU were \"on th', 'session_id': 1}, 2: {'rank': 2, 'doc_id': 235, 'score': 0.540018284813073, 'url': 'https://www.bbc.com/news/uk-politics-64773214', 'text': 'Northern Ireland Protocol: Sunak \\'giving it everything\\' to reach Brexit deal Rishi Sunak says he is \"giving it everything\" this weekend to secure a new Brexit deal for Northern Ireland, and he wants \"to get the job done\". But the prime minister said no agreement had yet been made between the UK and the European Union.  Deputy PM Dominic Raab told the BBC the UK was close to a deal.  He said: \"If we can get this over the line - we\\'re on the cusp, we\\'ve made great progress, we\\'re not there yet - this would be a really important deal.\" Irish Prime Minister Leo Varadkar said the deal over trade be', 'session_id': 1}, 3: {'rank': 3, 'doc_id': 1026, 'score': 0.5383321500358363, 'url': 'https://www.bbc.com/news/uk-politics-64796945', 'text': 'Windsor Framework: New Brexit deal about people of Northern Ireland, says Sunak This video can not be played PM Rishi Sunak: \"There won\\'t be routine checks for goods moving GB to NI\" The new Brexit deal agreed with the EU is about \"what is best for people in Northern Ireland\" and not politicians, Rishi Sunak has said. The prime minister announced the deal, which aims to fix post-Brexit problems in Northern Ireland, on Monday. Speaking on BBC Radio 4\\'s Today programme, Mr Sunak said the deal \"will make a positive difference for all\" in Northern Ireland. \"This is not about me or any one politica', 'session_id': 1}, 4: {'rank': 4, 'doc_id': 857, 'score': 0.5227484157467395, 'url': 'https://www.bbc.com/news/uk-northern-ireland-64794091', 'text': 'Brexit: Pressure builds on DUP over new deal The Democratic Unionist Party (DUP) has been urged by other Stormont parties to get back in government following the announcement of the Windsor Framework. The party is boycotting devolved government until concerns about post-Brexit trading arrangements are fixed. A new EU-UK agreement was announced on Monday, which PM Rishi Sunak said would make Northern Ireland \"the world\\'s most exciting economic zone\". The DUP said it would take time to come to a \"collective decision\". On Tuesday, its party leader Sir Jeffrey Donaldson added: \"I see opportunity o', 'session_id': 1}, 5: {'rank': 5, 'doc_id': 1286, 'score': 0.5210322223092848, 'url': 'https://www.bbc.com/news/uk-northern-ireland-64808694', 'text': \"Stormont: We need government and we need it now - Sinn FÃ©in The new Brexit deal should lead to the immediate restoration of power-sharing at Stormont, Northern Ireland's largest party Sinn FÃ©in has said.  The Windsor Framework was announced on Monday following months of talks. The Democratic Unionist Party (DUP) is boycotting power-sharing until its concerns about post-Brexit trading arrangements are fixed. It has said it will not be rushed into deciding whether to back the new Windsor Framework.  On Wednesday evening, the DUP MP Ian Paisley said he did not believe the Windsor Framework met \", 'session_id': 1}, 6: {'rank': 6, 'doc_id': 906, 'score': 0.5115197459081515, 'url': 'https://www.bbc.com/news/uk-northern-ireland-64795902', 'text': 'Brexit: What is the Stormont brake? This video can not be played Watch: How would the Stormont brake work? First came the backstop, then the protocol, now we can expect to hear a lot more about the \"Stormont brake\" as it is added to the Brexit lexicon. But could the aforementioned brake being hailed by Rishi Sunak in his new Brexit deal end the year-long break in devolved government in Northern Ireland? The plan aims to give a future Northern Ireland Assembly a greater say on how EU laws apply to Northern Ireland - a key demand of the Democratic Unionist Party\\'s before it will end its boycott ', 'session_id': 1}, 7: {'rank': 7, 'doc_id': 1346, 'score': 0.5109159466735993, 'url': 'https://www.bbc.com/news/live/uk-politics-64806066', 'text': \"Covid testing advice was followed, minister insists  And we'll keep you signed in. Sign in  or  Register You need one to watch live TV on any channel or device, and BBC programmes on iPlayer. It’s the law.   Edited by Emily McGarvey and James FitzGerald All times stated are UK That brings to an end our live coverage of today’s Prime Minister's Questions, but here’s a recap of some of the key developments: You can read more in our latest news story here. Want to dig a bit deeper on the new post-Brexit deal? Look here. And finally, here's our simple guide on the Northern Ireland Protocol. Today’\", 'session_id': 1}, 8: {'rank': 8, 'doc_id': 257, 'score': 0.5091735163939375, 'url': 'https://www.bbc.com/news/uk-northern-ireland-64773708', 'text': \"NI Protocol: Questions to ask about a possible new deal The UK and EU are on the brink of an agreement which would reform the Northern Ireland Protocol. The protocol is the part of the Brexit deal which sets Northern Ireland's trade rules. It keeps Northern Ireland inside the EU's single market for goods. That keeps the Irish land border open but means products arriving into NI from the rest of the UK are subject to checks and controls. How green is the green lane? The UK and EU have long agreed that British goods which are staying in Northern Ireland should be subject to fewer checks and cont\", 'session_id': 1}, 9: {'rank': 9, 'doc_id': 1535, 'score': 0.5069178872246354, 'url': 'https://www.bbc.com/news/uk-politics-64802929', 'text': 'Invest in Northern Ireland to get single market access, says Andrea Leadsom Companies in Great Britain that want access to the EU single market should invest in Northern Ireland, senior Tory MP Andrea Leadsom has said. Northern Ireland firms will continue to be part of the single market under Rishi Sunak\\'s Brexit deal with the EU. The PM says it will create \"the world\\'s most exciting economic zone\". But the SNP accused him of \"moonlighting as a Remainer\" and putting Scotland at a \"competitive disadvantage\". Ms Leadsom, a leading Brexiteer, said the deal gives Northern Ireland a \"unique opportu', 'session_id': 1}, 10: {'rank': 10, 'doc_id': 1877, 'score': 0.5000919710250191, 'url': 'https://www.bbc.com/news/uk-northern-ireland-64718730', 'text': \"Good Friday Agreement: Who wants to tell the 'truth' about NI's past? It is almost 25 years since the signing of the Good Friday Agreement, the peace deal that brought an end to the Troubles - in the coming weeks, BBC News NI across our news website, TV and radio, will be looking back at the historic deal, speaking to the key players and reflecting on how the agreement continues to shape Northern Ireland. Take the legacy of the Troubles - an issue that dominates hearts and minds in 2023. A controversial UK government bill going through Westminster is offering conditional amnesties to perpetrat\", 'session_id': 1}}\n"
     ]
    }
   ],
   "source": [
    "out_data, raw_scores = DESM_json('Rishi London')\n",
    "out_data_bm25, raw_scores_bm25 = BM25_json('Rishi London')"
   ]
  },
  {
   "cell_type": "code",
   "execution_count": 6,
   "id": "0ea7e26f",
   "metadata": {},
   "outputs": [
    {
     "data": {
      "text/plain": [
       "'{\"1\": {\"rank\": 1, \"doc_id\": 357, \"score\": 0.5438157918094071, \"url\": \"https://www.bbc.com/news/uk-politics-64780244\", \"text\": \"NI Protocol: Final talks on Brexit deal due - No 10 Rishi Sunak and the European Commission president are due to hold \\\\\"final talks\\\\\" on a new post-Brexit deal for Northern Ireland on Monday, Downing Street says. The prime minister and Ursula von der Leyen will meet in Berkshire in the afternoon to discuss \\\\\"complex challenges\\\\\" around the protocol. The UK wants to change the current agreement - which sees some goods checked when entering Northern Ireland from the rest of Great Britain. A new deal has been expected for days. Deputy Prime Minister Dominic Raab earlier said the UK and EU were \\\\\"on th\", \"session_id\": 1}, \"2\": {\"rank\": 2, \"doc_id\": 235, \"score\": 0.540018284813073, \"url\": \"https://www.bbc.com/news/uk-politics-64773214\", \"text\": \"Northern Ireland Protocol: Sunak \\'giving it everything\\' to reach Brexit deal Rishi Sunak says he is \\\\\"giving it everything\\\\\" this weekend to secure a new Brexit deal for Northern Ireland, and he wants \\\\\"to get the job done\\\\\". But the prime minister said no agreement had yet been made between the UK and the European Union.  Deputy PM Dominic Raab told the BBC the UK was close to a deal.  He said: \\\\\"If we can get this over the line - we\\'re on the cusp, we\\'ve made great progress, we\\'re not there yet - this would be a really important deal.\\\\\" Irish Prime Minister Leo Varadkar said the deal over trade be\", \"session_id\": 1}, \"3\": {\"rank\": 3, \"doc_id\": 1026, \"score\": 0.5383321500358363, \"url\": \"https://www.bbc.com/news/uk-politics-64796945\", \"text\": \"Windsor Framework: New Brexit deal about people of Northern Ireland, says Sunak This video can not be played PM Rishi Sunak: \\\\\"There won\\'t be routine checks for goods moving GB to NI\\\\\" The new Brexit deal agreed with the EU is about \\\\\"what is best for people in Northern Ireland\\\\\" and not politicians, Rishi Sunak has said. The prime minister announced the deal, which aims to fix post-Brexit problems in Northern Ireland, on Monday. Speaking on BBC Radio 4\\'s Today programme, Mr Sunak said the deal \\\\\"will make a positive difference for all\\\\\" in Northern Ireland. \\\\\"This is not about me or any one politica\", \"session_id\": 1}, \"4\": {\"rank\": 4, \"doc_id\": 857, \"score\": 0.5227484157467395, \"url\": \"https://www.bbc.com/news/uk-northern-ireland-64794091\", \"text\": \"Brexit: Pressure builds on DUP over new deal The Democratic Unionist Party (DUP) has been urged by other Stormont parties to get back in government following the announcement of the Windsor Framework. The party is boycotting devolved government until concerns about post-Brexit trading arrangements are fixed. A new EU-UK agreement was announced on Monday, which PM Rishi Sunak said would make Northern Ireland \\\\\"the world\\'s most exciting economic zone\\\\\". The DUP said it would take time to come to a \\\\\"collective decision\\\\\". On Tuesday, its party leader Sir Jeffrey Donaldson added: \\\\\"I see opportunity o\", \"session_id\": 1}, \"5\": {\"rank\": 5, \"doc_id\": 1286, \"score\": 0.5210322223092848, \"url\": \"https://www.bbc.com/news/uk-northern-ireland-64808694\", \"text\": \"Stormont: We need government and we need it now - Sinn F\\\\u00c3\\\\u00a9in The new Brexit deal should lead to the immediate restoration of power-sharing at Stormont, Northern Ireland\\'s largest party Sinn F\\\\u00c3\\\\u00a9in has said.  The Windsor Framework was announced on Monday following months of talks. The Democratic Unionist Party (DUP) is boycotting power-sharing until its concerns about post-Brexit trading arrangements are fixed. It has said it will not be rushed into deciding whether to back the new Windsor Framework.  On Wednesday evening, the DUP MP Ian Paisley said he did not believe the Windsor Framework met \", \"session_id\": 1}, \"6\": {\"rank\": 6, \"doc_id\": 906, \"score\": 0.5115197459081515, \"url\": \"https://www.bbc.com/news/uk-northern-ireland-64795902\", \"text\": \"Brexit: What is the Stormont brake? This video can not be played Watch: How would the Stormont brake work? First came the backstop, then the protocol, now we can expect to hear a lot more about the \\\\\"Stormont brake\\\\\" as it is added to the Brexit lexicon. But could the aforementioned brake being hailed by Rishi Sunak in his new Brexit deal end the year-long break in devolved government in Northern Ireland? The plan aims to give a future Northern Ireland Assembly a greater say on how EU laws apply to Northern Ireland - a key demand of the Democratic Unionist Party\\'s before it will end its boycott \", \"session_id\": 1}, \"7\": {\"rank\": 7, \"doc_id\": 1346, \"score\": 0.5109159466735993, \"url\": \"https://www.bbc.com/news/live/uk-politics-64806066\", \"text\": \"Covid testing advice was followed, minister insists  And we\\'ll keep you signed in. Sign in  or  Register You need one to watch live TV on any channel or device, and BBC programmes on iPlayer. It\\\\u2019s the law.   Edited by Emily McGarvey and James FitzGerald All times stated are UK That brings to an end our live coverage of today\\\\u2019s Prime Minister\\'s Questions, but here\\\\u2019s a recap of some of the key developments: You can read more in our latest news story here. Want to dig a bit deeper on the new post-Brexit deal? Look here. And finally, here\\'s our simple guide on the Northern Ireland Protocol. Today\\\\u2019\", \"session_id\": 1}, \"8\": {\"rank\": 8, \"doc_id\": 257, \"score\": 0.5091735163939375, \"url\": \"https://www.bbc.com/news/uk-northern-ireland-64773708\", \"text\": \"NI Protocol: Questions to ask about a possible new deal The UK and EU are on the brink of an agreement which would reform the Northern Ireland Protocol. The protocol is the part of the Brexit deal which sets Northern Ireland\\'s trade rules. It keeps Northern Ireland inside the EU\\'s single market for goods. That keeps the Irish land border open but means products arriving into NI from the rest of the UK are subject to checks and controls. How green is the green lane? The UK and EU have long agreed that British goods which are staying in Northern Ireland should be subject to fewer checks and cont\", \"session_id\": 1}, \"9\": {\"rank\": 9, \"doc_id\": 1535, \"score\": 0.5069178872246354, \"url\": \"https://www.bbc.com/news/uk-politics-64802929\", \"text\": \"Invest in Northern Ireland to get single market access, says Andrea Leadsom Companies in Great Britain that want access to the EU single market should invest in Northern Ireland, senior Tory MP Andrea Leadsom has said. Northern Ireland firms will continue to be part of the single market under Rishi Sunak\\'s Brexit deal with the EU. The PM says it will create \\\\\"the world\\'s most exciting economic zone\\\\\". But the SNP accused him of \\\\\"moonlighting as a Remainer\\\\\" and putting Scotland at a \\\\\"competitive disadvantage\\\\\". Ms Leadsom, a leading Brexiteer, said the deal gives Northern Ireland a \\\\\"unique opportu\", \"session_id\": 1}, \"10\": {\"rank\": 10, \"doc_id\": 1877, \"score\": 0.5000919710250191, \"url\": \"https://www.bbc.com/news/uk-northern-ireland-64718730\", \"text\": \"Good Friday Agreement: Who wants to tell the \\'truth\\' about NI\\'s past? It is almost 25 years since the signing of the Good Friday Agreement, the peace deal that brought an end to the Troubles - in the coming weeks, BBC News NI across our news website, TV and radio, will be looking back at the historic deal, speaking to the key players and reflecting on how the agreement continues to shape Northern Ireland. Take the legacy of the Troubles - an issue that dominates hearts and minds in 2023. A controversial UK government bill going through Westminster is offering conditional amnesties to perpetrat\", \"session_id\": 1}}'"
      ]
     },
     "execution_count": 6,
     "metadata": {},
     "output_type": "execute_result"
    }
   ],
   "source": [
    "json.dumps(out_data)"
   ]
  },
  {
   "cell_type": "code",
   "execution_count": 10,
   "id": "bece1a8c",
   "metadata": {},
   "outputs": [
    {
     "data": {
      "text/plain": [
       "'{\"1\": {\"rank\": 1, \"doc_id\": 1610, \"score\": 5.756529688123202, \"url\": \"https://www.bbc.com/news/uk-england-london-64803166\", \"text\": \"Tube strike: RMT announces London Underground walk out More London Underground staff are to strike on 15 March, Budget Day, a transport workers\\' union has announced. The RMT has announced the walkout, which is in a dispute over pensions, job losses and contractual agreements. Members will walk out on the same day that Aslef members are striking on the Tube network. A spokesperson for Transport for London (TfL) said: \\\\\"We have not proposed changes to anyone\\'s pensions.\\\\\" But the RMT\\'s general secretary Mick Lynch said: \\\\\"Our members will never accept job losses, attacks on their pensions or change\", \"session_id\": 1}, \"2\": {\"rank\": 2, \"doc_id\": 906, \"score\": 5.699376436595253, \"url\": \"https://www.bbc.com/news/uk-northern-ireland-64795902\", \"text\": \"Brexit: What is the Stormont brake? This video can not be played Watch: How would the Stormont brake work? First came the backstop, then the protocol, now we can expect to hear a lot more about the \\\\\"Stormont brake\\\\\" as it is added to the Brexit lexicon. But could the aforementioned brake being hailed by Rishi Sunak in his new Brexit deal end the year-long break in devolved government in Northern Ireland? The plan aims to give a future Northern Ireland Assembly a greater say on how EU laws apply to Northern Ireland - a key demand of the Democratic Unionist Party\\'s before it will end its boycott \", \"session_id\": 1}, \"3\": {\"rank\": 3, \"doc_id\": 1747, \"score\": 5.605257905488272, \"url\": \"https://www.bbc.com/news/uk-england-london-64811855\", \"text\": \"London: Three in 10 miss out on first-choice secondary school Three in 10 children in London missed out on a place at their top choice of secondary school. Lambeth, in south London, had the lowest proportion of children getting their top choice, at 61.56%. The number of applications for places at secondary schools in the capital fell slightly this year. Families leaving London due to different working patterns has played a part in this drop, councils have said. Overall, 69.78% of pupils who applied to start at a London secondary school this autumn received an offer from their first preference,\", \"session_id\": 1}, \"4\": {\"rank\": 4, \"doc_id\": 1349, \"score\": 5.376870428890802, \"url\": \"https://www.bbc.com/news/uk-england-kent-64809801\", \"text\": \"London ULEZ: Dartford vicar says expansion will hit mourners A vicar has described the expansion of London\\'s ultra-low emission zone (ULEZ) as \\\\\"a tax on friendship\\\\\" for mourners wanting to attend funerals in London. From 29 August drivers of the most polluting vehicles will pay \\\\u00c2\\\\u00a312.50 a day to drive into Greater London. The Reverend Carl Chambers, vicar of St Michael and All Angels in Wilmington, Kent, called it \\\\\"a kick in the guts\\\\\". The Mayor of London said the expansion is needed to tackle the 4,000 deaths a year due to air pollution. Mr Chambers said: \\\\\"I think it\\'s a kick in the guts, a pu\", \"session_id\": 1}, \"5\": {\"rank\": 5, \"doc_id\": 1329, \"score\": 4.812363375680443, \"url\": \"https://www.bbc.com/news/uk-england-london-64809875\", \"text\": \"Oxford Street partially closed after man attacked on bus A man is in a critical condition after being attacked on a bus on Oxford Street. Part of the central London street remains cordoned off around a Number 94 bus, where the assault happened at about 22:15 GMT on Tuesday. Police say the passenger, 25, suffered head injuries after becoming involved in an argument with another man. Det Ch Insp Michael Dougall said it was believed the victim sustained his injuries as a result of blunt force. No arrests have been made but, in an update, the Met Police said officers were searching for a suspect w\", \"session_id\": 1}, \"6\": {\"rank\": 6, \"doc_id\": 1825, \"score\": 4.559988729751198, \"url\": \"https://www.bbc.com/news/uk-england-bristol-64744458\", \"text\": \"Bristol woman to run London Marathon in memory of brain tumour victim A woman who lost a friend to a brain tumour is training to run the London Marathon in her memory.  Julie Middleton, 65, from Bristol, was part of a friendship group of women who called themselves \\'The Gazelles\\'. Her best friend Sophie Slingsby died with a glioblastoma in August 2017. \\\\\"Sophie was the peacemaker and the map reader of our group. We loved her and we miss her,\\\\\" Ms Middleton said. She will run the marathon in aid of Brain Tumour Research.  Ms Slingsby\\'s illness was revealed after she had an MRI scan at Southmead H\", \"session_id\": 1}, \"7\": {\"rank\": 7, \"doc_id\": 1483, \"score\": 4.15910602546774, \"url\": \"https://www.bbc.com/news/uk-politics-64811140\", \"text\": \"PMQs: Sunak quizzed on claims of leaked Hancock messages This video can not be played Sir Keir Starmer said politicians writing books about Covid and leaking messages was \\\\u00e2\\\\u0080\\\\u009cinsulting\\\\u00e2\\\\u0080\\\\u009d and a \\\\u00e2\\\\u0080\\\\u009cghoulish spectacle\\\\u00e2\\\\u0080\\\\u009d. He was referencing newspaper claims of leaked messages about former Health Secretary Matt Hancock. Rishi Sunak paid tribute to health workers, adding the Covid inquiry should do its work rather than him commenting on \\\\\"piecemeal bits of information\\\\\". A spokesman for Mr Hancock has said the messages had been \\\\\"doctored\\\\\" to create a false story which is \\\\\"flat wrong\\\\\". Matt Hancock di\", \"session_id\": 1}, \"8\": {\"rank\": 8, \"doc_id\": 357, \"score\": 4.055952028460194, \"url\": \"https://www.bbc.com/news/uk-politics-64780244\", \"text\": \"NI Protocol: Final talks on Brexit deal due - No 10 Rishi Sunak and the European Commission president are due to hold \\\\\"final talks\\\\\" on a new post-Brexit deal for Northern Ireland on Monday, Downing Street says. The prime minister and Ursula von der Leyen will meet in Berkshire in the afternoon to discuss \\\\\"complex challenges\\\\\" around the protocol. The UK wants to change the current agreement - which sees some goods checked when entering Northern Ireland from the rest of Great Britain. A new deal has been expected for days. Deputy Prime Minister Dominic Raab earlier said the UK and EU were \\\\\"on th\", \"session_id\": 1}, \"9\": {\"rank\": 9, \"doc_id\": 235, \"score\": 3.9505586548135474, \"url\": \"https://www.bbc.com/news/uk-politics-64773214\", \"text\": \"Northern Ireland Protocol: Sunak \\'giving it everything\\' to reach Brexit deal Rishi Sunak says he is \\\\\"giving it everything\\\\\" this weekend to secure a new Brexit deal for Northern Ireland, and he wants \\\\\"to get the job done\\\\\". But the prime minister said no agreement had yet been made between the UK and the European Union.  Deputy PM Dominic Raab told the BBC the UK was close to a deal.  He said: \\\\\"If we can get this over the line - we\\'re on the cusp, we\\'ve made great progress, we\\'re not there yet - this would be a really important deal.\\\\\" Irish Prime Minister Leo Varadkar said the deal over trade be\", \"session_id\": 1}, \"10\": {\"rank\": 10, \"doc_id\": 857, \"score\": 3.9088421001706903, \"url\": \"https://www.bbc.com/news/uk-northern-ireland-64794091\", \"text\": \"Brexit: Pressure builds on DUP over new deal The Democratic Unionist Party (DUP) has been urged by other Stormont parties to get back in government following the announcement of the Windsor Framework. The party is boycotting devolved government until concerns about post-Brexit trading arrangements are fixed. A new EU-UK agreement was announced on Monday, which PM Rishi Sunak said would make Northern Ireland \\\\\"the world\\'s most exciting economic zone\\\\\". The DUP said it would take time to come to a \\\\\"collective decision\\\\\". On Tuesday, its party leader Sir Jeffrey Donaldson added: \\\\\"I see opportunity o\", \"session_id\": 1}}'"
      ]
     },
     "execution_count": 10,
     "metadata": {},
     "output_type": "execute_result"
    }
   ],
   "source": [
    "json.dumps(out_data_bm25)"
   ]
  },
  {
   "cell_type": "code",
   "execution_count": 4,
   "id": "6ba6f24b",
   "metadata": {},
   "outputs": [],
   "source": [
    "import json"
   ]
  },
  {
   "cell_type": "code",
   "execution_count": null,
   "id": "a9665c65",
   "metadata": {},
   "outputs": [],
   "source": []
  }
 ],
 "metadata": {
  "kernelspec": {
   "display_name": "Python 3 (ipykernel)",
   "language": "python",
   "name": "python3"
  },
  "language_info": {
   "codemirror_mode": {
    "name": "ipython",
    "version": 3
   },
   "file_extension": ".py",
   "mimetype": "text/x-python",
   "name": "python",
   "nbconvert_exporter": "python",
   "pygments_lexer": "ipython3",
   "version": "3.10.7"
  }
 },
 "nbformat": 4,
 "nbformat_minor": 5
}
