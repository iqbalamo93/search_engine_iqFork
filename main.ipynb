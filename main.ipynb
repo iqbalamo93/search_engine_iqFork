{
 "cells": [
  {
   "cell_type": "code",
   "execution_count": 294,
   "id": "44c48e21",
   "metadata": {},
   "outputs": [],
   "source": [
    "import json\n",
    "from fastapi import FastAPI\n",
    "import gensim\n",
    "\n",
    "import scipy\n",
    "\n",
    "import sys\n",
    "sys.path.append('./models')\n",
    "\n",
    "from fastapi.middleware.cors import CORSMiddleware\n",
    "\n",
    "import pickle \n",
    "import os\n",
    "import glob"
   ]
  },
  {
   "cell_type": "code",
   "execution_count": 2,
   "id": "9522a591",
   "metadata": {},
   "outputs": [],
   "source": [
    "from rank_bm25 import BM25Okapi\n",
    "from pymongo import MongoClient\n",
    "import psycopg2\n",
    "\n",
    "# Connect to the PostgreSQL database\n",
    "conn = psycopg2.connect(\n",
    "    host=\"localhost\",\n",
    "    database=\"SearchEngine\",\n",
    "    user=\"postgres\",\n",
    "    password=\"2580\"\n",
    ")\n",
    "\n",
    "# Create a cursor object\n",
    "cursor = conn.cursor()\n"
   ]
  },
  {
   "cell_type": "code",
   "execution_count": 3,
   "id": "ea1e15de",
   "metadata": {},
   "outputs": [],
   "source": [
    "app = FastAPI()\n",
    "\n",
    "origins = [\n",
    "    \"http://localhost.tiangolo.com\",\n",
    "    \"https://localhost.tiangolo.com\",\n",
    "    \"http://localhost\",\n",
    "    \"http://localhost:8080\",\n",
    "]\n",
    "\n",
    "app.add_middleware(\n",
    "    CORSMiddleware,\n",
    "    allow_origins=origins,\n",
    "    allow_credentials=True,\n",
    "    allow_methods=[\"*\"],\n",
    "    allow_headers=[\"*\"],\n",
    ")"
   ]
  },
  {
   "cell_type": "code",
   "execution_count": null,
   "id": "39585cc1",
   "metadata": {},
   "outputs": [],
   "source": []
  },
  {
   "cell_type": "code",
   "execution_count": 65,
   "id": "9eff9915",
   "metadata": {},
   "outputs": [],
   "source": [
    "user_input = 'London Rishi'"
   ]
  },
  {
   "cell_type": "code",
   "execution_count": 66,
   "id": "01bd1d7a",
   "metadata": {},
   "outputs": [],
   "source": [
    "client = MongoClient('mongodb://localhost:27017/')\n",
    "# select a database\n",
    "db = client['inverted_index']\n",
    "mycollection = db['inverted_index']"
   ]
  },
  {
   "cell_type": "code",
   "execution_count": 255,
   "id": "e98a5968",
   "metadata": {},
   "outputs": [],
   "source": [
    "words = user_input.split()"
   ]
  },
  {
   "cell_type": "code",
   "execution_count": 256,
   "id": "69bff9f4",
   "metadata": {},
   "outputs": [
    {
     "data": {
      "text/plain": [
       "['London', 'Rishi']"
      ]
     },
     "execution_count": 256,
     "metadata": {},
     "output_type": "execute_result"
    }
   ],
   "source": [
    "words"
   ]
  },
  {
   "cell_type": "code",
   "execution_count": 267,
   "id": "7e073820",
   "metadata": {},
   "outputs": [
    {
     "name": "stdout",
     "output_type": "stream",
     "text": [
      "London [10, 23, 43, 56, 102, 110, 117, 124, 180, 183, 212, 215, 217, 235, 257, 283, 286, 290, 291, 346, 357, 380, 388, 395, 397, 404, 407, 422, 424, 443, 466, 475, 482, 501, 515, 519, 523, 528, 530, 541, 553, 606, 613, 620, 680, 710, 713, 715, 734, 755, 781, 784, 787, 788, 844, 855, 877, 892, 894, 900, 903, 906, 917, 921, 923, 965, 980, 998, 1013, 1018, 1026, 1027, 1038, 1050, 1096, 1104, 1111, 1119, 1175, 1178, 1208, 1211, 1213, 1231, 1253, 1279, 1282, 1285, 1286, 1315, 1348, 1382, 1402, 1420, 1423, 1473, 1479, 1513, 1519, 1551, 1641, 1741, 1746, 1829, 1907]\n",
      "Rishi [5, 39, 81, 146, 192, 267, 354, 381, 490, 506, 508, 526, 536, 578, 642, 689, 852, 857, 878, 988, 1003, 1005, 1024, 1033, 1075, 1141, 1188, 1263, 1309, 1310, 1311, 1315, 1317, 1322, 1324, 1325, 1329, 1332, 1335, 1338, 1339, 1341, 1342, 1346, 1348, 1349, 1350, 1355, 1356, 1359, 1365, 1367, 1368, 1371, 1372, 1373, 1381, 1386, 1389, 1392, 1395, 1396, 1397, 1398, 1401, 1402, 1403, 1404, 1405, 1411, 1412, 1413, 1417, 1419, 1423, 1424, 1425, 1432, 1438, 1439, 1444, 1449, 1452, 1456, 1459, 1464, 1465, 1466, 1467, 1468, 1470, 1474, 1475, 1481, 1483, 1484, 1487, 1493, 1498, 1502, 1504, 1505, 1509, 1510, 1512, 1515, 1516, 1518, 1519, 1520, 1530, 1533, 1535, 1541, 1545, 1551, 1553, 1559, 1569, 1570, 1574, 1576, 1577, 1581, 1585, 1590, 1594, 1598, 1600, 1606, 1607, 1609, 1610, 1613, 1616, 1617, 1630, 1636, 1647, 1648, 1649, 1652, 1655, 1660, 1663, 1672, 1676, 1679, 1683, 1686, 1687, 1689, 1691, 1700, 1701, 1703, 1709, 1710, 1712, 1714, 1715, 1716, 1718, 1728, 1729, 1730, 1733, 1734, 1735, 1740, 1741, 1743, 1744, 1747, 1748, 1756, 1759, 1760, 1762, 1766, 1768, 1769, 1770, 1774, 1776, 1777, 1781, 1786, 1787, 1789, 1790, 1792, 1797, 1805, 1817, 1819, 1821, 1825, 1828, 1838, 1842, 1845, 1846, 1847, 1848, 1851, 1853, 1854, 1858, 1861, 1862, 1876, 1877, 1878, 1880, 1885, 1886, 1888, 1891, 1892, 1897, 1898, 1899, 1900, 1906, 1910, 1911]\n"
     ]
    }
   ],
   "source": [
    "words = user_input.split()\n",
    "\n",
    "rel_docs = set()\n",
    "for word in words:\n",
    "    myquery = {\"word\": word}\n",
    "    results  = mycollection.find(myquery)\n",
    "    for result in results:\n",
    "        docs = result['doc_ids']\n",
    "        print(word,docs)\n",
    "        rel_docs.update(docs)"
   ]
  },
  {
   "cell_type": "code",
   "execution_count": 269,
   "id": "2a6f717c",
   "metadata": {},
   "outputs": [
    {
     "data": {
      "text/plain": [
       "325"
      ]
     },
     "execution_count": 269,
     "metadata": {},
     "output_type": "execute_result"
    }
   ],
   "source": [
    "len(rel_docs)"
   ]
  },
  {
   "cell_type": "code",
   "execution_count": 371,
   "id": "556cd017",
   "metadata": {},
   "outputs": [],
   "source": [
    "def reated_documents(user_input):\n",
    "    words = user_input.split()\n",
    "    rel_docs = set()\n",
    "    for word in words:\n",
    "        myquery = {\"word\": word}\n",
    "        results  = mycollection.find(myquery)\n",
    "        for result in results:\n",
    "            docs = result['doc_ids']\n",
    "            rel_docs.update(docs)\n",
    "            \n",
    "    return list(rel_docs)"
   ]
  },
  {
   "cell_type": "code",
   "execution_count": 273,
   "id": "5cf4f87f",
   "metadata": {},
   "outputs": [
    {
     "name": "stdout",
     "output_type": "stream",
     "text": [
      "['London', 'Rishi']\n",
      "London\n",
      "Rishi\n"
     ]
    },
    {
     "data": {
      "text/plain": [
       "325"
      ]
     },
     "execution_count": 273,
     "metadata": {},
     "output_type": "execute_result"
    }
   ],
   "source": [
    "len(reated_documents('London Rishi'))"
   ]
  },
  {
   "cell_type": "code",
   "execution_count": 265,
   "id": "420d3d06",
   "metadata": {},
   "outputs": [],
   "source": [
    "rel_docs = list(rel_docs)"
   ]
  },
  {
   "cell_type": "code",
   "execution_count": 266,
   "id": "d4abf9ca",
   "metadata": {},
   "outputs": [
    {
     "data": {
      "text/plain": [
       "325"
      ]
     },
     "execution_count": 266,
     "metadata": {},
     "output_type": "execute_result"
    }
   ],
   "source": [
    "len(rel_docs)"
   ]
  },
  {
   "cell_type": "code",
   "execution_count": 72,
   "id": "d1b1d842",
   "metadata": {},
   "outputs": [],
   "source": [
    "documents  = []\n",
    "urls = []\n",
    "for idx in rel_docs:\n",
    "    query = f\"SELECT * FROM sites where id = {idx};\"\n",
    "    cursor.execute(query)\n",
    "    results = cursor.fetchall()\n",
    "    for row in results:\n",
    "        doc_id = row[0]\n",
    "        url = row[1]\n",
    "        urls.append(url)\n",
    "        text = row[2]\n",
    "        documents.append(text)"
   ]
  },
  {
   "cell_type": "code",
   "execution_count": 73,
   "id": "7028393f",
   "metadata": {},
   "outputs": [],
   "source": [
    "tokenized_corpus = [doc.split(\" \") for doc in documents]\n",
    "bm25 = BM25Okapi(tokenized_corpus)\n"
   ]
  },
  {
   "cell_type": "code",
   "execution_count": 74,
   "id": "94d84c53",
   "metadata": {},
   "outputs": [],
   "source": [
    "tokenized_query = words\n",
    "doc_scores = bm25.get_scores(tokenized_query)\n",
    "doc_scores = doc_scores.argsort()[::-1]"
   ]
  },
  {
   "cell_type": "code",
   "execution_count": 75,
   "id": "723516d0",
   "metadata": {},
   "outputs": [
    {
     "data": {
      "text/plain": [
       "array([226,  80, 269, 134, 125, 293, 187,  27,  18,  73,  93, 262, 273,\n",
       "        67, 132, 206, 194, 176, 292, 265, 275, 189, 100, 317, 270,   5,\n",
       "       110, 111, 106, 112, 109, 108,  87,  86,  85, 107,  94,  88,  95,\n",
       "       104, 103,  89, 102,  90, 101, 113,  99,  91,  98,  97,  92,  96,\n",
       "       105, 324, 114, 144, 137, 138, 139, 140, 141, 142, 143, 145, 115,\n",
       "       146, 147, 148, 149, 150, 151, 152, 136, 135, 133, 131, 116, 117,\n",
       "        83, 118, 119, 120, 121, 122, 123, 124, 126, 127, 128, 129, 130,\n",
       "        84,  75,  82,  30,  22,  23,  24,  25,  26,  28,  29,  31,  40,\n",
       "        32,  33,  34,  35,  36,  37,  38,  21,  20,  19,  17,   1,   2,\n",
       "         3,   4,   6,   7,   8,   9,  10,  11,  12,  13,  14,  15,  16,\n",
       "        39,  41,  81,  70,  62,  63,  64,  65,  66,  68,  69,  71,  42,\n",
       "        72,  74, 154,  76,  77,  78,  79,  61,  60,  59,  58,  43,  44,\n",
       "        45,  46,  47,  48,  49,  50,  51,  52,  53,  54,  55,  56,  57,\n",
       "       153, 162, 155, 268, 259, 260, 261, 263, 264, 266, 267, 271, 282,\n",
       "       272, 274, 276, 277, 278, 279, 280, 258, 257, 256, 255, 240, 241,\n",
       "       242, 243, 244, 245, 246, 247, 248, 249, 250, 251, 252, 253, 254,\n",
       "       281, 283, 156, 313, 306, 307, 308, 309, 310, 311, 312, 314, 284,\n",
       "       315, 316, 318, 319, 320, 321, 322, 305, 304, 303, 302, 285, 286,\n",
       "       287, 288, 289, 290, 291, 294, 295, 296, 297, 298, 299, 300, 301,\n",
       "       239, 238, 237, 184, 177, 178, 179, 180, 181, 182, 183, 185, 236,\n",
       "       186, 188, 190, 191, 192, 193, 195, 175, 174, 173, 172, 157, 158,\n",
       "       159, 160, 161, 323, 163, 164, 165, 166, 167, 168, 169, 170, 171,\n",
       "       196, 197, 198, 218, 220, 221, 222, 223, 224, 225, 227, 228, 229,\n",
       "       230, 231, 232, 233, 234, 235, 219, 217, 199, 216, 200, 201, 202,\n",
       "       203, 204, 205, 207, 208, 209, 210, 211, 212, 213, 214, 215,   0],\n",
       "      dtype=int64)"
      ]
     },
     "execution_count": 75,
     "metadata": {},
     "output_type": "execute_result"
    }
   ],
   "source": [
    "doc_scores"
   ]
  },
  {
   "cell_type": "code",
   "execution_count": 76,
   "id": "127d2488",
   "metadata": {},
   "outputs": [
    {
     "data": {
      "text/plain": [
       "23"
      ]
     },
     "execution_count": 76,
     "metadata": {},
     "output_type": "execute_result"
    }
   ],
   "source": [
    "rel_docs[2]"
   ]
  },
  {
   "cell_type": "code",
   "execution_count": 57,
   "id": "d4963562",
   "metadata": {},
   "outputs": [],
   "source": [
    "out_data = {}\n",
    "for idx,score_id in enumerate(doc_scores,start=1):\n",
    "    doc_id = rel_docs[score_id]\n",
    "    url = urls[score_id]\n",
    "    text = documents[score_id][:200]\n",
    "    out_data.update({idx:{'rank':idx,'doc_id':doc_id,'url':url,'text':text }})"
   ]
  },
  {
   "cell_type": "code",
   "execution_count": 58,
   "id": "5570ea20",
   "metadata": {
    "scrolled": true
   },
   "outputs": [
    {
     "data": {
      "text/plain": [
       "3"
      ]
     },
     "execution_count": 58,
     "metadata": {},
     "output_type": "execute_result"
    }
   ],
   "source": [
    "len(out_data)"
   ]
  },
  {
   "cell_type": "code",
   "execution_count": 59,
   "id": "fe4f1c76",
   "metadata": {},
   "outputs": [],
   "source": [
    "json_data = json.dumps(out_data)"
   ]
  },
  {
   "cell_type": "code",
   "execution_count": 60,
   "id": "46fe1fc5",
   "metadata": {},
   "outputs": [
    {
     "data": {
      "text/plain": [
       "'{\"1\": {\"rank\": 1, \"doc_id\": 630, \"url\": \"https://www.bbc.com/sport/rugby-union/64760101\", \"text\": \"Premiership: Exeter Chiefs 24-22 Sale Sharks- Josh Hodge double helps home side to victory  Last updated on 26 February 202326 February 2023.From the section Rugby Union Josh Hodge\\'s two first-half tr\"}, \"2\": {\"rank\": 2, \"doc_id\": 133, \"url\": \"https://www.bbc.com/news/england/lincolnshire\", \"text\": \"BBC News Lincolnshire  Sir Edward Leigh says RAF Scampton could be used as part of efforts to move migrants from hotels. Emma Parker is jailed for 12 months for the \\\\\"abhorrent\\\\\" cruelty filmed at her h\"}, \"3\": {\"rank\": 3, \"doc_id\": 1128, \"url\": \"https://www.bbc.com/sport/articles/c04p0r0ly8lo\", \"text\": \"Dyche on scoring goals, away form and Arsenal Joe Bradshaw, BBC Sport Sean Dyche has been speaking to the media before Everton\\\\u00e2\\\\u0080\\\\u0099s game at Arsenal on Wednesday. Here are the key lines from his news co\"}}'"
      ]
     },
     "execution_count": 60,
     "metadata": {},
     "output_type": "execute_result"
    }
   ],
   "source": [
    "json_data"
   ]
  },
  {
   "cell_type": "code",
   "execution_count": 62,
   "id": "d0386e93",
   "metadata": {},
   "outputs": [],
   "source": [
    "doc_id = rel_docs[2]"
   ]
  },
  {
   "cell_type": "code",
   "execution_count": 63,
   "id": "dd278d10",
   "metadata": {},
   "outputs": [
    {
     "data": {
      "text/plain": [
       "630"
      ]
     },
     "execution_count": 63,
     "metadata": {},
     "output_type": "execute_result"
    }
   ],
   "source": [
    "doc_id"
   ]
  },
  {
   "cell_type": "code",
   "execution_count": 64,
   "id": "b607be51",
   "metadata": {},
   "outputs": [
    {
     "name": "stdout",
     "output_type": "stream",
     "text": [
      "(630, 'https://www.bbc.com/sport/rugby-union/64760101', 'Premiership: Exeter Chiefs 24-22 Sale Sharks- Josh Hodge double helps home side to victory  Last updated on 26 February 202326 February 2023.From the section Rugby Union Josh Hodge\\'s two first-half tries helped Exeter beat Sale in a thrilling Premiership encounter at Sandy Park. Tom Roebuck\\'s outstanding solo try put Sale 10-0 up, but Harry Williams and Hodge\\'s two excellent scores with Sharks down to 13 men put Exeter ahead.  Ewan Ashman\\'s try cut the gap as Sale started the second half well.  They continued to up the pressure and took the lead with 13 minutes to go through Sam Dugdale, before Harvey Skinner\\'s penalty won it for Exeter. The victory moves Exeter up to fifth place in the Premiership, a point off fourth-placed Gloucester with a game in hand, while Sale remain second and 11 points behind Saracens after earning a losing bonus point.  Having weathered an early wave of Exeter pressure, Sale began to assert themselves and Rob du Preez converted a penalty after Harvey Skinner was sin-binned for a high tackle. Roebuck then picked up the ball on halfway and carved his way through the short-handed home defence with ease for Sale\\'s first touchdown. But with 15 men back on the pitch, Exeter\\'s attack clicked into gear, and after a wave of pressure on the Sale line, Williams was forced over as the Sharks had Sam Dugdale sin-binned during the build-up.  The visitors went down to what would prove to be a game-changing 13 men when Bevan Rodd saw yellow for killing the ball after an excellent break by Hodge - although Sharks should have pulled further ahead when Tom O\\'Flaherty knocked on as he bore down on Chiefs\\' line after a handling error in midfield. Hodge\\'s superb open-field running against an outnumbered defence proved to be Sale\\'s undoing as they could not find the manpower to cover the full-back as nine phases ended with a three-pass move to the 22-year-old as he gave Exeter a 33rd-minute lead. The former England Under-20s player added his second try by slaloming in from 35 metres two minutes later.   Sale upped their game after the break as they took command of territory and possession and they were rewarded 10 minutes in when Ashman went over after Dugdale\\'s good break set up the field position. Left out by England, fly-half George Ford started to become more influential and one cross-field kick needed a superb interception by Olly Woodburn to stop an almost-certain try, while Raffi Quirke almost converted from a second with 17 minutes left as they continued to pile pressure on a tiring home defence.   Sale broke through four minutes later as Dugdale went over a couple of phases after a quick tap penalty, but Skinner put Exeter two points up with a penalty shortly after.  Chiefs thought they might have clinched it when Olly Woodburn went over in the left corner, but replays showed he put a foot in touch under pressure from a Sale defender.  Sale\\'s defence was again superb a few minutes later as they repelled 15 phases of pressure on their own try-line before forcing a knock on - but they could not gain the ground they needed and Exeter held on for an impressive win that was greeted by a rapturous home crowd.   Exeter head coach Ali Hepher told BBC Sport:  \"I\\'m pleased to get out of it with the win, we probably would liked to have taken charge of that game a little bit earlier, especially after the first half performance into the wind, to go in well up was outstanding. \"But the second half when we had our opportunities to take hold of the game we didn\\'t really do that and they managed to squeeze us, and they got us into a bit of a kick battle inside our own half and we could never really break it. \"We\\'ve got to be a little bit smarter on how we kick, and kick a little bit quicker and try to turn them so we can take advantage of that field position.  \"As soon as we got a sniff we jumped all over it and we played space well and we got mismatched and scored tries off the back if it, but we put them under pressure to give up those penalties and those yellow cards.  \"I\\'m pleased with that, but it would have been nice to have finished it a little bit better in the second half.\" Sale forwards coach Dorian West told BBC Sport:  \"We talked about it a lot in the week coming here that discipline was going to be massive - discipline and territory when you play Exeter are the key to winning the game. \"We started off the game particularly poorly and gave some unnecessary penalties away and it put us under pressure. \"We scored a couple of good scores early on, but as soon as Exeter managed to keep the ball for any period of time - we gave five penalties away in a couple of minutes at one stage - it seemed to be one after the next. \"We talked about it at half time and I think we had a massive improvement second half - the spirit and character the lads showed second half was outstanding and we could have nicked it in the end.\"  Exeter Chiefs: Hodge; Nowell (capt), Whitten, Kata, Woodburn; Skinner, S Maunder; Sio, Innard, Williams, Kirsten, Dunne, Ewers, Vermeulen, S Simmonds. Replacements: Yeandle, Southworth, Schickerling, Williams, Davis, J Maunder, J Simmonds, Hendrickson. Sale Sharks: Carpenter; Roebuck, R du Preez, Mills, O\\'Flaherty; Ford, Warr; Rodd, Ashman, Oosthuizen, Wiese, Hill, Ross (capt), Dugdale, J-L du Preez. Replacements: Caine, McIntyre, Jones, Groves, Beaumont, Quirke, S James, Reed.  Referee: Luke Pearce. The Mormons Are Coming follows young missionaries during their make or break training Back from the Caribbean, DI Humphrey Goodman returns to crack more cases in Beyond Paradise Enter the world of the social media personality’s multi-level marketing scheme and webcam business                                ', None)\n"
     ]
    }
   ],
   "source": [
    "query = f\"SELECT * FROM sites where id = {doc_id};\"\n",
    "cursor.execute(query)\n",
    "results = cursor.fetchall()\n",
    "for row in results:\n",
    "    print(row)"
   ]
  },
  {
   "cell_type": "code",
   "execution_count": null,
   "id": "810729b8",
   "metadata": {},
   "outputs": [],
   "source": []
  },
  {
   "cell_type": "markdown",
   "id": "cfd13821",
   "metadata": {},
   "source": [
    "## TESTING WORD2VWC"
   ]
  },
  {
   "cell_type": "markdown",
   "id": "65919477",
   "metadata": {},
   "source": [
    "As mentioned in the DESM paper, we compute the centroid of documents and compute the cosine similarity of the query words with document centroid."
   ]
  },
  {
   "cell_type": "code",
   "execution_count": 221,
   "id": "de6af299",
   "metadata": {},
   "outputs": [],
   "source": [
    "query = f\"SELECT content FROM sites;\"\n",
    "cursor.execute(query)\n",
    "results = cursor.fetchall()\n"
   ]
  },
  {
   "cell_type": "code",
   "execution_count": 222,
   "id": "357f521a",
   "metadata": {},
   "outputs": [],
   "source": [
    "# (results)"
   ]
  },
  {
   "cell_type": "code",
   "execution_count": 19,
   "id": "2f964b70",
   "metadata": {},
   "outputs": [
    {
     "name": "stderr",
     "output_type": "stream",
     "text": [
      "[nltk_data] Downloading package stopwords to\n",
      "[nltk_data]     C:\\Users\\iq\\AppData\\Roaming\\nltk_data...\n",
      "[nltk_data]   Package stopwords is already up-to-date!\n",
      "[nltk_data] Downloading package punkt to\n",
      "[nltk_data]     C:\\Users\\iq\\AppData\\Roaming\\nltk_data...\n",
      "[nltk_data]   Package punkt is already up-to-date!\n",
      "[nltk_data] Downloading package gutenberg to\n",
      "[nltk_data]     C:\\Users\\iq\\AppData\\Roaming\\nltk_data...\n",
      "[nltk_data]   Package gutenberg is already up-to-date!\n"
     ]
    }
   ],
   "source": [
    "import nltk\n",
    "nltk.download('stopwords')\n",
    "nltk.download('punkt')\n",
    "nltk.download('gutenberg')\n",
    "import string\n",
    "from nltk.corpus import stopwords\n",
    "from nltk import word_tokenize\n",
    "from gensim.models import Word2Vec as w2v\n"
   ]
  },
  {
   "cell_type": "code",
   "execution_count": 20,
   "id": "d84ccd74",
   "metadata": {},
   "outputs": [],
   "source": [
    "sw = stopwords.words('English') # this is a list of stopwords\n",
    "# Function to remove stopwords per line if they are present in the line\n",
    "def rem_stops_line(line, words):\n",
    "    if len(line) >1:\n",
    "        return [w for w in line if w not in words]\n",
    "    else:\n",
    "        return line\n",
    "\n",
    "# Remove stop words for an entire text. Separate functions make it easier to parallelize if required.\n",
    "def remove_stops(text, words = sw):\n",
    "    return [rem_stops_line(line, words) for line in text]"
   ]
  },
  {
   "cell_type": "code",
   "execution_count": 21,
   "id": "368775eb",
   "metadata": {},
   "outputs": [],
   "source": [
    "lines = [line[0].rstrip('\\n').lower() for line in results]"
   ]
  },
  {
   "cell_type": "code",
   "execution_count": 22,
   "id": "93b9c9b1",
   "metadata": {},
   "outputs": [],
   "source": [
    "lines = [line.translate(str.maketrans('', '', string.punctuation)) for line in lines]\n",
    "lines = [word_tokenize(line) for line in lines]\n",
    "filtered_lines = remove_stops(text = lines, words = sw)"
   ]
  },
  {
   "cell_type": "code",
   "execution_count": null,
   "id": "93a67c09",
   "metadata": {},
   "outputs": [],
   "source": [
    "words = set()\n",
    "for line in filtered_lines:\n",
    "    for word in line:\n",
    "        words.add(word)\n",
    "len(words)"
   ]
  },
  {
   "cell_type": "code",
   "execution_count": 186,
   "id": "3dd040a4",
   "metadata": {},
   "outputs": [],
   "source": [
    "model1 = w2v(\n",
    "    filtered_lines,\n",
    "    min_count=3,\n",
    "    sg = 1,       # 1 for skip-gram, 0 for cbow\n",
    "    window=7   # sliding window size\n",
    ")\n"
   ]
  },
  {
   "cell_type": "code",
   "execution_count": 187,
   "id": "8d12bc94",
   "metadata": {},
   "outputs": [],
   "source": [
    "# print(w.wv.most_similar('nhs'))\n",
    "# "
   ]
  },
  {
   "cell_type": "code",
   "execution_count": 188,
   "id": "348068da",
   "metadata": {},
   "outputs": [],
   "source": [
    "model1.save('./models/w2v-lc.model')\n",
    "model1.wv.save_word2vec_format('./models/w2v-lc.model.bin', binary=True)\n",
    "\n",
    "vocab =  model1.wv.key_to_index\n",
    "\n",
    "with open('./models/w2v-lc-vocab.json', 'w') as f:\n",
    "    f.write(json.dumps(vocab))"
   ]
  },
  {
   "cell_type": "code",
   "execution_count": 190,
   "id": "5f87b223",
   "metadata": {},
   "outputs": [
    {
     "data": {
      "text/plain": [
       "[('sunak', 0.5008801817893982),\n",
       " ('ministers', 0.45453718304634094),\n",
       " ('sunaks', 0.43160659074783325),\n",
       " ('keir', 0.42182454466819763),\n",
       " ('prime', 0.4193575978279114),\n",
       " ('deal', 0.41837599873542786),\n",
       " ('stability', 0.41807878017425537),\n",
       " ('secretary', 0.41506227850914),\n",
       " ('minister', 0.4142037630081177),\n",
       " ('brexit', 0.4126107096672058)]"
      ]
     },
     "execution_count": 190,
     "metadata": {},
     "output_type": "execute_result"
    }
   ],
   "source": [
    "model1.wv.most_similar(positive=['nhs', 'rishi'], negative=['alabama'])"
   ]
  },
  {
   "cell_type": "code",
   "execution_count": 185,
   "id": "7db279a6",
   "metadata": {},
   "outputs": [
    {
     "data": {
      "text/plain": [
       "54339"
      ]
     },
     "execution_count": 185,
     "metadata": {},
     "output_type": "execute_result"
    }
   ],
   "source": [
    "len(model1.wv.key_to_index.keys())"
   ]
  },
  {
   "cell_type": "code",
   "execution_count": 138,
   "id": "893ce7da",
   "metadata": {},
   "outputs": [],
   "source": [
    "import numpy as np\n",
    "\n",
    "def get_embedding(x, out=False):\n",
    "    if x in model1.wv.key_to_index:\n",
    "        if out:\n",
    "            return model1.syn1neg[model1.wv.key_to_index[x]]\n",
    "        else:\n",
    "            return model1.wv[x]\n",
    "    else:\n",
    "        return np.zeros(100)\n"
   ]
  },
  {
   "cell_type": "code",
   "execution_count": 229,
   "id": "83714dea",
   "metadata": {},
   "outputs": [],
   "source": [
    "query = f\"SELECT id,content FROM sites;\"\n",
    "cursor.execute(query)\n",
    "results = cursor.fetchall()"
   ]
  },
  {
   "cell_type": "code",
   "execution_count": 241,
   "id": "38c9bf8e",
   "metadata": {},
   "outputs": [],
   "source": [
    "\n",
    "for document in results:\n",
    "    line = document[1]\n",
    "    id_ = document[0]\n",
    "    fname = f'centroid_file_{id_}'\n",
    "    \n",
    "    centroid_in = (np.mean(np.array([get_embedding(x) for x in nltk.word_tokenize(line.lower())]), axis=0))\n",
    "    centroid_out = (np.mean(np.array([get_embedding(x, out=True) for x in nltk.word_tokenize(line.lower())]), axis=0))\n",
    "    \n",
    "    out_dict = { fname : (centroid_in, centroid_out) }\n",
    "    pickle_file = './inputs/centroids/' + os.path.basename(fname).replace('.txt', '.p')\n",
    "    pickle.dump(out_dict, open(pickle_file, \"wb\"))\n",
    "    "
   ]
  },
  {
   "cell_type": "code",
   "execution_count": 215,
   "id": "da37fe4a",
   "metadata": {},
   "outputs": [],
   "source": [
    "model1 = gensim.models.Word2Vec.load('./models/w2v-lc.model')"
   ]
  },
  {
   "cell_type": "code",
   "execution_count": 361,
   "id": "2bade9ed",
   "metadata": {},
   "outputs": [],
   "source": [
    "def score_document(q_embeddings, doc_id,scope='in'):\n",
    "    fname = f'centroid_file_{doc_id}'    \n",
    "    centroid_dict = {}\n",
    "    centroid_dict.update(pickle.load(open(f'./inputs/centroids/{fname}', \"rb\")))\n",
    "    clean_centroid_dict = {k: centroid_dict[k] for k in centroid_dict if not np.isnan(centroid_dict[k][0]).any()}\n",
    "    \n",
    "    centroid_dict = clean_centroid_dict[fname]\n",
    "    \n",
    "    if scope=='in':\n",
    "        centroid = centroid_dict[0]\n",
    "        individual_csims = [(1 - scipy.spatial.distance.cosine(qin, centroid)) for qin in q_embeddings]\n",
    "    else:\n",
    "        centroid = centroid_dict[1]\n",
    "        individual_csims = [(1 - scipy.spatial.distance.cosine(qin, centroid)) for qin in q_embeddings]\n",
    "    return (sum(individual_csims)/len(q_embeddings))"
   ]
  },
  {
   "cell_type": "code",
   "execution_count": 368,
   "id": "4d537e1e",
   "metadata": {},
   "outputs": [],
   "source": [
    "def DESM_Scoring(user_query):\n",
    "    query_words = user_query.split()\n",
    "    rel_docs = reated_documents(user_query)\n",
    "    q_embeddings = [get_embedding(x.lower()) for x in query_words]\n",
    "    DESM_scores = [score_document(q_embeddings,doc) for doc in rel_docs]\n",
    "    score_docs = list(zip(rel_docs,DESM_scores))\n",
    "    \n",
    "    return score_docs"
   ]
  },
  {
   "cell_type": "code",
   "execution_count": 370,
   "id": "aa2104c8",
   "metadata": {},
   "outputs": [
    {
     "name": "stdout",
     "output_type": "stream",
     "text": [
      "['Rishi', 'London']\n",
      "Rishi\n",
      "London\n"
     ]
    },
    {
     "data": {
      "text/plain": [
       "[(5, 0.4073741912979941),\n",
       " (10, 0.4417821233070274),\n",
       " (23, 0.45805694403666725),\n",
       " (39, 0.33824270963668823),\n",
       " (43, 0.4650102641302769),\n",
       " (56, 0.48007644214226686),\n",
       " (81, 0.4370575159885602),\n",
       " (102, 0.3866954495035115),\n",
       " (110, 0.4372519301070651),\n",
       " (117, 0.44276347408459205),\n",
       " (124, 0.4722912475676667),\n",
       " (146, 0.4582764506819532),\n",
       " (180, 0.37392967748723605),\n",
       " (183, 0.28097719229486023),\n",
       " (192, 0.38228567252348694),\n",
       " (212, 0.3609492194549513),\n",
       " (215, 0.4210878932109272),\n",
       " (217, 0.4451685603711271),\n",
       " (235, 0.5204974793772789),\n",
       " (257, 0.48340432289430396),\n",
       " (267, 0.4213556622272215),\n",
       " (283, 0.38965407887905934),\n",
       " (286, 0.39142724486266584),\n",
       " (290, 0.4419164353763412),\n",
       " (291, 0.41838211251598656),\n",
       " (346, 0.3959855727601687),\n",
       " (354, 0.4323780866299338),\n",
       " (357, 0.5296072234150817),\n",
       " (380, 0.42020773248077253),\n",
       " (381, 0.3952583530330009),\n",
       " (388, 0.418638046617318),\n",
       " (395, 0.4017533433849373),\n",
       " (397, 0.38613208204607036),\n",
       " (404, 0.3797786905477742),\n",
       " (407, 0.3727653993608281),\n",
       " (422, 0.44566899322384174),\n",
       " (424, 0.3972183708468751),\n",
       " (443, 0.42284268611097664),\n",
       " (466, 0.4479118131836277),\n",
       " (475, 0.42632634953501436),\n",
       " (482, 0.3970305253773375),\n",
       " (490, 0.3984064662620701),\n",
       " (501, 0.33585479309115923),\n",
       " (506, 0.395200165965144),\n",
       " (508, 0.4073438286825918),\n",
       " (515, 0.46022506921084394),\n",
       " (519, 0.3943285053317593),\n",
       " (523, 0.4124468668851904),\n",
       " (526, 0.39609034683693833),\n",
       " (528, 0.3615699097766847),\n",
       " (530, 0.4229487736667115),\n",
       " (536, 0.3839383481794741),\n",
       " (541, 0.39411871475763205),\n",
       " (553, 0.3995270316212045),\n",
       " (578, 0.4212468102735248),\n",
       " (606, 0.35098564385572345),\n",
       " (613, 0.405256015378471),\n",
       " (620, 0.41456735037554265),\n",
       " (642, 0.415651722219901),\n",
       " (680, 0.3989981838203223),\n",
       " (689, 0.42251756632990484),\n",
       " (710, 0.3510376819411244),\n",
       " (713, 0.41128906178531366),\n",
       " (715, 0.3882552085090503),\n",
       " (734, 0.4020712814448305),\n",
       " (755, 0.43146609823204696),\n",
       " (781, 0.3954736297139634),\n",
       " (784, 0.3858697931495563),\n",
       " (787, 0.378819946922231),\n",
       " (788, 0.3902430925833013),\n",
       " (844, 0.4351587192578267),\n",
       " (852, 0.42981590931695773),\n",
       " (855, 0.3167394686729054),\n",
       " (857, 0.5041078276837068),\n",
       " (877, 0.42495417715340333),\n",
       " (878, 0.39153634076469185),\n",
       " (892, 0.3994310968246035),\n",
       " (894, 0.3966700467610825),\n",
       " (900, 0.3845602113336781),\n",
       " (903, 0.4306582055931173),\n",
       " (906, 0.4953610464400611),\n",
       " (917, 0.4220920076530928),\n",
       " (921, 0.3804170354924907),\n",
       " (923, 0.40141853973421326),\n",
       " (965, 0.38853834728686887),\n",
       " (980, 0.3999422986284827),\n",
       " (988, 0.3926901945073082),\n",
       " (998, 0.393242073115193),\n",
       " (1003, 0.36088546500607244),\n",
       " (1005, 0.43014987077779954),\n",
       " (1013, 0.42825232893145254),\n",
       " (1018, 0.3894409057479555),\n",
       " (1024, 0.35393578824900795),\n",
       " (1026, 0.5249028632514199),\n",
       " (1027, 0.41709121031516166),\n",
       " (1033, 0.39908866389025127),\n",
       " (1038, 0.4135310336900845),\n",
       " (1050, 0.38921372058774073),\n",
       " (1075, 0.34489221049865315),\n",
       " (1096, 0.3941783404299676),\n",
       " (1104, 0.41093276654263755),\n",
       " (1111, 0.37362480483217),\n",
       " (1119, 0.3924008833694913),\n",
       " (1141, 0.41817345753205776),\n",
       " (1175, 0.3062458908607355),\n",
       " (1178, 0.43792783476809655),\n",
       " (1188, 0.39580687959739047),\n",
       " (1208, 0.40927907991937096),\n",
       " (1211, 0.43217174207084214),\n",
       " (1213, 0.44049425113566987),\n",
       " (1231, 0.411904991391493),\n",
       " (1253, 0.4254317018122192),\n",
       " (1263, 0.38410354333643526),\n",
       " (1279, 0.38653809023855),\n",
       " (1282, 0.3822408014002471),\n",
       " (1285, 0.3809726742894368),\n",
       " (1286, 0.5037784933584698),\n",
       " (1309, 0.4250785442290078),\n",
       " (1310, 0.4156333208222034),\n",
       " (1311, 0.39180105815731303),\n",
       " (1315, 0.3737226271795099),\n",
       " (1317, 0.363325497219098),\n",
       " (1322, 0.3940942989232287),\n",
       " (1324, 0.4036807900198662),\n",
       " (1325, 0.395883699359255),\n",
       " (1329, 0.4369068052423457),\n",
       " (1332, 0.42552995156282347),\n",
       " (1335, 0.4200108396789278),\n",
       " (1338, 0.34974637631768507),\n",
       " (1339, 0.41818808505803073),\n",
       " (1341, 0.38466647129184006),\n",
       " (1342, 0.37629390651233685),\n",
       " (1346, 0.5022877744007186),\n",
       " (1348, 0.384175771913151),\n",
       " (1349, 0.45730924265498074),\n",
       " (1350, 0.3976542605447285),\n",
       " (1355, 0.4320933892031019),\n",
       " (1356, 0.36430369590269607),\n",
       " (1359, 0.42108517302187454),\n",
       " (1365, 0.3950395295015864),\n",
       " (1367, 0.393718412204518),\n",
       " (1368, 0.4189411574146191),\n",
       " (1371, 0.4260657332216262),\n",
       " (1372, 0.3517114671453596),\n",
       " (1373, 0.3865462665056414),\n",
       " (1381, 0.44004450690052493),\n",
       " (1382, 0.38649934903278205),\n",
       " (1386, 0.3473414893575707),\n",
       " (1389, 0.404776952817793),\n",
       " (1392, 0.4465703810066805),\n",
       " (1395, 0.4237171138195544),\n",
       " (1396, 0.43016484826319734),\n",
       " (1397, 0.3968517102580478),\n",
       " (1398, 0.41392237643903046),\n",
       " (1401, 0.37390027669155634),\n",
       " (1402, 0.41814177076892334),\n",
       " (1403, 0.38226965710543015),\n",
       " (1404, 0.38531507025384415),\n",
       " (1405, 0.41532280321588616),\n",
       " (1411, 0.43782658555698195),\n",
       " (1412, 0.4045223732166262),\n",
       " (1413, 0.3860912955257768),\n",
       " (1417, 0.35387973523546223),\n",
       " (1419, 0.3821254590582176),\n",
       " (1420, 0.389768868048805),\n",
       " (1423, 0.3862742236387859),\n",
       " (1424, 0.39356947271792964),\n",
       " (1425, 0.41256175628614733),\n",
       " (1432, 0.3478139015889408),\n",
       " (1438, 0.3968907267179759),\n",
       " (1439, 0.41940682936097945),\n",
       " (1444, 0.3860396197593753),\n",
       " (1449, 0.3239611223011487),\n",
       " (1452, 0.4055219638846529),\n",
       " (1456, 0.3985435689943711),\n",
       " (1459, 0.39104309216525),\n",
       " (1464, 0.3628242619321428),\n",
       " (1465, 0.35971460243334213),\n",
       " (1466, 0.3961817270688653),\n",
       " (1467, 0.4025133510047362),\n",
       " (1468, 0.412322776941898),\n",
       " (1470, 0.4437926608882462),\n",
       " (1473, 0.4283372756650544),\n",
       " (1474, 0.4259021121782704),\n",
       " (1475, 0.358257147589195),\n",
       " (1479, 0.39078797194272913),\n",
       " (1481, 0.42011823962953715),\n",
       " (1483, 0.4288085801422443),\n",
       " (1484, 0.42370717273555536),\n",
       " (1487, 0.4263752400837097),\n",
       " (1493, 0.38302795652297816),\n",
       " (1498, 0.376461799020865),\n",
       " (1502, 0.3904589642937472),\n",
       " (1504, 0.42705275622153804),\n",
       " (1505, 0.42458543195596543),\n",
       " (1509, 0.44822622345583407),\n",
       " (1510, 0.31898302248533605),\n",
       " (1512, 0.37812239915010715),\n",
       " (1513, 0.32233630718477513),\n",
       " (1515, 0.3277112909383435),\n",
       " (1516, 0.40740279746276886),\n",
       " (1518, 0.4158471260017874),\n",
       " (1519, 0.30184546068632034),\n",
       " (1520, 0.3854271992448412),\n",
       " (1530, 0.4151802472656758),\n",
       " (1533, 0.38691742686027064),\n",
       " (1535, 0.49024542525065645),\n",
       " (1541, 0.42973502332832103),\n",
       " (1545, 0.40178225693058256),\n",
       " (1551, 0.330719027351198),\n",
       " (1553, 0.3821258621445342),\n",
       " (1559, 0.4169893198948186),\n",
       " (1569, 0.38870081572234466),\n",
       " (1570, 0.3924691679616034),\n",
       " (1574, 0.41212137857996783),\n",
       " (1576, 0.4023278286307693),\n",
       " (1577, 0.3758896496558769),\n",
       " (1581, 0.39409196170815713),\n",
       " (1585, 0.40298928015444924),\n",
       " (1590, 0.37626951666942077),\n",
       " (1594, 0.4484407442866548),\n",
       " (1598, 0.4382696847749483),\n",
       " (1600, 0.4151577713006162),\n",
       " (1606, 0.434272937667856),\n",
       " (1607, 0.4066482536612598),\n",
       " (1609, 0.4231263048466112),\n",
       " (1610, 0.4556541943852351),\n",
       " (1613, 0.37663135415250604),\n",
       " (1616, 0.4319665013082231),\n",
       " (1617, 0.3971181052128554),\n",
       " (1630, 0.4135308734393898),\n",
       " (1636, 0.34806122474119716),\n",
       " (1641, 0.41169814196463383),\n",
       " (1647, 0.4206894443204878),\n",
       " (1648, 0.4397724815643657),\n",
       " (1649, 0.4226758045791904),\n",
       " (1652, 0.414914765656743),\n",
       " (1655, 0.39890601483399923),\n",
       " (1660, 0.39060837969545986),\n",
       " (1663, 0.40152619600114303),\n",
       " (1672, 0.4295936122759588),\n",
       " (1676, 0.400051446357602),\n",
       " (1679, 0.3542272138986633),\n",
       " (1683, 0.41755781405360326),\n",
       " (1686, 0.39892244417419115),\n",
       " (1687, 0.35985356041419014),\n",
       " (1689, 0.41624974172763113),\n",
       " (1691, 0.421967009076999),\n",
       " (1700, 0.4470301941606301),\n",
       " (1701, 0.35771079935421746),\n",
       " (1703, 0.41203729348331475),\n",
       " (1709, 0.3848143132418066),\n",
       " (1710, 0.45241414545397557),\n",
       " (1712, 0.4092986958588664),\n",
       " (1714, 0.4455499242266412),\n",
       " (1715, 0.38985024036572996),\n",
       " (1716, 0.3901275420956616),\n",
       " (1718, 0.40850448214160323),\n",
       " (1728, 0.4243418447615653),\n",
       " (1729, 0.4338813310755925),\n",
       " (1730, 0.39787074681537943),\n",
       " (1733, 0.3809501879408847),\n",
       " (1734, 0.42782645446842166),\n",
       " (1735, 0.43954037449274774),\n",
       " (1740, 0.38419634311349776),\n",
       " (1741, 0.4013276169894983),\n",
       " (1743, 0.4056518567450579),\n",
       " (1744, 0.3974160920551766),\n",
       " (1746, 0.41645656184825663),\n",
       " (1747, 0.45040685107164824),\n",
       " (1748, 0.426208554831509),\n",
       " (1756, 0.42343204244582633),\n",
       " (1759, 0.40126424473261074),\n",
       " (1760, 0.4509300898307527),\n",
       " (1762, 0.4556406830598082),\n",
       " (1766, 0.40742319701641144),\n",
       " (1768, 0.4190766232440273),\n",
       " (1769, 0.3573431187724155),\n",
       " (1770, 0.44845844505586424),\n",
       " (1774, 0.43727556958893754),\n",
       " (1776, 0.4487215543015255),\n",
       " (1777, 0.3991888543802805),\n",
       " (1781, 0.4464032113989146),\n",
       " (1786, 0.4457815085352317),\n",
       " (1787, 0.42754582306686756),\n",
       " (1789, 0.42715171039526),\n",
       " (1790, 0.4135385372151529),\n",
       " (1792, 0.4466711488297094),\n",
       " (1797, 0.4255935034900308),\n",
       " (1805, 0.38679915773990114),\n",
       " (1817, 0.39606012118728645),\n",
       " (1819, 0.4572243610164802),\n",
       " (1821, 0.43276644582243706),\n",
       " (1825, 0.4081444216838465),\n",
       " (1828, 0.412222997642204),\n",
       " (1829, 0.4060103226557922),\n",
       " (1838, 0.42048540095237474),\n",
       " (1842, 0.440749283145791),\n",
       " (1845, 0.40560824455359834),\n",
       " (1846, 0.39021488025531614),\n",
       " (1847, 0.42440637739738707),\n",
       " (1848, 0.4077057310089679),\n",
       " (1851, 0.418537183533718),\n",
       " (1853, 0.39389145180011687),\n",
       " (1854, 0.3981938234474647),\n",
       " (1858, 0.38291068712102116),\n",
       " (1861, 0.4346058820059994),\n",
       " (1862, 0.43868191930036404),\n",
       " (1876, 0.36932465007070014),\n",
       " (1877, 0.48184457422861693),\n",
       " (1878, 0.39647658521784196),\n",
       " (1880, 0.38707584010022666),\n",
       " (1885, 0.38619471128786975),\n",
       " (1886, 0.35172612058409375),\n",
       " (1888, 0.35207967913567156),\n",
       " (1891, 0.3832601894767071),\n",
       " (1892, 0.43251529573446357),\n",
       " (1897, 0.4786562184739496),\n",
       " (1898, 0.37152486781689886),\n",
       " (1899, 0.3479836519578798),\n",
       " (1900, 0.3930489991874536),\n",
       " (1906, 0.4657813671485708),\n",
       " (1907, 0.38920528109933317),\n",
       " (1910, 0.4414933648090326),\n",
       " (1911, 0.3813092927517705)]"
      ]
     },
     "execution_count": 370,
     "metadata": {},
     "output_type": "execute_result"
    }
   ],
   "source": [
    "DESM_Scoring('Rishi London')"
   ]
  },
  {
   "cell_type": "code",
   "execution_count": 365,
   "id": "462f9c46",
   "metadata": {},
   "outputs": [],
   "source": [
    "DESM_scores = [score_document(q_embeddings,doc) for doc in rel_docs]"
   ]
  },
  {
   "cell_type": "code",
   "execution_count": 367,
   "id": "f6a7a7e5",
   "metadata": {},
   "outputs": [],
   "source": [
    "score_docs = list(zip(rel_docs,DESM_scores))"
   ]
  },
  {
   "cell_type": "code",
   "execution_count": 352,
   "id": "942a4f55",
   "metadata": {},
   "outputs": [
    {
     "data": {
      "text/plain": [
       "0.4020382247129924"
      ]
     },
     "execution_count": 352,
     "metadata": {},
     "output_type": "execute_result"
    }
   ],
   "source": [
    "score_document(q_embeddings,23)"
   ]
  },
  {
   "cell_type": "code",
   "execution_count": 385,
   "id": "3d72848a",
   "metadata": {},
   "outputs": [
    {
     "name": "stderr",
     "output_type": "stream",
     "text": [
      "[nltk_data] Downloading package stopwords to\n",
      "[nltk_data]     C:\\Users\\iq\\AppData\\Roaming\\nltk_data...\n",
      "[nltk_data]   Package stopwords is already up-to-date!\n",
      "[nltk_data] Downloading package punkt to\n",
      "[nltk_data]     C:\\Users\\iq\\AppData\\Roaming\\nltk_data...\n",
      "[nltk_data]   Package punkt is already up-to-date!\n",
      "[nltk_data] Downloading package gutenberg to\n",
      "[nltk_data]     C:\\Users\\iq\\AppData\\Roaming\\nltk_data...\n",
      "[nltk_data]   Package gutenberg is already up-to-date!\n"
     ]
    }
   ],
   "source": [
    "from models.desm import DESM_Scoring"
   ]
  },
  {
   "cell_type": "code",
   "execution_count": 386,
   "id": "fd6615dd",
   "metadata": {},
   "outputs": [
    {
     "data": {
      "text/plain": [
       "[(5, 0.4295209302159811),\n",
       " (10, 0.4494684305894696),\n",
       " (23, 0.46757226663396295),\n",
       " (39, 0.35704030096530914),\n",
       " (43, 0.47898931096371083),\n",
       " (56, 0.4894335911287991),\n",
       " (81, 0.4601226422554214),\n",
       " (102, 0.37346664338216706),\n",
       " (110, 0.44587018692556946),\n",
       " (117, 0.4511715732104508),\n",
       " (124, 0.4900499839620152),\n",
       " (146, 0.47333582644356376),\n",
       " (180, 0.4037717302315668),\n",
       " (183, 0.28897264971268044),\n",
       " (192, 0.3934593088271918),\n",
       " (212, 0.38521712587857093),\n",
       " (215, 0.4336355269879981),\n",
       " (217, 0.46227504043223566),\n",
       " (235, 0.540018284813073),\n",
       " (257, 0.5091735163939375),\n",
       " (267, 0.4384569802104027),\n",
       " (283, 0.40752111907042965),\n",
       " (286, 0.41577397814279854),\n",
       " (290, 0.4500093834004313),\n",
       " (291, 0.4394703223525878),\n",
       " (346, 0.40270892609042075),\n",
       " (354, 0.4482857675452184),\n",
       " (357, 0.5438157918094071),\n",
       " (380, 0.44338655799253934),\n",
       " (381, 0.4194127958527299),\n",
       " (388, 0.43637403848921846),\n",
       " (395, 0.41603584883690425),\n",
       " (397, 0.4134905827929204),\n",
       " (404, 0.4075633807806093),\n",
       " (407, 0.3915073686268118),\n",
       " (422, 0.4574125671223309),\n",
       " (424, 0.4218479280586068),\n",
       " (443, 0.435238900199046),\n",
       " (466, 0.4520626426423431),\n",
       " (475, 0.43893741345072895),\n",
       " (482, 0.4213284396931837),\n",
       " (490, 0.42525953536108857),\n",
       " (501, 0.3664381475157142),\n",
       " (506, 0.423572706437396),\n",
       " (508, 0.4130378341900007),\n",
       " (515, 0.47516748156601213),\n",
       " (519, 0.40747287091929224),\n",
       " (523, 0.4277614275818473),\n",
       " (526, 0.4142497025295441),\n",
       " (528, 0.4011006265593496),\n",
       " (530, 0.442786977951224),\n",
       " (536, 0.4099842484362692),\n",
       " (541, 0.39844400432275373),\n",
       " (553, 0.4053139798627787),\n",
       " (578, 0.43956847104348934),\n",
       " (606, 0.37952922157883673),\n",
       " (613, 0.4267212077382973),\n",
       " (620, 0.4317113787762717),\n",
       " (642, 0.44365812925829506),\n",
       " (680, 0.4135247445932553),\n",
       " (689, 0.4353133015402352),\n",
       " (710, 0.3828857241774212),\n",
       " (713, 0.4299796891865225),\n",
       " (715, 0.41417839159858727),\n",
       " (734, 0.4220621142975288),\n",
       " (755, 0.4433679628735553),\n",
       " (781, 0.4228461569863512),\n",
       " (784, 0.400244110009494),\n",
       " (787, 0.4008048914441549),\n",
       " (788, 0.407704246851751),\n",
       " (844, 0.44380255906963795),\n",
       " (852, 0.4456251206340438),\n",
       " (855, 0.3308576279683604),\n",
       " (857, 0.5227484157467395),\n",
       " (877, 0.45012326308035583),\n",
       " (878, 0.4093028042052732),\n",
       " (892, 0.4262134762394323),\n",
       " (894, 0.4236285331775112),\n",
       " (900, 0.41175080616583437),\n",
       " (903, 0.4469783826483855),\n",
       " (906, 0.5115197459081515),\n",
       " (917, 0.4438877042013069),\n",
       " (921, 0.40223827151654945),\n",
       " (923, 0.42585430420553705),\n",
       " (965, 0.4144068070810707),\n",
       " (980, 0.42558694894437177),\n",
       " (988, 0.4191864458409028),\n",
       " (998, 0.41346676382601044),\n",
       " (1003, 0.3938873048761552),\n",
       " (1005, 0.44406869470378607),\n",
       " (1013, 0.43657797063613807),\n",
       " (1018, 0.4142693688706528),\n",
       " (1024, 0.39534567047905667),\n",
       " (1026, 0.5383321500358363),\n",
       " (1027, 0.4368352453473418),\n",
       " (1033, 0.41686969905922844),\n",
       " (1038, 0.43013615501960506),\n",
       " (1050, 0.412463822618652),\n",
       " (1075, 0.38279062769207084),\n",
       " (1096, 0.42111525730015875),\n",
       " (1104, 0.4277364483716119),\n",
       " (1111, 0.40833203316042244),\n",
       " (1119, 0.3990885630530804),\n",
       " (1141, 0.4323495936181508),\n",
       " (1175, 0.30587382980840255),\n",
       " (1178, 0.4540387620616768),\n",
       " (1188, 0.4092514308063953),\n",
       " (1208, 0.433679702760516),\n",
       " (1211, 0.439382215742535),\n",
       " (1213, 0.4585434366779983),\n",
       " (1231, 0.4336555172507229),\n",
       " (1253, 0.44237230255563426),\n",
       " (1263, 0.4021508131405327),\n",
       " (1279, 0.41267935066147654),\n",
       " (1282, 0.4085621223851895),\n",
       " (1285, 0.408502942287611),\n",
       " (1286, 0.5210322223092848),\n",
       " (1309, 0.44324831883034843),\n",
       " (1310, 0.42943896732167075),\n",
       " (1311, 0.4153834271926947),\n",
       " (1315, 0.41165476206867935),\n",
       " (1317, 0.38552140349195296),\n",
       " (1322, 0.4214080206052779),\n",
       " (1324, 0.4145947169747335),\n",
       " (1325, 0.4205310637056697),\n",
       " (1329, 0.44929422515794887),\n",
       " (1332, 0.44529123193475634),\n",
       " (1335, 0.4396784646409138),\n",
       " (1338, 0.38762742072054107),\n",
       " (1339, 0.4374296094475684),\n",
       " (1341, 0.3968295719364544),\n",
       " (1342, 0.4060159559289214),\n",
       " (1346, 0.5109159466735993),\n",
       " (1348, 0.3966669115151832),\n",
       " (1349, 0.4682007234737179),\n",
       " (1350, 0.4289670098097204),\n",
       " (1355, 0.4463573522751032),\n",
       " (1356, 0.39743629088475374),\n",
       " (1359, 0.436738971205959),\n",
       " (1365, 0.4229761070299196),\n",
       " (1367, 0.4111569022322322),\n",
       " (1368, 0.43575061798145376),\n",
       " (1371, 0.4391749543884299),\n",
       " (1372, 0.3841662958700571),\n",
       " (1373, 0.401196074962832),\n",
       " (1381, 0.4538152862444725),\n",
       " (1382, 0.40993532609874034),\n",
       " (1386, 0.3791177177747964),\n",
       " (1389, 0.42025024860661425),\n",
       " (1392, 0.45573563566772574),\n",
       " (1395, 0.43881421945453586),\n",
       " (1396, 0.44436337165467166),\n",
       " (1397, 0.424056139052259),\n",
       " (1398, 0.43040675682147533),\n",
       " (1401, 0.39667828332116556),\n",
       " (1402, 0.43252788420780375),\n",
       " (1403, 0.41342685367779797),\n",
       " (1404, 0.40902113508090454),\n",
       " (1405, 0.4357721618110338),\n",
       " (1411, 0.45624311444419263),\n",
       " (1412, 0.4319459724733366),\n",
       " (1413, 0.4176361631882906),\n",
       " (1417, 0.36705030321261356),\n",
       " (1419, 0.40573450746900125),\n",
       " (1420, 0.4182166658667357),\n",
       " (1423, 0.41016153085373463),\n",
       " (1424, 0.41920945077085),\n",
       " (1425, 0.4395331252505753),\n",
       " (1432, 0.3448926892886557),\n",
       " (1438, 0.4089807228573686),\n",
       " (1439, 0.4235159871293075),\n",
       " (1444, 0.4157671254835855),\n",
       " (1449, 0.3309288539086245),\n",
       " (1452, 0.42084571211213834),\n",
       " (1456, 0.4214759896530471),\n",
       " (1459, 0.4012457561147141),\n",
       " (1464, 0.3739179413801681),\n",
       " (1465, 0.37114580914764206),\n",
       " (1466, 0.4004532470274813),\n",
       " (1467, 0.42770251675196513),\n",
       " (1468, 0.4266016048142032),\n",
       " (1470, 0.4602246575934564),\n",
       " (1473, 0.43521392886559984),\n",
       " (1474, 0.45905440849645973),\n",
       " (1475, 0.37743974417110077),\n",
       " (1479, 0.41941156869404506),\n",
       " (1481, 0.43304262678190547),\n",
       " (1483, 0.42703853506843975),\n",
       " (1484, 0.45338087905052793),\n",
       " (1487, 0.4386297314099462),\n",
       " (1493, 0.38830207258219646),\n",
       " (1498, 0.40279237897207126),\n",
       " (1502, 0.4002777543808326),\n",
       " (1504, 0.4396915890408799),\n",
       " (1505, 0.4453800116510024),\n",
       " (1509, 0.46070334532095075),\n",
       " (1510, 0.3352792714536216),\n",
       " (1512, 0.4035858818640359),\n",
       " (1513, 0.3283637413482275),\n",
       " (1515, 0.327367184593778),\n",
       " (1516, 0.42715623153166143),\n",
       " (1518, 0.42917891956195714),\n",
       " (1519, 0.3055471424688868),\n",
       " (1520, 0.38912399607577863),\n",
       " (1530, 0.43078249333908664),\n",
       " (1533, 0.41050126659537806),\n",
       " (1535, 0.5069178872246354),\n",
       " (1541, 0.4477514462977993),\n",
       " (1545, 0.4158003620649503),\n",
       " (1551, 0.3489765934195149),\n",
       " (1553, 0.4109423796076357),\n",
       " (1559, 0.4341482656936515),\n",
       " (1569, 0.4329469504959853),\n",
       " (1570, 0.416134377726465),\n",
       " (1574, 0.43072665747287137),\n",
       " (1576, 0.41450312089279073),\n",
       " (1577, 0.39139581610576946),\n",
       " (1581, 0.4214541752857564),\n",
       " (1585, 0.41829016670186786),\n",
       " (1590, 0.4037937933919389),\n",
       " (1594, 0.45746181349674825),\n",
       " (1598, 0.4455762287225478),\n",
       " (1600, 0.43575657684505864),\n",
       " (1606, 0.4431564322257519),\n",
       " (1607, 0.4193804111993849),\n",
       " (1609, 0.4391884921405752),\n",
       " (1610, 0.4688033427274959),\n",
       " (1613, 0.4149810294164247),\n",
       " (1616, 0.4397001763619548),\n",
       " (1617, 0.423871037602461),\n",
       " (1630, 0.430055750062873),\n",
       " (1636, 0.36197420910341876),\n",
       " (1641, 0.428488648113951),\n",
       " (1647, 0.4366800823250666),\n",
       " (1648, 0.4519180501476897),\n",
       " (1649, 0.4391291231399001),\n",
       " (1652, 0.4238385543471835),\n",
       " (1655, 0.4207682617882029),\n",
       " (1660, 0.41707155868018164),\n",
       " (1663, 0.42647006697565504),\n",
       " (1672, 0.4493954884767292),\n",
       " (1676, 0.41613778692685977),\n",
       " (1679, 0.38793567826702746),\n",
       " (1683, 0.43887476067732095),\n",
       " (1686, 0.41749592714873607),\n",
       " (1687, 0.38068343454673537),\n",
       " (1689, 0.42887472477470223),\n",
       " (1691, 0.42410591485765303),\n",
       " (1700, 0.4581354190964042),\n",
       " (1701, 0.38472118933533783),\n",
       " (1703, 0.42727689306553074),\n",
       " (1709, 0.4081285408479971),\n",
       " (1710, 0.4555281888512854),\n",
       " (1712, 0.43162447929068076),\n",
       " (1714, 0.45815868229982637),\n",
       " (1715, 0.4072708127405496),\n",
       " (1716, 0.41786975865781195),\n",
       " (1718, 0.40786542184971697),\n",
       " (1728, 0.44123549268615836),\n",
       " (1729, 0.44405743366625966),\n",
       " (1730, 0.42506792013994377),\n",
       " (1733, 0.4074882310760999),\n",
       " (1734, 0.4524984183927489),\n",
       " (1735, 0.45270451295552455),\n",
       " (1740, 0.3999202243023228),\n",
       " (1741, 0.4227420686945183),\n",
       " (1743, 0.41013743453916096),\n",
       " (1744, 0.4123249763698784),\n",
       " (1746, 0.43081403715613603),\n",
       " (1747, 0.4623822917493886),\n",
       " (1748, 0.4454077730012966),\n",
       " (1756, 0.4389143940197662),\n",
       " (1759, 0.43068511790528835),\n",
       " (1760, 0.46495227897639657),\n",
       " (1762, 0.46032088596525345),\n",
       " (1766, 0.4335979693926968),\n",
       " (1768, 0.4416910074849608),\n",
       " (1769, 0.39336245994724256),\n",
       " (1770, 0.4805081270685631),\n",
       " (1774, 0.44785942513862964),\n",
       " (1776, 0.46552595972087774),\n",
       " (1777, 0.4242784510763452),\n",
       " (1781, 0.4540966870223241),\n",
       " (1786, 0.45608352193401347),\n",
       " (1787, 0.45629977599541016),\n",
       " (1789, 0.4449842499808835),\n",
       " (1790, 0.42819542175052194),\n",
       " (1792, 0.454564097476468),\n",
       " (1797, 0.4402756756344082),\n",
       " (1805, 0.41191955819243253),\n",
       " (1817, 0.4203762902975664),\n",
       " (1819, 0.4583676389415098),\n",
       " (1821, 0.4446544887232784),\n",
       " (1825, 0.4251666592580282),\n",
       " (1828, 0.42821511918530264),\n",
       " (1829, 0.4208681020669649),\n",
       " (1838, 0.44016179498586655),\n",
       " (1842, 0.45642454375233665),\n",
       " (1845, 0.42651157259203515),\n",
       " (1846, 0.42025354060423414),\n",
       " (1847, 0.43575027418955253),\n",
       " (1848, 0.4307824208642606),\n",
       " (1851, 0.443008990144075),\n",
       " (1853, 0.42430648772632795),\n",
       " (1854, 0.40392639884065773),\n",
       " (1858, 0.41063825115895697),\n",
       " (1861, 0.4389260290492733),\n",
       " (1862, 0.455177550097577),\n",
       " (1876, 0.39737116165235553),\n",
       " (1877, 0.5000919710250191),\n",
       " (1878, 0.39598591729231425),\n",
       " (1880, 0.4156427981849775),\n",
       " (1885, 0.41072396573223824),\n",
       " (1886, 0.3795183875744964),\n",
       " (1888, 0.38009198819485135),\n",
       " (1891, 0.3840625091240391),\n",
       " (1892, 0.45018451370597884),\n",
       " (1897, 0.48693454699804983),\n",
       " (1898, 0.3984070253143227),\n",
       " (1899, 0.3819291224409682),\n",
       " (1900, 0.4144519344094153),\n",
       " (1906, 0.4722038853226693),\n",
       " (1907, 0.4153681319867246),\n",
       " (1910, 0.4525405871323464),\n",
       " (1911, 0.4074317342213261)]"
      ]
     },
     "execution_count": 386,
     "metadata": {},
     "output_type": "execute_result"
    }
   ],
   "source": [
    "DESM_Scoring('Rishi London')"
   ]
  },
  {
   "cell_type": "code",
   "execution_count": 380,
   "id": "73534508",
   "metadata": {},
   "outputs": [],
   "source": []
  },
  {
   "cell_type": "code",
   "execution_count": null,
   "id": "83668a75",
   "metadata": {},
   "outputs": [],
   "source": []
  }
 ],
 "metadata": {
  "kernelspec": {
   "display_name": "Python 3 (ipykernel)",
   "language": "python",
   "name": "python3"
  },
  "language_info": {
   "codemirror_mode": {
    "name": "ipython",
    "version": 3
   },
   "file_extension": ".py",
   "mimetype": "text/x-python",
   "name": "python",
   "nbconvert_exporter": "python",
   "pygments_lexer": "ipython3",
   "version": "3.10.7"
  }
 },
 "nbformat": 4,
 "nbformat_minor": 5
}
