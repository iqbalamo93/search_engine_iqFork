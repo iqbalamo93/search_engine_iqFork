{
 "cells": [
  {
   "cell_type": "code",
   "execution_count": 1,
   "id": "dc5ce90c",
   "metadata": {},
   "outputs": [],
   "source": [
    "import psycopg2\n",
    "# Connect to the PostgreSQL database\n",
    "conn = psycopg2.connect(\n",
    "    host=\"localhost\",\n",
    "    database=\"SearchEngine\",\n",
    "    user=\"postgres\",\n",
    "    password=\"2580\"\n",
    ")"
   ]
  },
  {
   "cell_type": "code",
   "execution_count": 2,
   "id": "4e292fe5",
   "metadata": {},
   "outputs": [],
   "source": [
    "# Create a cursor object\n",
    "cursor = conn.cursor()\n",
    "\n",
    "\n",
    "cursor.execute(\"SELECT count(*) FROM sites;\")\n",
    "results = cursor.fetchall()\n",
    "num_records  = results[0][0]\n"
   ]
  },
  {
   "cell_type": "code",
   "execution_count": 3,
   "id": "cd428638",
   "metadata": {},
   "outputs": [
    {
     "data": {
      "text/plain": [
       "8333"
      ]
     },
     "execution_count": 3,
     "metadata": {},
     "output_type": "execute_result"
    }
   ],
   "source": [
    "num_records"
   ]
  },
  {
   "cell_type": "code",
   "execution_count": 4,
   "id": "3584c63d",
   "metadata": {},
   "outputs": [],
   "source": [
    "#Mongo db is fast, uses less memory\n",
    "from pymongo import MongoClient\n",
    "\n",
    "# set up a connection to the MongoDB server\n",
    "client = MongoClient('mongodb://localhost:27017/')\n",
    "# select a database\n",
    "db = client['inverted_index']\n"
   ]
  },
  {
   "cell_type": "code",
   "execution_count": 5,
   "id": "ca1c1076",
   "metadata": {},
   "outputs": [
    {
     "data": {
      "text/plain": [
       "15297"
      ]
     },
     "execution_count": 5,
     "metadata": {},
     "output_type": "execute_result"
    }
   ],
   "source": [
    "6964+8333"
   ]
  },
  {
   "cell_type": "code",
   "execution_count": 6,
   "id": "94f54294",
   "metadata": {},
   "outputs": [],
   "source": [
    "start  = 6964\n",
    "for idx in range(1,num_records+1):\n",
    "    idx += start\n",
    "    query = f\"SELECT * FROM sites where id = {idx};\"\n",
    "    cursor.execute(query)\n",
    "    results = cursor.fetchall()\n",
    "    for row in results:\n",
    "#         print(row)\n",
    "        doc_id = row[0]\n",
    "        url = row[1]\n",
    "        text = row[2]\n",
    "#         print(text)\n",
    "    for word in set(text.split()):\n",
    "            # define the query to check if the word exists in the index\n",
    "            query = {\"word\": word}\n",
    "\n",
    "            # retrieve the record from the index collection\n",
    "            result = db['inverted_index'].find_one(query)\n",
    "\n",
    "            # if the word already exists in the index, add the document ID to the set\n",
    "            if result:\n",
    "                db['inverted_index'].update_one(query, {\"$addToSet\": {\"doc_ids\": doc_id}})\n",
    "            # otherwise, create a new record for the word in the index\n",
    "            else:\n",
    "                db['inverted_index'].insert_one({\"word\": word, \"doc_ids\": [doc_id]})\n"
   ]
  },
  {
   "cell_type": "code",
   "execution_count": null,
   "id": "f1950c91",
   "metadata": {},
   "outputs": [],
   "source": []
  },
  {
   "cell_type": "code",
   "execution_count": null,
   "id": "91ef0525",
   "metadata": {},
   "outputs": [],
   "source": []
  }
 ],
 "metadata": {
  "kernelspec": {
   "display_name": "Python 3 (ipykernel)",
   "language": "python",
   "name": "python3"
  },
  "language_info": {
   "codemirror_mode": {
    "name": "ipython",
    "version": 3
   },
   "file_extension": ".py",
   "mimetype": "text/x-python",
   "name": "python",
   "nbconvert_exporter": "python",
   "pygments_lexer": "ipython3",
   "version": "3.10.7"
  }
 },
 "nbformat": 4,
 "nbformat_minor": 5
}
