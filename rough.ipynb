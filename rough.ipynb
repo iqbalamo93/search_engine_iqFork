{
 "cells": [
  {
   "cell_type": "code",
   "execution_count": 3,
   "id": "b5784b1b",
   "metadata": {},
   "outputs": [],
   "source": [
    "#!/usr/bin/env python\n",
    "# coding: utf-8\n",
    "import sys\n",
    "sys.path.append('./models')\n",
    "sys.path.append('./helpers')\n",
    "import json\n",
    "from fastapi import FastAPI\n",
    "from fastapi.middleware.cors import CORSMiddleware\n",
    "from rank_bm25 import BM25Okapi\n",
    "from pymongo import MongoClient\n",
    "import psycopg2\n",
    "\n",
    "from models.bm25_base import BM25_json\n",
    "from models.desm import DESM_json\n",
    "\n",
    "\n",
    "from pydantic import BaseModel\n",
    "from typing import Dict\n",
    "\n",
    "class FeedbackItem(BaseModel):\n",
    "    rank: int\n",
    "    doc_id: int\n",
    "    score: float\n",
    "    userScore: int\n",
    "    query: str\n",
    "    algorithm: str\n",
    "    session_id: int\n",
    "\n",
    "class Feedback(BaseModel):\n",
    "    __root__: Dict[str, FeedbackItem]\n",
    "\n",
    "\n",
    "        \n",
    "        \n",
    "\n",
    "\n",
    "# Connect to the PostgreSQL database\n",
    "conn = psycopg2.connect(\n",
    "    host=\"localhost\",\n",
    "    database=\"SearchEngine\",\n",
    "    user=\"postgres\",\n",
    "    password=\"2580\"\n",
    ")\n",
    "\n",
    "# Create a cursor object\n",
    "cursor = conn.cursor()\n",
    "\n",
    "\n",
    "origins = [\n",
    "    \"http://localhost.tiangolo.com\",\n",
    "    \"https://localhost.tiangolo.com\",\n",
    "    \"http://localhost\",\n",
    "    \"http://localhost:8080\",\n",
    "]\n",
    "\n",
    "\n",
    "app = FastAPI()\n",
    "\n",
    "# Add the following lines to enable CORS\n",
    "app.add_middleware(\n",
    "    CORSMiddleware,\n",
    "    allow_origins=[\"*\"],\n",
    "    allow_credentials=True,\n",
    "    allow_methods=[\"*\"],\n",
    "    allow_headers=[\"*\"],\n",
    ")\n",
    "\n",
    "\n",
    "\n",
    "@app.get(\"/search\")\n",
    "async def search(query: str,algorithm: str):\n",
    "    \n",
    "    user_input = query\n",
    "    \n",
    "\n",
    "    if algorithm == 'BM25':\n",
    "        out_data, raw_scores = BM25_json(user_input)\n",
    "        json_data = json.dumps(out_data)\n",
    "\n",
    "        return json_data\n",
    "    \n",
    "    elif algorithm == 'DESM':\n",
    "        out_data, raw_scores = DESM_json(user_input)\n",
    "        json_data = json.dumps(out_data)\n",
    "        \n",
    "        return json_data\n",
    "\n",
    "@app.post(\"/feedback\")\n",
    "async def send_feedback(feedback: Feedback):\n",
    "    # Your feedback handling logic here\n",
    "    print(feedback)\n",
    "\n",
    "    # Extract the feedback data\n",
    "    items = feedback.__root__\n",
    "    for key, item in items.items():\n",
    "        session_id = item.session_id\n",
    "        query = item.query\n",
    "        algorithm = item.algorithm\n",
    "        userScore = item.userScore\n",
    "        raw_score = item.score\n",
    "\n",
    "        # Insert the feedback data into the session table\n",
    "        cursor.execute(\"\"\"\n",
    "            INSERT INTO session (number, query, algorithm, userScore, raw_score)\n",
    "            VALUES (%s, %s, %s, %s, %s)\n",
    "        \"\"\", (session_id, query, algorithm, [userScore], [raw_score]))\n",
    "\n",
    "    # Commit the changes and close the cursor\n",
    "    conn.commit()\n",
    "\n",
    "    return {}\n",
    "\n",
    "\n"
   ]
  },
  {
   "cell_type": "code",
   "execution_count": 5,
   "id": "a7b88b4c",
   "metadata": {},
   "outputs": [
    {
     "ename": "ModuleNotFoundError",
     "evalue": "No module named 'httpx'",
     "output_type": "error",
     "traceback": [
      "\u001b[1;31m---------------------------------------------------------------------------\u001b[0m",
      "\u001b[1;31mModuleNotFoundError\u001b[0m                       Traceback (most recent call last)",
      "Cell \u001b[1;32mIn [5], line 1\u001b[0m\n\u001b[1;32m----> 1\u001b[0m \u001b[38;5;28;01mfrom\u001b[39;00m \u001b[38;5;21;01mfastapi\u001b[39;00m\u001b[38;5;21;01m.\u001b[39;00m\u001b[38;5;21;01mtestclient\u001b[39;00m \u001b[38;5;28;01mimport\u001b[39;00m TestClient\n\u001b[0;32m      3\u001b[0m client \u001b[38;5;241m=\u001b[39m TestClient(app)\n",
      "File \u001b[1;32m~\\AppData\\Local\\Programs\\Python\\Python310\\lib\\site-packages\\fastapi\\testclient.py:1\u001b[0m\n\u001b[1;32m----> 1\u001b[0m \u001b[38;5;28;01mfrom\u001b[39;00m \u001b[38;5;21;01mstarlette\u001b[39;00m\u001b[38;5;21;01m.\u001b[39;00m\u001b[38;5;21;01mtestclient\u001b[39;00m \u001b[38;5;28;01mimport\u001b[39;00m TestClient \u001b[38;5;28;01mas\u001b[39;00m TestClient\n",
      "File \u001b[1;32m~\\AppData\\Local\\Programs\\Python\\Python310\\lib\\site-packages\\starlette\\testclient.py:16\u001b[0m\n\u001b[0;32m     14\u001b[0m \u001b[38;5;28;01mimport\u001b[39;00m \u001b[38;5;21;01manyio\u001b[39;00m\n\u001b[0;32m     15\u001b[0m \u001b[38;5;28;01mimport\u001b[39;00m \u001b[38;5;21;01manyio\u001b[39;00m\u001b[38;5;21;01m.\u001b[39;00m\u001b[38;5;21;01mfrom_thread\u001b[39;00m\n\u001b[1;32m---> 16\u001b[0m \u001b[38;5;28;01mimport\u001b[39;00m \u001b[38;5;21;01mhttpx\u001b[39;00m\n\u001b[0;32m     17\u001b[0m \u001b[38;5;28;01mfrom\u001b[39;00m \u001b[38;5;21;01manyio\u001b[39;00m\u001b[38;5;21;01m.\u001b[39;00m\u001b[38;5;21;01mstreams\u001b[39;00m\u001b[38;5;21;01m.\u001b[39;00m\u001b[38;5;21;01mstapled\u001b[39;00m \u001b[38;5;28;01mimport\u001b[39;00m StapledObjectStream\n\u001b[0;32m     19\u001b[0m \u001b[38;5;28;01mfrom\u001b[39;00m \u001b[38;5;21;01mstarlette\u001b[39;00m\u001b[38;5;21;01m.\u001b[39;00m\u001b[38;5;21;01m_utils\u001b[39;00m \u001b[38;5;28;01mimport\u001b[39;00m is_async_callable\n",
      "\u001b[1;31mModuleNotFoundError\u001b[0m: No module named 'httpx'"
     ]
    }
   ],
   "source": [
    "from fastapi.testclient import TestClient\n",
    "\n",
    "client = TestClient(app)"
   ]
  },
  {
   "cell_type": "code",
   "execution_count": 4,
   "id": "a802ba35",
   "metadata": {},
   "outputs": [
    {
     "ename": "NameError",
     "evalue": "name 'client' is not defined",
     "output_type": "error",
     "traceback": [
      "\u001b[1;31m---------------------------------------------------------------------------\u001b[0m",
      "\u001b[1;31mNameError\u001b[0m                                 Traceback (most recent call last)",
      "Cell \u001b[1;32mIn [4], line 34\u001b[0m\n\u001b[0;32m      1\u001b[0m feedback_json \u001b[38;5;241m=\u001b[39m \u001b[38;5;124m\"\"\"\u001b[39m\n\u001b[0;32m      2\u001b[0m \u001b[38;5;124m{\u001b[39m\n\u001b[0;32m      3\u001b[0m \u001b[38;5;124m    \u001b[39m\u001b[38;5;124m\"\u001b[39m\u001b[38;5;124m1\u001b[39m\u001b[38;5;124m\"\u001b[39m\u001b[38;5;124m: \u001b[39m\u001b[38;5;124m{\u001b[39m\n\u001b[1;32m   (...)\u001b[0m\n\u001b[0;32m     30\u001b[0m \u001b[38;5;124m}\u001b[39m\n\u001b[0;32m     31\u001b[0m \u001b[38;5;124m\"\"\"\u001b[39m\n\u001b[0;32m     33\u001b[0m \u001b[38;5;66;03m# Test the endpoint\u001b[39;00m\n\u001b[1;32m---> 34\u001b[0m response \u001b[38;5;241m=\u001b[39m \u001b[43mclient\u001b[49m\u001b[38;5;241m.\u001b[39mpost(\u001b[38;5;124m\"\u001b[39m\u001b[38;5;124m/feedback\u001b[39m\u001b[38;5;124m\"\u001b[39m, json\u001b[38;5;241m=\u001b[39mjson\u001b[38;5;241m.\u001b[39mloads(feedback_json))\n\u001b[0;32m     36\u001b[0m \u001b[38;5;28mprint\u001b[39m(response\u001b[38;5;241m.\u001b[39mstatus_code)\n\u001b[0;32m     37\u001b[0m \u001b[38;5;28mprint\u001b[39m(response\u001b[38;5;241m.\u001b[39mjson())\n",
      "\u001b[1;31mNameError\u001b[0m: name 'client' is not defined"
     ]
    }
   ],
   "source": [
    "feedback_json = \"\"\"\n",
    "{\n",
    "    \"1\": {\n",
    "        \"rank\": 1,\n",
    "        \"doc_id\": 356,\n",
    "        \"score\": 0.125,\n",
    "        \"userScore\": 1,\n",
    "        \"query\": \"hello London\",\n",
    "        \"algorithm\": \"BM25\",\n",
    "        \"session_id\": 12\n",
    "    },\n",
    "    \"2\": {\n",
    "        \"rank\": 2,\n",
    "        \"doc_id\": 480,\n",
    "        \"score\": 0.05,\n",
    "        \"userScore\": 2,\n",
    "        \"query\": \"hello London\",\n",
    "        \"algorithm\": \"BM25\",\n",
    "        \"session_id\": 12\n",
    "    },\n",
    "    \"3\": {\n",
    "        \"rank\": 3,\n",
    "        \"doc_id\": 999,\n",
    "        \"score\": 0.04,\n",
    "        \"userScore\": 0,\n",
    "        \"query\": \"hello London\",\n",
    "        \"algorithm\": \"BM25\",\n",
    "        \"session_id\": 12\n",
    "    }\n",
    "}\n",
    "\"\"\"\n",
    "\n",
    "# Test the endpoint\n",
    "response = client.post(\"/feedback\", json=json.loads(feedback_json))\n",
    "\n",
    "print(response.status_code)\n",
    "print(response.json())\n"
   ]
  },
  {
   "cell_type": "code",
   "execution_count": 1,
   "id": "a39b256a",
   "metadata": {},
   "outputs": [],
   "source": [
    "import json"
   ]
  },
  {
   "cell_type": "code",
   "execution_count": 2,
   "id": "88b30a1b",
   "metadata": {},
   "outputs": [],
   "source": [
    "feedback_json = \"\"\"\n",
    "{\n",
    "    \"1\": {\n",
    "        \"rank\": \"1000\",\n",
    "        \"doc_id\": \"356\",\n",
    "        \"score\": \"0.125\",\n",
    "        \"userScore\": \"1\",\n",
    "        \"query\": \"hello London\",\n",
    "        \"algorithm\": \"BM25\",\n",
    "        \"session_id\": \"126\"\n",
    "    }\n",
    "\n",
    "} \n",
    "\"\"\""
   ]
  },
  {
   "cell_type": "code",
   "execution_count": 3,
   "id": "6446295b",
   "metadata": {},
   "outputs": [],
   "source": [
    "json=json.loads(feedback_json)"
   ]
  },
  {
   "cell_type": "code",
   "execution_count": 6,
   "id": "3f8d7b68",
   "metadata": {},
   "outputs": [
    {
     "data": {
      "text/plain": [
       "dict_keys(['1'])"
      ]
     },
     "execution_count": 6,
     "metadata": {},
     "output_type": "execute_result"
    }
   ],
   "source": [
    "dict(json).keys()\n"
   ]
  },
  {
   "cell_type": "code",
   "execution_count": 3,
   "id": "fd7bad72",
   "metadata": {},
   "outputs": [],
   "source": [
    "from sklearn.metrics import ndcg_score\n",
    "import numpy as np"
   ]
  },
  {
   "cell_type": "code",
   "execution_count": 48,
   "id": "49093ea5",
   "metadata": {},
   "outputs": [],
   "source": [
    "true_relevance = np.array([0, 1, 0, 2, 1]).reshape(1,-1)\n",
    "scores = np.array([.1, .2, .3, 4, 70]).reshape(1,-1)"
   ]
  },
  {
   "cell_type": "code",
   "execution_count": 49,
   "id": "f6c4c28a",
   "metadata": {},
   "outputs": [
    {
     "data": {
      "text/plain": [
       "((1, 5), (1, 5))"
      ]
     },
     "execution_count": 49,
     "metadata": {},
     "output_type": "execute_result"
    }
   ],
   "source": [
    "scores.shape, true_relevance.shape"
   ]
  },
  {
   "cell_type": "code",
   "execution_count": 50,
   "id": "3c12645d",
   "metadata": {},
   "outputs": [
    {
     "data": {
      "text/plain": [
       "0.8599797111848091"
      ]
     },
     "execution_count": 50,
     "metadata": {},
     "output_type": "execute_result"
    }
   ],
   "source": [
    "ndcg_score(true_relevance, scores)"
   ]
  },
  {
   "cell_type": "code",
   "execution_count": 43,
   "id": "b4f0fc00",
   "metadata": {},
   "outputs": [],
   "source": [
    "true_relevance = np.asarray([[10, 0, 0, 1, 5]])"
   ]
  },
  {
   "cell_type": "code",
   "execution_count": 29,
   "id": "f508383f",
   "metadata": {},
   "outputs": [],
   "source": [
    "scores = np.asarray([[.1, .2, .3, 4, 70]])"
   ]
  },
  {
   "cell_type": "code",
   "execution_count": 30,
   "id": "bc3cd2ca",
   "metadata": {},
   "outputs": [
    {
     "data": {
      "text/plain": [
       "(1, 5)"
      ]
     },
     "execution_count": 30,
     "metadata": {},
     "output_type": "execute_result"
    }
   ],
   "source": [
    "scores.shape"
   ]
  },
  {
   "cell_type": "code",
   "execution_count": 31,
   "id": "30907bbc",
   "metadata": {},
   "outputs": [
    {
     "data": {
      "text/plain": [
       "0.6956940443813076"
      ]
     },
     "execution_count": 31,
     "metadata": {},
     "output_type": "execute_result"
    }
   ],
   "source": [
    "ndcg_score(true_relevance, scores)"
   ]
  },
  {
   "cell_type": "code",
   "execution_count": null,
   "id": "48fbc41d",
   "metadata": {},
   "outputs": [],
   "source": []
  }
 ],
 "metadata": {
  "kernelspec": {
   "display_name": "Python 3 (ipykernel)",
   "language": "python",
   "name": "python3"
  },
  "language_info": {
   "codemirror_mode": {
    "name": "ipython",
    "version": 3
   },
   "file_extension": ".py",
   "mimetype": "text/x-python",
   "name": "python",
   "nbconvert_exporter": "python",
   "pygments_lexer": "ipython3",
   "version": "3.10.7"
  }
 },
 "nbformat": 4,
 "nbformat_minor": 5
}
