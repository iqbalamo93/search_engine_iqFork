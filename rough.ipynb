{
 "cells": [
  {
   "cell_type": "code",
   "execution_count": 1,
   "id": "4b46158a",
   "metadata": {},
   "outputs": [
    {
     "name": "stderr",
     "output_type": "stream",
     "text": [
      "[nltk_data] Downloading package stopwords to\n",
      "[nltk_data]     C:\\Users\\iq\\AppData\\Roaming\\nltk_data...\n",
      "[nltk_data]   Package stopwords is already up-to-date!\n"
     ]
    }
   ],
   "source": [
    "import requests\n",
    "from html import unescape\n",
    "import re\n",
    "from bs4 import BeautifulSoup\n",
    "\n",
    "import sys\n",
    "sys.path.append('./helpers')\n",
    "from preprocessing import preprocess_text"
   ]
  },
  {
   "cell_type": "code",
   "execution_count": null,
   "id": "6cdab5c3",
   "metadata": {},
   "outputs": [],
   "source": [
    "pwd"
   ]
  },
  {
   "cell_type": "code",
   "execution_count": null,
   "id": "0060aaa0",
   "metadata": {},
   "outputs": [],
   "source": [
    "url = 'https://www.bbc.com/sitemaps/https-index-com-news.xml'"
   ]
  },
  {
   "cell_type": "code",
   "execution_count": null,
   "id": "5473c69a",
   "metadata": {},
   "outputs": [],
   "source": [
    "res = requests.get(url)\n",
    "if res.status_code != 200:\n",
    "    print('ohho')\n",
    "\n",
    "soup = BeautifulSoup(res.text, 'xml')\n",
    "\n",
    "sitemap_tags = soup.find_all('sitemap')\n",
    "\n",
    "sitemaps = []\n",
    "for sitemap in sitemap_tags:\n",
    "    loc = sitemap.find('loc')\n",
    "    sitemaps.append(loc.text)\n",
    "\n",
    "urls = []\n",
    "regex_1 = r\"^https://www.bbc.com/news/.*$\"\n",
    "regex_2 = r\"^https://www.bbc.com/sport/.*$\"\n",
    "for sitemap in sitemaps:\n",
    "    response = requests.get(sitemap)\n",
    "    soup = BeautifulSoup(response.text, 'xml')\n",
    "    url_tags = soup.find_all('url')\n",
    "    \n",
    "    for url in url_tags:\n",
    "        loc = url.find('loc')\n",
    "        if re.match(regex_1, loc.text) or re.match(regex_2, loc.text):\n",
    "            urls.append(loc.text)"
   ]
  },
  {
   "cell_type": "code",
   "execution_count": null,
   "id": "436bcd54",
   "metadata": {},
   "outputs": [],
   "source": [
    "url = urls[0]"
   ]
  },
  {
   "cell_type": "code",
   "execution_count": null,
   "id": "4129f380",
   "metadata": {},
   "outputs": [],
   "source": [
    "def url_to_text(url):\n",
    "    try:\n",
    "        response = requests.get(url)\n",
    "        if response.status_code != 200:\n",
    "            return None\n",
    "        \n",
    "        soup = BeautifulSoup(response.text, 'html.parser')\n",
    "        full_article = ''\n",
    "        text = []\n",
    "        heading = soup.select('h1')[0].text.strip()\n",
    "        text.append(heading)\n",
    "        \n",
    "        for p in soup.select('p'):\n",
    "            text.append(unescape(p.text))\n",
    "        full_article = ' '.join(text)\n",
    "        article_clean = preprocess_text(full_article)\n",
    "        return (url,heading, article_clean) \n",
    "    except requests.exceptions.Timeout as ee :\n",
    "        return None"
   ]
  },
  {
   "cell_type": "code",
   "execution_count": null,
   "id": "51fbc5bc",
   "metadata": {},
   "outputs": [],
   "source": [
    "def url_to_text(url):\n",
    "    try:\n",
    "        response = requests.get(url)\n",
    "        if response.status_code != 200:\n",
    "            print('ohho')\n",
    "            return None\n",
    "        \n",
    "        soup = BeautifulSoup(response.text, 'html.parser')\n",
    "        full_article = ''\n",
    "        text = []\n",
    "        heading = soup.select('h1')[0].text.strip()\n",
    "        text.append(heading)\n",
    "        \n",
    "        for p in soup.select('p'):\n",
    "            text.append(unescape(p.text))\n",
    "        full_article = ' '.join(text)\n",
    "        \n",
    "        full_article_part = full_article[:600]\n",
    "        article_clean = preprocess_text(full_article)\n",
    "        return (url,heading, article_clean,full_article_part )\n",
    "    \n",
    "    except requests.exceptions.Timeout as ee :\n",
    "        print('TO')\n",
    "        return None"
   ]
  },
  {
   "cell_type": "code",
   "execution_count": null,
   "id": "0a434091",
   "metadata": {},
   "outputs": [],
   "source": [
    "url = 'https://www.bbc.com/news/uk-england-humber-65173206'"
   ]
  },
  {
   "cell_type": "code",
   "execution_count": null,
   "id": "78b18012",
   "metadata": {},
   "outputs": [],
   "source": [
    "url_to_text(url)[3]"
   ]
  },
  {
   "cell_type": "code",
   "execution_count": null,
   "id": "b5fb1d96",
   "metadata": {},
   "outputs": [],
   "source": [
    "import psycopg2\n",
    "# Connect to the PostgreSQL database\n",
    "conn = psycopg2.connect(\n",
    "    host=\"localhost\",\n",
    "    database=\"SearchEngine\",\n",
    "    user=\"postgres\",\n",
    "    password=\"2580\"\n",
    ")\n",
    "\n",
    "# Create a cursor object\n",
    "cursor = conn.cursor()\n"
   ]
  },
  {
   "cell_type": "code",
   "execution_count": null,
   "id": "74ae996c",
   "metadata": {},
   "outputs": [],
   "source": [
    "query = f\"SELECT * FROM sites where id = 1;\""
   ]
  },
  {
   "cell_type": "code",
   "execution_count": null,
   "id": "b1795d72",
   "metadata": {},
   "outputs": [],
   "source": [
    "    cursor.execute(query)\n",
    "    results = cursor.fetchall()"
   ]
  },
  {
   "cell_type": "code",
   "execution_count": null,
   "id": "87e504b2",
   "metadata": {},
   "outputs": [],
   "source": [
    "for row in results:\n",
    "    print(row)"
   ]
  },
  {
   "cell_type": "code",
   "execution_count": null,
   "id": "9d12196b",
   "metadata": {},
   "outputs": [],
   "source": [
    "(row[5])"
   ]
  },
  {
   "cell_type": "markdown",
   "id": "d0dd21ba",
   "metadata": {},
   "source": [
    "## disco "
   ]
  },
  {
   "cell_type": "code",
   "execution_count": null,
   "id": "8186360a",
   "metadata": {},
   "outputs": [],
   "source": [
    "from pymongo import MongoClient\n",
    "client = MongoClient('mongodb://localhost:27017/')\n",
    "# select a database\n",
    "db = client['inverted_index']\n",
    "mycollection = db['inverted_index']\n",
    "\n",
    "conn = psycopg2.connect(\n",
    "    host=\"localhost\",\n",
    "    database=\"SearchEngine\",\n",
    "    user=\"postgres\",\n",
    "    password=\"2580\"\n",
    ")\n",
    "\n",
    "# Create a cursor object\n",
    "cursor = conn.cursor()\n",
    "def reated_documents(user_input):\n",
    "    words = user_input.split()\n",
    "    rel_docs = set()\n",
    "    for word in words:\n",
    "        myquery = {\"word\": word}\n",
    "        results  = mycollection.find(myquery)\n",
    "        for result in results:\n",
    "            docs = result['doc_ids']\n",
    "            rel_docs.update(docs)\n",
    "            \n",
    "    return list(rel_docs)\n",
    "\n",
    "def url_documents(rel_docs):\n",
    "    documents  = []\n",
    "    urls = []\n",
    "    header = []\n",
    "    raw_text = []\n",
    "    for idx in rel_docs:\n",
    "        query = f\"SELECT * FROM sites where id = {idx};\"\n",
    "        cursor.execute(query)\n",
    "        results = cursor.fetchall()\n",
    "        for row in results:\n",
    "            doc_id = row[0]\n",
    "            url = row[1]\n",
    "            urls.append(url)\n",
    "            text = row[2]\n",
    "            header = row[4]\n",
    "            raw_text = row[5]\n",
    "            documents.append(text)\n",
    "    return (documents, urls, header,raw_text )\n",
    "\n"
   ]
  },
  {
   "cell_type": "code",
   "execution_count": null,
   "id": "47d5565d",
   "metadata": {},
   "outputs": [],
   "source": [
    "from rank_bm25 import BM25Okapi"
   ]
  },
  {
   "cell_type": "code",
   "execution_count": null,
   "id": "4914128f",
   "metadata": {},
   "outputs": [],
   "source": [
    "user_query = 'london India'"
   ]
  },
  {
   "cell_type": "code",
   "execution_count": null,
   "id": "2c7b92e4",
   "metadata": {},
   "outputs": [],
   "source": [
    "user_input = preprocess_text(user_query)\n",
    "print(user_input)"
   ]
  },
  {
   "cell_type": "code",
   "execution_count": null,
   "id": "1e572a8c",
   "metadata": {},
   "outputs": [],
   "source": [
    "rel_docs = reated_documents(user_input)"
   ]
  },
  {
   "cell_type": "code",
   "execution_count": null,
   "id": "6c909cb3",
   "metadata": {},
   "outputs": [],
   "source": [
    "documents , urls, header, raw_text = url_documents(rel_docs)"
   ]
  },
  {
   "cell_type": "code",
   "execution_count": null,
   "id": "744fbc0a",
   "metadata": {},
   "outputs": [],
   "source": [
    "tokenized_corpus = [doc.split(\" \") for doc in documents]\n",
    "bm25 = BM25Okapi(tokenized_corpus)"
   ]
  },
  {
   "cell_type": "code",
   "execution_count": null,
   "id": "87f24d19",
   "metadata": {},
   "outputs": [],
   "source": [
    "tokenized_query = user_query.split()"
   ]
  },
  {
   "cell_type": "code",
   "execution_count": null,
   "id": "1e8d5c73",
   "metadata": {},
   "outputs": [],
   "source": [
    "header"
   ]
  },
  {
   "cell_type": "code",
   "execution_count": null,
   "id": "8740ebf7",
   "metadata": {},
   "outputs": [],
   "source": []
  },
  {
   "cell_type": "code",
   "execution_count": null,
   "id": "b8b52b22",
   "metadata": {},
   "outputs": [],
   "source": [
    "doc_scores_raw = bm25.get_scores(tokenized_query)"
   ]
  },
  {
   "cell_type": "code",
   "execution_count": null,
   "id": "14f4851c",
   "metadata": {},
   "outputs": [],
   "source": []
  },
  {
   "cell_type": "code",
   "execution_count": null,
   "id": "f015c421",
   "metadata": {},
   "outputs": [],
   "source": [
    "len(doc_scores_raw)"
   ]
  },
  {
   "cell_type": "code",
   "execution_count": null,
   "id": "9d1ab407",
   "metadata": {},
   "outputs": [],
   "source": [
    "for x, y in zip(doc_scores_raw/sum(doc_scores_raw),doc_scores_raw/274):\n",
    "    print(x,y,x>y)"
   ]
  },
  {
   "cell_type": "code",
   "execution_count": 2,
   "id": "f613ce35",
   "metadata": {},
   "outputs": [],
   "source": [
    "sys.path.append('./models')"
   ]
  },
  {
   "cell_type": "code",
   "execution_count": 3,
   "id": "ea3660e0",
   "metadata": {},
   "outputs": [],
   "source": [
    "from models.bm25_base import BM25_json"
   ]
  },
  {
   "cell_type": "code",
   "execution_count": 12,
   "id": "8f7de278",
   "metadata": {},
   "outputs": [
    {
     "data": {
      "text/plain": [
       "({1: {'rank': 1,\n",
       "   'doc_id': 1424,\n",
       "   'score': 1.0,\n",
       "   'url': 'https://www.bbc.com/news/technology-64989720',\n",
       "   'header': \"How Elon Musk's tweets unleashed a wave of hate\",\n",
       "   'text': 'How Elon Musk\\'s tweets unleashed a wave of hate I had just finished my investigation into whether Twitter can protect users under Elon Musk\\'s ownership, when - to my surprise - the man himself tweeted about it. \"Sorry for turning Twitter from nurturing paradise into a place that hasâ\\x80¦ trolls,\" he said in one tweet, posting a screengrab of the report.  According to Twitter\\'s own data, that tweet was seen by more than 30 million profiles. \"Trolls are kinda fun,\" Mr Musk said in another reply, in his response to my BBC investigation - Twitter insiders: We can\\'t protect users from trolling under ',\n",
       "   'session_id': 1}},\n",
       " [1.0])"
      ]
     },
     "execution_count": 12,
     "metadata": {},
     "output_type": "execute_result"
    }
   ],
   "source": [
    "BM25_json('bitch')"
   ]
  },
  {
   "cell_type": "code",
   "execution_count": 8,
   "id": "278155c3",
   "metadata": {},
   "outputs": [
    {
     "name": "stderr",
     "output_type": "stream",
     "text": [
      "[nltk_data] Downloading package stopwords to\n",
      "[nltk_data]     C:\\Users\\iq\\AppData\\Roaming\\nltk_data...\n",
      "[nltk_data]   Package stopwords is already up-to-date!\n",
      "[nltk_data] Downloading package punkt to\n",
      "[nltk_data]     C:\\Users\\iq\\AppData\\Roaming\\nltk_data...\n",
      "[nltk_data]   Package punkt is already up-to-date!\n",
      "[nltk_data] Downloading package gutenberg to\n",
      "[nltk_data]     C:\\Users\\iq\\AppData\\Roaming\\nltk_data...\n",
      "[nltk_data]   Package gutenberg is already up-to-date!\n"
     ]
    }
   ],
   "source": [
    "from models.desm import DESM_json"
   ]
  },
  {
   "cell_type": "code",
   "execution_count": 11,
   "id": "4cc8fc53",
   "metadata": {},
   "outputs": [
    {
     "name": "stderr",
     "output_type": "stream",
     "text": [
      "C:\\Users\\iq\\AppData\\Local\\Programs\\Python\\Python310\\lib\\site-packages\\scipy\\spatial\\distance.py:620: RuntimeWarning: invalid value encountered in scalar divide\n",
      "  dist = 1.0 - uv / np.sqrt(uu * vv)\n"
     ]
    },
    {
     "data": {
      "text/plain": [
       "({1: {'rank': 1,\n",
       "   'doc_id': 1424,\n",
       "   'score': 1.0,\n",
       "   'url': 'https://www.bbc.com/news/technology-64989720',\n",
       "   'header': \"How Elon Musk's tweets unleashed a wave of hate\",\n",
       "   'text': 'How Elon Musk\\'s tweets unleashed a wave of hate I had just finished my investigation into whether Twitter can protect users under Elon Musk\\'s ownership, when - to my surprise - the man himself tweeted about it. \"Sorry for turning Twitter from nurturing paradise into a place that hasâ\\x80¦ trolls,\" he said in one tweet, posting a screengrab of the report.  According to Twitter\\'s own data, that tweet was seen by more than 30 million profiles. \"Trolls are kinda fun,\" Mr Musk said in another reply, in his response to my BBC investigation - Twitter insiders: We can\\'t protect users from trolling under ',\n",
       "   'session_id': 1}},\n",
       " [1.0])"
      ]
     },
     "execution_count": 11,
     "metadata": {},
     "output_type": "execute_result"
    }
   ],
   "source": [
    "DESM_json('bitch')"
   ]
  },
  {
   "cell_type": "code",
   "execution_count": null,
   "id": "c44ad528",
   "metadata": {},
   "outputs": [],
   "source": []
  }
 ],
 "metadata": {
  "kernelspec": {
   "display_name": "Python 3 (ipykernel)",
   "language": "python",
   "name": "python3"
  },
  "language_info": {
   "codemirror_mode": {
    "name": "ipython",
    "version": 3
   },
   "file_extension": ".py",
   "mimetype": "text/x-python",
   "name": "python",
   "nbconvert_exporter": "python",
   "pygments_lexer": "ipython3",
   "version": "3.10.7"
  }
 },
 "nbformat": 4,
 "nbformat_minor": 5
}
