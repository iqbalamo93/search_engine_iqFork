{
 "cells": [
  {
   "cell_type": "code",
   "execution_count": 4,
   "id": "1352d5c9",
   "metadata": {},
   "outputs": [],
   "source": [
    "import sys\n",
    "sys.path.append('./models')\n",
    "sys.path.append('./helpers')"
   ]
  },
  {
   "cell_type": "code",
   "execution_count": 5,
   "id": "17d3968d",
   "metadata": {},
   "outputs": [],
   "source": [
    "from models.bm25_base import BM25_json"
   ]
  },
  {
   "cell_type": "code",
   "execution_count": 3,
   "id": "8b872dc6",
   "metadata": {},
   "outputs": [
    {
     "data": {
      "text/plain": [
       "({1: {'rank': 1,\n",
       "   'doc_id': 7335,\n",
       "   'score': 0.0022875937685103175,\n",
       "   'url': 'https://www.bbc.com/news/uk-england-london-64798395',\n",
       "   'header': 'ULEZ expansion: Contested claims examined',\n",
       "   'text': \"ULEZ expansion: Contested claims examined The Ultra Low Emission Zone (ULEZ) is expanding to cover the whole of London from the end of August, much to the dismay of the opponents of the scheme. The BBC has been assessing some of the claims made about London Mayor Sadiq Khan's flagship clean-air policy to better understand its impact. Opposition from Liberal Democrats and some Labour councils and MPs focuses on the argument that people need more time to swap their vehicles for compliant ones.  The mayor of London announced his ULEZ expansion plan at the end of November, giving people nine month\",\n",
       "   'session_id': 4},\n",
       "  2: {'rank': 2,\n",
       "   'doc_id': 7186,\n",
       "   'score': 0.0022426591076623193,\n",
       "   'url': 'https://www.bbc.com/news/england/london',\n",
       "   'header': 'BBC News London',\n",
       "   'text': \"BBC News London  Officers are treating the fire as arson and say the 15-year-old died from smoke inhalation. Maia and Rina Dee, who are originally from London, were shot dead in their car on Friday. A light show, exploring the history of coronations, will be projected on the Tower of London. Wolves say three people were arrested after chants were heard during Saturday's match against Chelsea. Footage of the first aerial film of London, through to 100 years later, shows significant change. The teenager, who was arrested on suspicion of murder, is bailed pending further inquiries. Maia and Rina \",\n",
       "   'session_id': 4},\n",
       "  3: {'rank': 3,\n",
       "   'doc_id': 8812,\n",
       "   'score': 0.0022294767507249845,\n",
       "   'url': 'https://www.bbc.com/news/uk-england-london-65057890',\n",
       "   'header': 'Almost 700K cars not ULEZ compliant after scheme expands - RAC',\n",
       "   'text': \"Almost 700K cars not ULEZ compliant after scheme expands - RAC Almost 700,000 cars in London will not be Ultra Low Emissions Zone (ULEZ) compliant when the scheme expands, according to new analysis from the RAC. The RAC said the figure rises to more than 850,000 when including other non-compliant vehicles in addition to cars. However, the London mayor's office has disputed the figures. Transport for London (TfL) has itself claimed nine out of 10 cars seen driving in outer London on an average day meet the ULEZ standards. Despite repeated requests, the mayor's office has confirmed it will not r\",\n",
       "   'session_id': 4},\n",
       "  4: {'rank': 4,\n",
       "   'doc_id': 10026,\n",
       "   'score': 0.0022275302201538037,\n",
       "   'url': 'https://www.bbc.com/news/uk-england-london-65091373',\n",
       "   'header': \"Superloop bus service to link London's outer boroughs\",\n",
       "   'text': \"Superloop bus service to link London's outer boroughs A new fast service bus network has been announced for London's outer boroughs. Six new routes will be created and four incorporated into the 'Superloop' network, complete with distinct branding. The plans propose a fast service to make more stops linking many of the peripheral boroughs. The network is part of London Mayor Sadiq Khan's effort to compensate for the impact of the ultra-low emission zone expansion, due to start in August. New services are planned between North Finchley and Harrow, North Finchley and Walthamstow and between Walt\",\n",
       "   'session_id': 4},\n",
       "  5: {'rank': 5,\n",
       "   'doc_id': 11859,\n",
       "   'score': 0.002221606769627691,\n",
       "   'url': 'https://www.bbc.com/news/uk-england-london-64707554',\n",
       "   'header': 'ULEZ: Fewer electric car street charging points outside zone',\n",
       "   'text': 'ULEZ: Fewer electric car street charging points outside zone Electric car drivers have fewer on-street spots to charge their vehicles outside London\\'s current Ultra Low Emission Zone (ULEZ) than inside it. The number of public street chargers varies by over 2,500 between the best and worst London boroughs, data shows. The capital has a third of the UK\\'s public charging devices, but they are concentrated in the current ULEZ area. Transport for London (TfL) says it is \"working tirelessly\" to increase the number of charging ports. In August, Londoners will be subjected to tighter vehicle regulati',\n",
       "   'session_id': 4},\n",
       "  6: {'rank': 6,\n",
       "   'doc_id': 9828,\n",
       "   'score': 0.002194800045187219,\n",
       "   'url': 'https://www.bbc.com/news/uk-england-london-65086374',\n",
       "   'header': \"London City Airport: Mayor's office against weekend flights\",\n",
       "   'text': \"London City Airport: Mayor's office against weekend flights Plans to increase passenger numbers and change weekend flying times at London City Airport have been opposed by the London mayor's office. Arrivals and departures are not allowed at the airport between 12:30 BST on Saturday and 12:30 on Sunday. Airport management want to operate flights until 18:30 on a Saturday, under plans submitted to Newham Council. Deputy mayor for planning, Jules Pipe, said it does not fit the London Plan. The proposal for the airport also includes increasing passenger numbers from 6.5 million per year to 9 mill\",\n",
       "   'session_id': 4},\n",
       "  7: {'rank': 7,\n",
       "   'doc_id': 9038,\n",
       "   'score': 0.002192209966895079,\n",
       "   'url': 'https://www.bbc.com/sport/athletics/65069258',\n",
       "   'header': 'Mo Farah: Briton to race 10km in Gabon as part of London Marathon preparations',\n",
       "   'text': \"Mo Farah: Briton to race 10km in Gabon as part of London Marathon preparations  Last updated on 24 March 202324 March 2023.From the section Athletics Mo Farah will race the Port-Gentil 10km in Gabon two weeks before what is expected to be the Briton's final London Marathon appearance. The four-time Olympic champion, 40, announced in January that he expects 2023 to be his final year of racing before retirement. Farah is currently training in Ethiopia as he continues his preparations for the London Marathon on 23 April. He is unsure if the marathon will be his last competitive event. In a short \",\n",
       "   'session_id': 4},\n",
       "  8: {'rank': 8,\n",
       "   'doc_id': 8743,\n",
       "   'score': 0.0021895368790474184,\n",
       "   'url': 'https://www.bbc.com/news/uk-england-london-64963937',\n",
       "   'header': 'London Lonely Girls Club gains thousands of new members',\n",
       "   'text': 'London Lonely Girls Club gains thousands of new members Almost 20,000 women living in London have joined a club tackling loneliness since pandemic restrictions ended. Holly Cooke founded The London Lonely Girls Club on Facebook in 2018 after moving to the city from Stoke-on-Trent. She said the club had 10,000 members at the start of 2022, and had \"grown spectacularly\" in the last year to almost 31,000 people. \"More people have come back to London and are wanting that connection,\" she said.  \"London is so big, it leaves a lot of space for loneliness.\" The 26-year-old from north-east London move',\n",
       "   'session_id': 4},\n",
       "  9: {'rank': 9,\n",
       "   'doc_id': 11927,\n",
       "   'score': 0.002189069109926775,\n",
       "   'url': 'https://www.bbc.com/news/uk-england-essex-65068754',\n",
       "   'header': 'Firms in Essex could close due to ULEZ, warns business leader',\n",
       "   'text': \"Firms in Essex could close due to ULEZ, warns business leader Some companies are warning they could have to close due to new Ultra Low Emission Zone (ULEZ) around London, a Basildon business leader has said. It comes as a pensioner from Essex is facing having to pay Â£150 a year to visit his parents' graves in the zone. In a bid for cleaner air, more polluting cars will have to pay the Â£12.50 daily charge. Transport for London said ULEZ is vital in tackling air pollution, the climate emergency and congestion. The current zone runs inside the north and south circular but on 29 August London Ma\",\n",
       "   'session_id': 4},\n",
       "  10: {'rank': 10,\n",
       "   'doc_id': 7492,\n",
       "   'score': 0.002188795153618156,\n",
       "   'url': 'https://www.bbc.com/news/uk-england-london-65016196',\n",
       "   'header': 'Beavers to be reintroduced in west London',\n",
       "   'text': 'Beavers to be reintroduced in west London Beavers are to be reintroduced to west London for the first time in 400 years in a bid to tackle climate change. Conservation groups have received almost Â£40,000 from the mayor of London to create a home for two Eurasian beavers at Paradise Fields in Ealing. It is hoped the planned wetland will help promote a biodiverse ecosystem. The Ealing Wildlife Group said it expected a breeding pair of beavers could arrive as soon as autumn this year. Beavers were once found throughout Britain, but the animals were hunted to extinction in the 16th Century for th',\n",
       "   'session_id': 4}},\n",
       " [0.0022875937685103175,\n",
       "  0.0022426591076623193,\n",
       "  0.0022294767507249845,\n",
       "  0.0022275302201538037,\n",
       "  0.002221606769627691,\n",
       "  0.002194800045187219,\n",
       "  0.002192209966895079,\n",
       "  0.0021895368790474184,\n",
       "  0.002189069109926775,\n",
       "  0.002188795153618156])"
      ]
     },
     "execution_count": 3,
     "metadata": {},
     "output_type": "execute_result"
    }
   ],
   "source": [
    "BM25_json('London')"
   ]
  },
  {
   "cell_type": "code",
   "execution_count": 6,
   "id": "672dbfeb",
   "metadata": {},
   "outputs": [
    {
     "name": "stderr",
     "output_type": "stream",
     "text": [
      "[nltk_data] Downloading package stopwords to\n",
      "[nltk_data]     C:\\Users\\iq\\AppData\\Roaming\\nltk_data...\n",
      "[nltk_data]   Package stopwords is already up-to-date!\n",
      "[nltk_data] Downloading package punkt to\n",
      "[nltk_data]     C:\\Users\\iq\\AppData\\Roaming\\nltk_data...\n",
      "[nltk_data]   Package punkt is already up-to-date!\n",
      "[nltk_data] Downloading package gutenberg to\n",
      "[nltk_data]     C:\\Users\\iq\\AppData\\Roaming\\nltk_data...\n",
      "[nltk_data]   Package gutenberg is already up-to-date!\n"
     ]
    }
   ],
   "source": [
    "from models.desm import DESM_json"
   ]
  },
  {
   "cell_type": "code",
   "execution_count": 23,
   "id": "48d2b6d9",
   "metadata": {},
   "outputs": [],
   "source": [
    "score = DESM_json('david attenborough')[1]"
   ]
  },
  {
   "cell_type": "code",
   "execution_count": 15,
   "id": "0f2eac22",
   "metadata": {},
   "outputs": [
    {
     "data": {
      "text/plain": [
       "[0.01629995338427853,\n",
       " 0.015568552454888713,\n",
       " 0.013871295096971964,\n",
       " 0.013749142969198234,\n",
       " 0.013629123431354634,\n",
       " 0.013494498646204493,\n",
       " 0.01332991207555304,\n",
       " 0.01329747536299783,\n",
       " 0.01328131613286507,\n",
       " 0.013121857952544192]"
      ]
     },
     "execution_count": 15,
     "metadata": {},
     "output_type": "execute_result"
    }
   ],
   "source": [
    "BM25_json('attenborough')[1]"
   ]
  },
  {
   "cell_type": "code",
   "execution_count": 17,
   "id": "2b7fd2d8",
   "metadata": {},
   "outputs": [],
   "source": [
    "import numpy as np"
   ]
  },
  {
   "cell_type": "code",
   "execution_count": 18,
   "id": "fdfb2f30",
   "metadata": {},
   "outputs": [],
   "source": []
  },
  {
   "cell_type": "code",
   "execution_count": 61,
   "id": "af20931a",
   "metadata": {},
   "outputs": [
    {
     "data": {
      "text/plain": [
       "0.7382225928616724"
      ]
     },
     "execution_count": 61,
     "metadata": {},
     "output_type": "execute_result"
    }
   ],
   "source": [
    "from sklearn.metrics import ndcg_score\n",
    "true_relevance = np.asarray([[2, 0, 1, 0, 1,0, 0, 3, 0,0]])\n",
    "scores = np.asarray([score])\n",
    "\n",
    "ndcg_score(true_relevance,scores)\n"
   ]
  },
  {
   "cell_type": "code",
   "execution_count": 57,
   "id": "fdfcb038",
   "metadata": {},
   "outputs": [
    {
     "data": {
      "text/plain": [
       "array([[0.0032281 , 0.00319413, 0.00317978, 0.00315533, 0.00312842,\n",
       "        0.00312631, 0.00312338, 0.00312211, 0.00312136, 0.00311338]])"
      ]
     },
     "execution_count": 57,
     "metadata": {},
     "output_type": "execute_result"
    }
   ],
   "source": [
    "scores*2"
   ]
  },
  {
   "cell_type": "code",
   "execution_count": 27,
   "id": "79dee5d8",
   "metadata": {},
   "outputs": [
    {
     "data": {
      "text/plain": [
       "1.0"
      ]
     },
     "execution_count": 27,
     "metadata": {},
     "output_type": "execute_result"
    }
   ],
   "source": []
  },
  {
   "cell_type": "code",
   "execution_count": null,
   "id": "d963b420",
   "metadata": {},
   "outputs": [],
   "source": []
  }
 ],
 "metadata": {
  "kernelspec": {
   "display_name": "Python 3 (ipykernel)",
   "language": "python",
   "name": "python3"
  },
  "language_info": {
   "codemirror_mode": {
    "name": "ipython",
    "version": 3
   },
   "file_extension": ".py",
   "mimetype": "text/x-python",
   "name": "python",
   "nbconvert_exporter": "python",
   "pygments_lexer": "ipython3",
   "version": "3.10.7"
  }
 },
 "nbformat": 4,
 "nbformat_minor": 5
}
