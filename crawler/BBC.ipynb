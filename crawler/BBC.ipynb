{
 "cells": [
  {
   "cell_type": "code",
   "execution_count": 1,
   "id": "2108a6b9",
   "metadata": {},
   "outputs": [
    {
     "name": "stderr",
     "output_type": "stream",
     "text": [
      "[nltk_data] Downloading package stopwords to\n",
      "[nltk_data]     C:\\Users\\iq\\AppData\\Roaming\\nltk_data...\n",
      "[nltk_data]   Package stopwords is already up-to-date!\n"
     ]
    }
   ],
   "source": [
    "import requests\n",
    "from html import unescape\n",
    "import re\n",
    "from bs4 import BeautifulSoup\n",
    "\n",
    "import sys\n",
    "sys.path.append('../helpers')\n",
    "from preprocessing import preprocess_text"
   ]
  },
  {
   "cell_type": "code",
   "execution_count": 2,
   "id": "c19f10fb",
   "metadata": {},
   "outputs": [],
   "source": [
    "\n",
    "url = 'https://www.bbc.com/sitemaps/https-index-com-news.xml'\n",
    "res = requests.get(url)\n",
    "if res.status_code != 200:\n",
    "    print('ohho')\n",
    "\n",
    "soup = BeautifulSoup(res.text, 'xml')\n",
    "\n",
    "sitemap_tags = soup.find_all('sitemap')\n",
    "\n",
    "sitemaps = []\n",
    "for sitemap in sitemap_tags:\n",
    "    loc = sitemap.find('loc')\n",
    "    sitemaps.append(loc.text)\n",
    "\n",
    "urls = []\n",
    "regex_1 = r\"^https://www.bbc.com/news/.*$\"\n",
    "regex_2 = r\"^https://www.bbc.com/sport/.*$\"\n",
    "for sitemap in sitemaps:\n",
    "    response = requests.get(sitemap)\n",
    "    soup = BeautifulSoup(response.text, 'xml')\n",
    "    url_tags = soup.find_all('url')\n",
    "    \n",
    "    for url in url_tags:\n",
    "        loc = url.find('loc')\n",
    "        if re.match(regex_1, loc.text) or re.match(regex_2, loc.text):\n",
    "            urls.append(loc.text)"
   ]
  },
  {
   "cell_type": "code",
   "execution_count": 3,
   "id": "32b3f918",
   "metadata": {},
   "outputs": [],
   "source": [
    "def url_to_text(url):\n",
    "    try:\n",
    "        response = requests.get(url)\n",
    "        if response.status_code != 200:\n",
    "            print('ohho')\n",
    "            return None\n",
    "        \n",
    "        soup = BeautifulSoup(response.text, 'html.parser')\n",
    "        full_article = ''\n",
    "        text = []\n",
    "        heading = soup.select('h1')[0].text.strip()\n",
    "        text.append(heading)\n",
    "        \n",
    "        for p in soup.select('p'):\n",
    "            text.append(unescape(p.text))\n",
    "        full_article = ' '.join(text)\n",
    "        \n",
    "        full_article_part = full_article[:600]\n",
    "        article_clean = preprocess_text(full_article)\n",
    "        return (url,heading, article_clean,full_article_part )\n",
    "    \n",
    "    except requests.exceptions.Timeout as ee :\n",
    "        print('TO')\n",
    "        return None\n"
   ]
  },
  {
   "cell_type": "code",
   "execution_count": 4,
   "id": "ed08cf76",
   "metadata": {},
   "outputs": [
    {
     "name": "stdout",
     "output_type": "stream",
     "text": [
      "TO\n",
      "TO\n",
      "ohho\n",
      "TO\n",
      "TO\n",
      "TO\n",
      "TO\n",
      "ohho\n",
      "ohho\n",
      "TO\n",
      "TO\n",
      "ohho\n",
      "TO\n",
      "TO\n",
      "TO\n",
      "TO\n",
      "TO\n",
      "TO\n",
      "TO\n",
      "TO\n",
      "ohho\n",
      "TO\n",
      "ohho\n",
      "TO\n",
      "TO\n",
      "TO\n",
      "TO\n",
      "TO\n",
      "TO\n",
      "TO\n",
      "TO\n",
      "ohho\n",
      "TO\n"
     ]
    }
   ],
   "source": [
    "import psycopg2\n",
    "\n",
    "# Connect to the PostgreSQL database\n",
    "conn = psycopg2.connect(\n",
    "    host=\"localhost\",\n",
    "    database=\"SearchEngine\",\n",
    "    user=\"postgres\",\n",
    "    password=\"2580\"\n",
    ")\n",
    "\n",
    "\n",
    "\n",
    "# Open a cursor to perform database operations\n",
    "cur = conn.cursor()\n",
    "\n",
    "\n",
    "for url in urls:\n",
    "    try:\n",
    "        url,header, text ,content_raw = url_to_text(url)\n",
    "        data = (url,header, text, content_raw)\n",
    "        sql = \"INSERT INTO sites (url,header,content,content_raw) VALUES (%s,%s,%s,%s)\"\n",
    "        cur.execute(sql, data)\n",
    "        conn.commit()\n",
    "    except TypeError as ee :\n",
    "        continue\n"
   ]
  },
  {
   "cell_type": "code",
   "execution_count": 5,
   "id": "39999191",
   "metadata": {},
   "outputs": [],
   "source": [
    "cur.close()\n",
    "conn.close()"
   ]
  },
  {
   "cell_type": "code",
   "execution_count": null,
   "id": "91596cab",
   "metadata": {},
   "outputs": [],
   "source": []
  }
 ],
 "metadata": {
  "kernelspec": {
   "display_name": "Python 3 (ipykernel)",
   "language": "python",
   "name": "python3"
  },
  "language_info": {
   "codemirror_mode": {
    "name": "ipython",
    "version": 3
   },
   "file_extension": ".py",
   "mimetype": "text/x-python",
   "name": "python",
   "nbconvert_exporter": "python",
   "pygments_lexer": "ipython3",
   "version": "3.10.7"
  }
 },
 "nbformat": 4,
 "nbformat_minor": 5
}
