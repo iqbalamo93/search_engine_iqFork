{
 "cells": [
  {
   "cell_type": "code",
   "execution_count": 16,
   "id": "e0dbb152",
   "metadata": {},
   "outputs": [],
   "source": [
    "import requests\n",
    "from html import unescape\n",
    "import re\n",
    "from bs4 import BeautifulSoup\n",
    "from datetime import datetime, timedelta"
   ]
  },
  {
   "cell_type": "code",
   "execution_count": 17,
   "id": "7052d252",
   "metadata": {},
   "outputs": [],
   "source": [
    "url ='https://www.bbc.com/sitemaps/https-index-com-archive.xml'"
   ]
  },
  {
   "cell_type": "code",
   "execution_count": 18,
   "id": "1f716130",
   "metadata": {},
   "outputs": [],
   "source": [
    "res = requests.get(url)\n",
    "if res.status_code != 200:\n",
    "    print('ohho')\n",
    "\n",
    "soup = BeautifulSoup(res.text, 'xml')"
   ]
  },
  {
   "cell_type": "code",
   "execution_count": 19,
   "id": "813e9558",
   "metadata": {},
   "outputs": [],
   "source": [
    "sitemap_tags = soup.find_all('sitemap')"
   ]
  },
  {
   "cell_type": "code",
   "execution_count": 20,
   "id": "096ef3af",
   "metadata": {},
   "outputs": [],
   "source": [
    "# sitemap_tags_last_ten_days = []\n",
    "\n",
    "# for stitemap_tag in sitemap_tags:\n",
    "#     date_str = stitemap_tag.lastmod.text\n",
    "#     date_obj = datetime.fromisoformat(date_str[:-1])\n",
    "\n",
    "#     # Check if the date is within the last 10 days\n",
    "#     today = datetime.utcnow().replace(hour=0, minute=0, second=0, microsecond=0)\n",
    "#     if today - timedelta(days=10) <= date_obj:\n",
    "#         sitemap_tags_last_ten_days.append(stitemap_tag)\n",
    "#     else:\n",
    "#         continue\n",
    "    "
   ]
  },
  {
   "cell_type": "code",
   "execution_count": 21,
   "id": "9c92994f",
   "metadata": {},
   "outputs": [],
   "source": [
    "# sitemap_tags = sitemap_tags_last_ten_days"
   ]
  },
  {
   "cell_type": "code",
   "execution_count": 22,
   "id": "97afddab",
   "metadata": {},
   "outputs": [],
   "source": [
    "sitemaps = []\n",
    "for sitemap in sitemap_tags:\n",
    "    loc = sitemap.find('loc')\n",
    "    sitemaps.append(loc.text)"
   ]
  },
  {
   "cell_type": "code",
   "execution_count": 26,
   "id": "641173a8",
   "metadata": {},
   "outputs": [],
   "source": [
    "urls = []\n",
    "regex_1 = r\"^https://www.bbc.com/news/.*$\"\n",
    "regex_2 = r\"^https://www.bbc.com/sport/.*$\"\n",
    "\n",
    "today = datetime.utcnow().replace(hour=0, minute=0, second=0, microsecond=0)\n",
    "threshold = 10\n",
    "threshold_date = today - timedelta(days=threshold)\n",
    "\n",
    "for sitemap in sitemaps:\n",
    "        try:\n",
    "                response = requests.get(sitemap)\n",
    "                soup = BeautifulSoup(response.text, 'xml')\n",
    "                url_tags = soup.find_all('url')\n",
    "                for url in url_tags:\n",
    "                        try:\n",
    "                                date_str = url.lastmod.text\n",
    "                                date_obj = datetime.fromisoformat(date_str[:-1])\n",
    "                                if threshold_date <= date_obj:\n",
    "                                        loc = url.find('loc')\n",
    "                                        if re.match(regex_1, loc.text) or re.match(regex_2, loc.text):\n",
    "                                                urls.append(loc.text)\n",
    "                                else:\n",
    "                                        continue\n",
    "                        except AttributeError as e:\n",
    "                                continue\n",
    "\n",
    "        except requests.exceptions.Timeout as ee :\n",
    "                continue\n"
   ]
  },
  {
   "cell_type": "code",
   "execution_count": 27,
   "id": "ce20e9af",
   "metadata": {},
   "outputs": [
    {
     "data": {
      "text/plain": [
       "5194"
      ]
     },
     "execution_count": 27,
     "metadata": {},
     "output_type": "execute_result"
    }
   ],
   "source": [
    "len(set(urls))"
   ]
  },
  {
   "cell_type": "code",
   "execution_count": 28,
   "id": "58110593",
   "metadata": {},
   "outputs": [],
   "source": [
    "def url_to_text(url):\n",
    "    try:\n",
    "        response = requests.get(url)\n",
    "        if response.status_code != 200:\n",
    "            return None\n",
    "        \n",
    "        soup = BeautifulSoup(response.text, 'html.parser')\n",
    "        full_article = ''\n",
    "        text = []\n",
    "        heading = soup.select('h1')[0].text.strip()\n",
    "        text.append(heading)\n",
    "        \n",
    "        for p in soup.select('p'):\n",
    "            text.append(unescape(p.text))\n",
    "        full_article = ' '.join(text)\n",
    "        \n",
    "        return (url, full_article) \n",
    "    except requests.exceptions.Timeout as ee :\n",
    "        return None"
   ]
  },
  {
   "cell_type": "code",
   "execution_count": 29,
   "id": "c9c2728d",
   "metadata": {},
   "outputs": [],
   "source": [
    "import psycopg2\n",
    "\n",
    "# Connect to the PostgreSQL database\n",
    "conn = psycopg2.connect(\n",
    "    host=\"localhost\",\n",
    "    database=\"SearchEngine\",\n",
    "    user=\"postgres\",\n",
    "    password=\"2580\"\n",
    ")\n",
    "\n",
    "# Open a cursor to perform database operations\n",
    "cur = conn.cursor()\n",
    "\n",
    "\n",
    "for url in urls:\n",
    "    try:\n",
    "        url, text = url_to_text(url)\n",
    "        data = (url, text)\n",
    "        sql = sql = \"INSERT INTO sites (url, content) VALUES (%s, %s)\"\n",
    "        cur.execute(sql, data)\n",
    "        conn.commit()\n",
    "    except TypeError as ee :\n",
    "        continue\n"
   ]
  },
  {
   "cell_type": "code",
   "execution_count": null,
   "id": "73257730",
   "metadata": {},
   "outputs": [],
   "source": []
  }
 ],
 "metadata": {
  "kernelspec": {
   "display_name": "Python 3 (ipykernel)",
   "language": "python",
   "name": "python3"
  },
  "language_info": {
   "codemirror_mode": {
    "name": "ipython",
    "version": 3
   },
   "file_extension": ".py",
   "mimetype": "text/x-python",
   "name": "python",
   "nbconvert_exporter": "python",
   "pygments_lexer": "ipython3",
   "version": "3.10.7"
  }
 },
 "nbformat": 4,
 "nbformat_minor": 5
}
