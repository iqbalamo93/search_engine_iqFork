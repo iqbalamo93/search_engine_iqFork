{
 "cells": [
  {
   "cell_type": "code",
   "execution_count": 56,
   "id": "b1473530",
   "metadata": {},
   "outputs": [],
   "source": [
    "import json\n",
    "from fastapi import FastAPI\n",
    "\n",
    "from fastapi.middleware.cors import CORSMiddleware"
   ]
  },
  {
   "cell_type": "code",
   "execution_count": 1,
   "id": "9522a591",
   "metadata": {},
   "outputs": [],
   "source": [
    "from rank_bm25 import BM25Okapi\n",
    "from pymongo import MongoClient\n",
    "import psycopg2\n",
    "\n",
    "# Connect to the PostgreSQL database\n",
    "conn = psycopg2.connect(\n",
    "    host=\"localhost\",\n",
    "    database=\"SearchEngine\",\n",
    "    user=\"postgres\",\n",
    "    password=\"2580\"\n",
    ")\n",
    "\n",
    "# Create a cursor object\n",
    "cursor = conn.cursor()\n"
   ]
  },
  {
   "cell_type": "code",
   "execution_count": 57,
   "id": "66f7ac6f",
   "metadata": {},
   "outputs": [],
   "source": [
    "app = FastAPI()\n",
    "\n",
    "origins = [\n",
    "    \"http://localhost.tiangolo.com\",\n",
    "    \"https://localhost.tiangolo.com\",\n",
    "    \"http://localhost\",\n",
    "    \"http://localhost:8080\",\n",
    "]\n",
    "\n",
    "app.add_middleware(\n",
    "    CORSMiddleware,\n",
    "    allow_origins=origins,\n",
    "    allow_credentials=True,\n",
    "    allow_methods=[\"*\"],\n",
    "    allow_headers=[\"*\"],\n",
    ")"
   ]
  },
  {
   "cell_type": "code",
   "execution_count": null,
   "id": "de517faa",
   "metadata": {},
   "outputs": [],
   "source": []
  },
  {
   "cell_type": "code",
   "execution_count": 2,
   "id": "9eff9915",
   "metadata": {},
   "outputs": [],
   "source": [
    "user_input = 'Great'"
   ]
  },
  {
   "cell_type": "code",
   "execution_count": 3,
   "id": "01bd1d7a",
   "metadata": {},
   "outputs": [],
   "source": [
    "client = MongoClient('mongodb://localhost:27017/')\n",
    "# select a database\n",
    "db = client['inverted_index']\n",
    "mycollection = db['inverted_index']"
   ]
  },
  {
   "cell_type": "code",
   "execution_count": 4,
   "id": "e98a5968",
   "metadata": {},
   "outputs": [],
   "source": [
    "words = user_input.split()"
   ]
  },
  {
   "cell_type": "code",
   "execution_count": 5,
   "id": "69bff9f4",
   "metadata": {},
   "outputs": [
    {
     "data": {
      "text/plain": [
       "['Great']"
      ]
     },
     "execution_count": 5,
     "metadata": {},
     "output_type": "execute_result"
    }
   ],
   "source": [
    "words"
   ]
  },
  {
   "cell_type": "code",
   "execution_count": 6,
   "id": "556cd017",
   "metadata": {},
   "outputs": [
    {
     "name": "stdout",
     "output_type": "stream",
     "text": [
      "Great [192, 255, 299, 320, 401, 423, 471, 480, 689, 753, 797, 818, 922, 969, 978, 1188, 1251, 1295, 1417, 1858]\n"
     ]
    }
   ],
   "source": [
    "rel_docs = set()\n",
    "for word in words:\n",
    "    myquery = {\"word\": word}\n",
    "    results  = mycollection.find(myquery)\n",
    "    for result in results:\n",
    "        docs = result['doc_ids']\n",
    "        print(word,docs)\n",
    "        rel_docs.update(docs)"
   ]
  },
  {
   "cell_type": "code",
   "execution_count": 7,
   "id": "420d3d06",
   "metadata": {},
   "outputs": [],
   "source": [
    "rel_docs = list(rel_docs)"
   ]
  },
  {
   "cell_type": "code",
   "execution_count": 8,
   "id": "d4abf9ca",
   "metadata": {},
   "outputs": [
    {
     "data": {
      "text/plain": [
       "20"
      ]
     },
     "execution_count": 8,
     "metadata": {},
     "output_type": "execute_result"
    }
   ],
   "source": [
    "len(rel_docs)"
   ]
  },
  {
   "cell_type": "code",
   "execution_count": 32,
   "id": "d1b1d842",
   "metadata": {},
   "outputs": [],
   "source": [
    "documents  = []\n",
    "urls = []\n",
    "for idx in rel_docs:\n",
    "    query = f\"SELECT * FROM sites where id = {idx};\"\n",
    "    cursor.execute(query)\n",
    "    results = cursor.fetchall()\n",
    "    for row in results:\n",
    "        doc_id = row[0]\n",
    "        url = row[1]\n",
    "        urls.append(url)\n",
    "        text = row[2]\n",
    "        documents.append(text)"
   ]
  },
  {
   "cell_type": "code",
   "execution_count": 12,
   "id": "7028393f",
   "metadata": {},
   "outputs": [],
   "source": [
    "tokenized_corpus = [doc.split(\" \") for doc in documents]\n",
    "bm25 = BM25Okapi(tokenized_corpus)\n"
   ]
  },
  {
   "cell_type": "code",
   "execution_count": 13,
   "id": "fc1832e3",
   "metadata": {},
   "outputs": [],
   "source": [
    "tokenized_query = words"
   ]
  },
  {
   "cell_type": "code",
   "execution_count": 26,
   "id": "94d84c53",
   "metadata": {},
   "outputs": [],
   "source": [
    "doc_scores = bm25.get_scores(tokenized_query)\n",
    "doc_scores = doc_scores.argsort()[::-1]"
   ]
  },
  {
   "cell_type": "code",
   "execution_count": 33,
   "id": "879bea35",
   "metadata": {},
   "outputs": [
    {
     "data": {
      "text/plain": [
       "['https://www.bbc.com/sport/football/64799742',\n",
       " 'https://www.bbc.com/sport/athletics/64796764',\n",
       " 'https://www.bbc.com/sport/football/64782551',\n",
       " 'https://www.bbc.com/news/world-asia-india-64740853',\n",
       " 'https://www.bbc.com/sport/football/64780207',\n",
       " 'https://www.bbc.com/news/uk-64806166',\n",
       " 'https://www.bbc.com/sport/articles/cz9pr3rx64ro',\n",
       " 'https://www.bbc.com/sport/articles/c19zr70zzmlo',\n",
       " 'https://www.bbc.com/news/uk-wales-64776960',\n",
       " 'https://www.bbc.com/news/uk-england-birmingham-64786036',\n",
       " 'https://www.bbc.com/sport/football/63785331',\n",
       " 'https://www.bbc.com/sport/articles/c1dpklj5zg3o',\n",
       " 'https://www.bbc.com/sport/articles/cyj09n7pwywo',\n",
       " 'https://www.bbc.com/sport/articles/c2v12pynvxwo',\n",
       " 'https://www.bbc.com/sport/articles/cd13pe61v27o',\n",
       " 'https://www.bbc.com/sport/articles/cy9dng9x72go',\n",
       " 'https://www.bbc.com/news/uk-england-manchester-64784988',\n",
       " 'https://www.bbc.com/news/uk-northern-ireland-64802731',\n",
       " 'https://www.bbc.com/news/uk-northern-ireland-64791697',\n",
       " 'https://www.bbc.com/news/world-64775657']"
      ]
     },
     "execution_count": 33,
     "metadata": {},
     "output_type": "execute_result"
    }
   ],
   "source": [
    "urls"
   ]
  },
  {
   "cell_type": "code",
   "execution_count": 29,
   "id": "4baca67e",
   "metadata": {},
   "outputs": [
    {
     "data": {
      "text/plain": [
       "array([15, 18, 19,  8,  1,  2,  3,  4,  5,  6,  7,  9, 10, 11, 12, 13, 14,\n",
       "       16, 17,  0], dtype=int64)"
      ]
     },
     "execution_count": 29,
     "metadata": {},
     "output_type": "execute_result"
    }
   ],
   "source": [
    "doc_scores"
   ]
  },
  {
   "cell_type": "code",
   "execution_count": 34,
   "id": "83788f42",
   "metadata": {},
   "outputs": [
    {
     "data": {
      "text/plain": [
       "['https://www.bbc.com/sport/football/64799742',\n",
       " 'https://www.bbc.com/sport/athletics/64796764',\n",
       " 'https://www.bbc.com/sport/football/64782551',\n",
       " 'https://www.bbc.com/news/world-asia-india-64740853',\n",
       " 'https://www.bbc.com/sport/football/64780207',\n",
       " 'https://www.bbc.com/news/uk-64806166',\n",
       " 'https://www.bbc.com/sport/articles/cz9pr3rx64ro',\n",
       " 'https://www.bbc.com/sport/articles/c19zr70zzmlo',\n",
       " 'https://www.bbc.com/news/uk-wales-64776960',\n",
       " 'https://www.bbc.com/news/uk-england-birmingham-64786036',\n",
       " 'https://www.bbc.com/sport/football/63785331',\n",
       " 'https://www.bbc.com/sport/articles/c1dpklj5zg3o',\n",
       " 'https://www.bbc.com/sport/articles/cyj09n7pwywo',\n",
       " 'https://www.bbc.com/sport/articles/c2v12pynvxwo',\n",
       " 'https://www.bbc.com/sport/articles/cd13pe61v27o',\n",
       " 'https://www.bbc.com/sport/articles/cy9dng9x72go',\n",
       " 'https://www.bbc.com/news/uk-england-manchester-64784988',\n",
       " 'https://www.bbc.com/news/uk-northern-ireland-64802731',\n",
       " 'https://www.bbc.com/news/uk-northern-ireland-64791697',\n",
       " 'https://www.bbc.com/news/world-64775657']"
      ]
     },
     "execution_count": 34,
     "metadata": {},
     "output_type": "execute_result"
    }
   ],
   "source": [
    "urls"
   ]
  },
  {
   "cell_type": "code",
   "execution_count": 40,
   "id": "3acca865",
   "metadata": {},
   "outputs": [],
   "source": [
    "out_data = []\n",
    "for idx,score_id in enumerate(doc_scores,start=1):\n",
    "    doc_id = rel_docs[score_id]\n",
    "    url = urls[score_id]\n",
    "    text = documents[score_id][:200]\n",
    "    out_data.append({'Rank':idx,'data':{'doc_id':doc_id,'url':url,'text':text }})"
   ]
  },
  {
   "cell_type": "code",
   "execution_count": 43,
   "id": "48aae523",
   "metadata": {},
   "outputs": [
    {
     "data": {
      "text/plain": [
       "[{'Rank': 1,\n",
       "  'data': {'doc_id': 471,\n",
       "   'url': 'https://www.bbc.com/sport/articles/cy9dng9x72go',\n",
       "   'text': \"Your thoughts on Saturday's game We asked you for your views on Saturday's Premier League game between Bournemouth and Manchester City. Here are some of your comments: Bournemouth fans David: Sloppy e\"}},\n",
       " {'Rank': 2,\n",
       "  'data': {'doc_id': 753,\n",
       "   'url': 'https://www.bbc.com/news/uk-northern-ireland-64791697',\n",
       "   'text': 'Brexit: Could Windsor Framework reset strained UK-Ireland ties? The Republic of Ireland - more than any other EU state - wants to get Brexit done at last. It shares a land border with Northern Ireland'}},\n",
       " {'Rank': 3,\n",
       "  'data': {'doc_id': 255,\n",
       "   'url': 'https://www.bbc.com/news/world-64775657',\n",
       "   'text': 'California storm: Motorhome falls into river This video can not be played This is the moment a motorhome was swept into the Santa Clara River in southern California as a historic winter storm caused a'}},\n",
       " {'Rank': 4,\n",
       "  'data': {'doc_id': 689,\n",
       "   'url': 'https://www.bbc.com/news/uk-wales-64776960',\n",
       "   'text': 'Tanni Grey-Thompson raises car charging point access concerns Baroness Tanni Grey-Thompson is calling for improved access for all users of electric vehicle charging points. The 11-time Paralympic gold'}},\n",
       " {'Rank': 5,\n",
       "  'data': {'doc_id': 1295,\n",
       "   'url': 'https://www.bbc.com/sport/athletics/64796764',\n",
       "   'text': 'European Indoor Championship: Neil Gourley boosted by new British record  Last updated on 1 March 20231 March 2023.From the section Athletics Neil Gourley believes setting a new British indoor 1500m r'}},\n",
       " {'Rank': 6,\n",
       "  'data': {'doc_id': 401,\n",
       "   'url': 'https://www.bbc.com/sport/football/64782551',\n",
       "   'text': 'Besiktas fans throw toys on to pitch for children affected by Turkey earthquake  Last updated on 27 February 202327 February 2023.From the section European Football Besiktas supporters threw thousands'}},\n",
       " {'Rank': 7,\n",
       "  'data': {'doc_id': 922,\n",
       "   'url': 'https://www.bbc.com/news/world-asia-india-64740853',\n",
       "   'text': 'Kerala: India temple replaces elephant with robot for rituals A temple in the southern Indian state of Kerala has introduced a mechanical elephant to conduct its rituals. The initiative by authorities'}},\n",
       " {'Rank': 8,\n",
       "  'data': {'doc_id': 797,\n",
       "   'url': 'https://www.bbc.com/sport/football/64780207',\n",
       "   'text': 'Tottenham v Chelsea: Fan arrested over alleged homophobic chant  Last updated on 26 February 202326 February 2023.From the section Tottenham A fan was arrested for allegedly using homophobic language '}},\n",
       " {'Rank': 9,\n",
       "  'data': {'doc_id': 1188,\n",
       "   'url': 'https://www.bbc.com/news/uk-64806166',\n",
       "   'text': \"Britain's guide dog shortage: Volunteers increase after BBC story This video can not be played BBC Correspondent Sean Dilley told the story of his last walk with his guide dog Sammy in September 2022.\"}},\n",
       " {'Rank': 10,\n",
       "  'data': {'doc_id': 423,\n",
       "   'url': 'https://www.bbc.com/sport/articles/cz9pr3rx64ro',\n",
       "   'text': \"'Leeds probably have got enough to stay up' Journalist Luke Edwards believes Leeds have enough to stay in the Premier League, but said the games at Elland Road will be crucial between now and the end \"}},\n",
       " {'Rank': 11,\n",
       "  'data': {'doc_id': 299,\n",
       "   'url': 'https://www.bbc.com/sport/articles/c19zr70zzmlo',\n",
       "   'text': \"'Neilson has final say over signings' Heart of Midlothian sporting director Joe Savage insists manager Robbie Neilson will always have the final say on signings. (The Times via Football Scotland), ext\"}},\n",
       " {'Rank': 12,\n",
       "  'data': {'doc_id': 818,\n",
       "   'url': 'https://www.bbc.com/news/uk-england-birmingham-64786036',\n",
       "   'text': 'New Â£3m nursing department to open at Newman University A new Â£3m nursing and physiotherapy department is to be officially opened at a Birmingham university on Tuesday. Birmingham-born professor Dam'}},\n",
       " {'Rank': 13,\n",
       "  'data': {'doc_id': 192,\n",
       "   'url': 'https://www.bbc.com/sport/football/63785331',\n",
       "   'text': \"Swindon Town: Listen to BBC Radio Wiltshire's new podcast  Last updated on 1 March 20231 March 2023.From the section Swindon Listen to the latest Talk of the Town podcast on Swindon Town from BBC Radi\"}},\n",
       " {'Rank': 14,\n",
       "  'data': {'doc_id': 320,\n",
       "   'url': 'https://www.bbc.com/sport/articles/c1dpklj5zg3o',\n",
       "   'text': 'Brophy \\'not sure\\' about future beyond summer Eamonn Brophy (right) was in fine form against Dundee United Eamonn Brophy remains coy about his longer-term future despite admitting he is \"loving it up h'}},\n",
       " {'Rank': 15,\n",
       "  'data': {'doc_id': 1858,\n",
       "   'url': 'https://www.bbc.com/sport/articles/cyj09n7pwywo',\n",
       "   'text': \"Have your say on Goodwin's appointment Dundee United fans, your third manager of the season is Jim Goodwin. How do you feel about that? Is the former Aberdeen and St Mirren boss the man to drag your c\"}},\n",
       " {'Rank': 16,\n",
       "  'data': {'doc_id': 969,\n",
       "   'url': 'https://www.bbc.com/sport/articles/c2v12pynvxwo',\n",
       "   'text': \"'We can now focus on the league, which is something we really need to do' Newcastle fan Charlotte Robson from The True Faith podcast believes Sunday's Carabao Cup final defeat will spur players on to \"}},\n",
       " {'Rank': 17,\n",
       "  'data': {'doc_id': 978,\n",
       "   'url': 'https://www.bbc.com/sport/articles/cd13pe61v27o',\n",
       "   'text': '\\'I\\'d love to get West Ham to a cup final, and I\\'d love to win a cup final\\' Manager David Moyes says \"there is a lot to look forward to\" for West Ham as he eyes FA Cup success with the Hammers. While h'}},\n",
       " {'Rank': 18,\n",
       "  'data': {'doc_id': 480,\n",
       "   'url': 'https://www.bbc.com/news/uk-england-manchester-64784988',\n",
       "   'text': 'Police seize 20 tonnes of counterfeit goods in Manchester raids Police have seized around 20 tonnes of counterfeit goods in raids on shops masquerading as legitimate businesses. Officers said the good'}},\n",
       " {'Rank': 19,\n",
       "  'data': {'doc_id': 1251,\n",
       "   'url': 'https://www.bbc.com/news/uk-northern-ireland-64802731',\n",
       "   'text': 'Inflation still a worry for NI consumer confidence Inflation is still a worry for consumer confidence in Northern Ireland, despite a slight improvement at the end of 2022 according to a Danske Bank re'}},\n",
       " {'Rank': 20,\n",
       "  'data': {'doc_id': 1417,\n",
       "   'url': 'https://www.bbc.com/sport/football/64799742',\n",
       "   'text': 'Southampton 1-2 Grimsby Town: Mariners reach FA Cup quarter-finals for first time in 84 years  Last updated on 1 March 20231 March 2023.From the section FA Cupcomments679 League Two Grimsby Town reach'}}]"
      ]
     },
     "execution_count": 43,
     "metadata": {},
     "output_type": "execute_result"
    }
   ],
   "source": [
    "out_data"
   ]
  },
  {
   "cell_type": "code",
   "execution_count": 53,
   "id": "3758bc6f",
   "metadata": {},
   "outputs": [],
   "source": [
    "json_data = json.dumps(out_data).lstrip('[').rstrip(']')"
   ]
  },
  {
   "cell_type": "code",
   "execution_count": 55,
   "id": "587a701e",
   "metadata": {},
   "outputs": [
    {
     "data": {
      "text/plain": [
       "'{\"Rank\": 1, \"data\": {\"doc_id\": 471, \"url\": \"https://www.bbc.com/sport/articles/cy9dng9x72go\", \"text\": \"Your thoughts on Saturday\\'s game We asked you for your views on Saturday\\'s Premier League game between Bournemouth and Manchester City. Here are some of your comments: Bournemouth fans David: Sloppy e\"}}, {\"Rank\": 2, \"data\": {\"doc_id\": 753, \"url\": \"https://www.bbc.com/news/uk-northern-ireland-64791697\", \"text\": \"Brexit: Could Windsor Framework reset strained UK-Ireland ties? The Republic of Ireland - more than any other EU state - wants to get Brexit done at last. It shares a land border with Northern Ireland\"}}, {\"Rank\": 3, \"data\": {\"doc_id\": 255, \"url\": \"https://www.bbc.com/news/world-64775657\", \"text\": \"California storm: Motorhome falls into river This video can not be played This is the moment a motorhome was swept into the Santa Clara River in southern California as a historic winter storm caused a\"}}, {\"Rank\": 4, \"data\": {\"doc_id\": 689, \"url\": \"https://www.bbc.com/news/uk-wales-64776960\", \"text\": \"Tanni Grey-Thompson raises car charging point access concerns Baroness Tanni Grey-Thompson is calling for improved access for all users of electric vehicle charging points. The 11-time Paralympic gold\"}}, {\"Rank\": 5, \"data\": {\"doc_id\": 1295, \"url\": \"https://www.bbc.com/sport/athletics/64796764\", \"text\": \"European Indoor Championship: Neil Gourley boosted by new British record  Last updated on 1 March 20231 March 2023.From the section Athletics Neil Gourley believes setting a new British indoor 1500m r\"}}, {\"Rank\": 6, \"data\": {\"doc_id\": 401, \"url\": \"https://www.bbc.com/sport/football/64782551\", \"text\": \"Besiktas fans throw toys on to pitch for children affected by Turkey earthquake  Last updated on 27 February 202327 February 2023.From the section European Football Besiktas supporters threw thousands\"}}, {\"Rank\": 7, \"data\": {\"doc_id\": 922, \"url\": \"https://www.bbc.com/news/world-asia-india-64740853\", \"text\": \"Kerala: India temple replaces elephant with robot for rituals A temple in the southern Indian state of Kerala has introduced a mechanical elephant to conduct its rituals. The initiative by authorities\"}}, {\"Rank\": 8, \"data\": {\"doc_id\": 797, \"url\": \"https://www.bbc.com/sport/football/64780207\", \"text\": \"Tottenham v Chelsea: Fan arrested over alleged homophobic chant  Last updated on 26 February 202326 February 2023.From the section Tottenham A fan was arrested for allegedly using homophobic language \"}}, {\"Rank\": 9, \"data\": {\"doc_id\": 1188, \"url\": \"https://www.bbc.com/news/uk-64806166\", \"text\": \"Britain\\'s guide dog shortage: Volunteers increase after BBC story This video can not be played BBC Correspondent Sean Dilley told the story of his last walk with his guide dog Sammy in September 2022.\"}}, {\"Rank\": 10, \"data\": {\"doc_id\": 423, \"url\": \"https://www.bbc.com/sport/articles/cz9pr3rx64ro\", \"text\": \"\\'Leeds probably have got enough to stay up\\' Journalist Luke Edwards believes Leeds have enough to stay in the Premier League, but said the games at Elland Road will be crucial between now and the end \"}}, {\"Rank\": 11, \"data\": {\"doc_id\": 299, \"url\": \"https://www.bbc.com/sport/articles/c19zr70zzmlo\", \"text\": \"\\'Neilson has final say over signings\\' Heart of Midlothian sporting director Joe Savage insists manager Robbie Neilson will always have the final say on signings. (The Times via Football Scotland), ext\"}}, {\"Rank\": 12, \"data\": {\"doc_id\": 818, \"url\": \"https://www.bbc.com/news/uk-england-birmingham-64786036\", \"text\": \"New \\\\u00c2\\\\u00a33m nursing department to open at Newman University A new \\\\u00c2\\\\u00a33m nursing and physiotherapy department is to be officially opened at a Birmingham university on Tuesday. Birmingham-born professor Dam\"}}, {\"Rank\": 13, \"data\": {\"doc_id\": 192, \"url\": \"https://www.bbc.com/sport/football/63785331\", \"text\": \"Swindon Town: Listen to BBC Radio Wiltshire\\'s new podcast  Last updated on 1 March 20231 March 2023.From the section Swindon Listen to the latest Talk of the Town podcast on Swindon Town from BBC Radi\"}}, {\"Rank\": 14, \"data\": {\"doc_id\": 320, \"url\": \"https://www.bbc.com/sport/articles/c1dpklj5zg3o\", \"text\": \"Brophy \\'not sure\\' about future beyond summer Eamonn Brophy (right) was in fine form against Dundee United Eamonn Brophy remains coy about his longer-term future despite admitting he is \\\\\"loving it up h\"}}, {\"Rank\": 15, \"data\": {\"doc_id\": 1858, \"url\": \"https://www.bbc.com/sport/articles/cyj09n7pwywo\", \"text\": \"Have your say on Goodwin\\'s appointment Dundee United fans, your third manager of the season is Jim Goodwin. How do you feel about that? Is the former Aberdeen and St Mirren boss the man to drag your c\"}}, {\"Rank\": 16, \"data\": {\"doc_id\": 969, \"url\": \"https://www.bbc.com/sport/articles/c2v12pynvxwo\", \"text\": \"\\'We can now focus on the league, which is something we really need to do\\' Newcastle fan Charlotte Robson from The True Faith podcast believes Sunday\\'s Carabao Cup final defeat will spur players on to \"}}, {\"Rank\": 17, \"data\": {\"doc_id\": 978, \"url\": \"https://www.bbc.com/sport/articles/cd13pe61v27o\", \"text\": \"\\'I\\'d love to get West Ham to a cup final, and I\\'d love to win a cup final\\' Manager David Moyes says \\\\\"there is a lot to look forward to\\\\\" for West Ham as he eyes FA Cup success with the Hammers. While h\"}}, {\"Rank\": 18, \"data\": {\"doc_id\": 480, \"url\": \"https://www.bbc.com/news/uk-england-manchester-64784988\", \"text\": \"Police seize 20 tonnes of counterfeit goods in Manchester raids Police have seized around 20 tonnes of counterfeit goods in raids on shops masquerading as legitimate businesses. Officers said the good\"}}, {\"Rank\": 19, \"data\": {\"doc_id\": 1251, \"url\": \"https://www.bbc.com/news/uk-northern-ireland-64802731\", \"text\": \"Inflation still a worry for NI consumer confidence Inflation is still a worry for consumer confidence in Northern Ireland, despite a slight improvement at the end of 2022 according to a Danske Bank re\"}}, {\"Rank\": 20, \"data\": {\"doc_id\": 1417, \"url\": \"https://www.bbc.com/sport/football/64799742\", \"text\": \"Southampton 1-2 Grimsby Town: Mariners reach FA Cup quarter-finals for first time in 84 years  Last updated on 1 March 20231 March 2023.From the section FA Cupcomments679 League Two Grimsby Town reach\"}}'"
      ]
     },
     "execution_count": 55,
     "metadata": {},
     "output_type": "execute_result"
    }
   ],
   "source": [
    "json_data"
   ]
  },
  {
   "cell_type": "code",
   "execution_count": 18,
   "id": "d0386e93",
   "metadata": {},
   "outputs": [],
   "source": [
    "doc_id = rel_docs[max_scored]"
   ]
  },
  {
   "cell_type": "code",
   "execution_count": 54,
   "id": "98498d36",
   "metadata": {},
   "outputs": [
    {
     "data": {
      "text/plain": [
       "1417"
      ]
     },
     "execution_count": 54,
     "metadata": {},
     "output_type": "execute_result"
    }
   ],
   "source": [
    "doc_id"
   ]
  },
  {
   "cell_type": "code",
   "execution_count": 19,
   "id": "b607be51",
   "metadata": {},
   "outputs": [
    {
     "name": "stdout",
     "output_type": "stream",
     "text": [
      "(471, 'https://www.bbc.com/sport/articles/cy9dng9x72go', \"Your thoughts on Saturday's game We asked you for your views on Saturday's Premier League game between Bournemouth and Manchester City. Here are some of your comments: Bournemouth fans David: Sloppy errors undermined what was actually a very spirited Bournemouth performance. Manchester City were predictably very good with the high press and sharper in the box. Nice that our efforts were rewarded with a consolation goal. Michael: A massive improvement in the last eight minutes. Apart from that, totally outclassed. Having said that we played well and had a couple of chances. Manchester City were faster in every position and their passing was more accurate. Jaiden Anthony came on and that changed things, bearing in mind Erling Haaland and Nathan Ake had gone off, the latter deservedly getting an ovation from the Bournemouth fans. Bring on Arsenal! Mike: Itâ\\x80\\x99s time for Gary Oâ\\x80\\x99Neil to go! His non-experience is starting to show. The players and club is a shambles. What we saw was a disgrace. Bournemouth were awful. In the first half, City defenders were walking into the Bournemouth half - they were walking! Bournemouth were slow and poor all game. Manchester City fans James: Our manager is a genius in ball possession. Now, we have to move away from that art to killing games off. Look at what happened against Nottingham Forest and RB Leipzig. And sometimes he should play around Haaland like he did with Lionel Messi at Barcelona. Ryan: Great result from a great game. Well done Haaland for 27 goals in 24 games, while Julian Alvarez shone. Hopefully we can pip Arsenal to win the title race. Fernandes an 'inspiration' to Man Utd - Ten Hag 'I nearly died' - the Olympian wrongly sectioned for 26 days 'Future Lionesses in every playground' - Lotte Wubben-Moy's open letter Which candidate will be blushing this week? Creating a new men's skincare product leads to a sticky situation in Lord Sugar's boardroom... Have a thrilling movie night tonight! Check out the star-studded selection of films to watch on BBC iPlayer now Exploring the dangerous rise of Andrew Tate Enter the world of the social media personalityâ\\x80\\x99s multi-level marketing scheme and webcam business 'I nearly died' - the Olympian wrongly sectioned for 26 days British Olympian Abi Burton was wrongly sectioned for 26 days and spent 25 days in an induced coma; this is her story. 'Imagine future Lionesses in every playground' Lionesses and Arsenal defender Lotte Wubben-Moy reflects on the importance of the government's school sports pledge. The female-run MLS club inspiring girls and making history St Louis City SC CEO and president Carolyn Kindle, the league's first female club owner, tells BBC Sport about being a businesswoman, inspiring young girls and learning about the beautiful game. The 'damaging' idea that 'thinner is faster' It took years for Pippa Woolven to be diagnosed with Red-S. Now she works to raise awareness of the condition. Should they be let out of prison? VideoShould they be let out of prison? Brutal workouts and testing challenges. VideoBrutal workouts and testing challenges A fiery detective with a brilliant mind. VideoA fiery detective with a brilliant mind Harry Redknapp is in for a real treat! VideoHarry Redknapp is in for a real treat! Â© 2023 BBC. The BBC is not responsible for the content of external sites. Read about our approach to external linking.\", None)\n"
     ]
    }
   ],
   "source": [
    "query = f\"SELECT * FROM sites where id = {doc_id};\"\n",
    "cursor.execute(query)\n",
    "results = cursor.fetchall()\n",
    "for row in results:\n",
    "    print(row)a"
   ]
  },
  {
   "cell_type": "code",
   "execution_count": 20,
   "id": "660c56c5",
   "metadata": {},
   "outputs": [
    {
     "data": {
      "text/plain": [
       "'Kerala: India temple replaces elephant with robot for rituals A temple in the southern Indian state of Kerala has introduced a mechanical elephant to conduct its rituals. The initiative by authorities at Irinjadappilly Sree Krishna Temple in Thrissur district is part of their pledge to stop using live animals for any festivities. The model was donated by People for Ethical Treatment of Animals (PETA) India. PETA said this would help in holding events \"in a cruelty-free manner\". Chained, saddled and decorated, elephants play an important part in temple festivals in Kerala - the state is home to about a fifth of the country\\'s roughly 2,500 captive elephants.  For years, animal welfare activists have flagged concerns about their treatment. The Centre for Research on Animal Rights last week wrote to the state\\'s chief minister about the increased mortality of the mammal, saying 138 captive elephants had died in Kerala between 2018 and 2023. In a statement issued on Monday, PETA said the that subjecting live elephants to extreme loud noises during festivals was \"cruel\" and urged all temples in the state to switch to lifelike mechanical elephants.  \"It\\'s high time we made stronger and more impactful strides towards stopping such abuse and letting animals have respectful and dignified lives,\" the organisation added. The campaign has also received support from south Indian actress Parvathy Thiruvothu, a vocal advocate of animal rights. According to the Indian Express newspaper, the elephant model donated by PETA is 11 ft (3.3m) tall, weighs 800 kg (1763.7 lbs) and is made of an iron frame. Temple priest Rajkumar Namboothiri told the Indian Express newspaper that authorities were happy to receive the mechanical elephant. \"We hope other temples will also think about replacing elephants with robotic elephants for their rituals,\" Mr Namboothiri said. BBC News India is now on YouTube. Click here to subscribe and watch our documentaries, explainers and features. The \\'killer\\' Indian elephant who\\'s loved and feared The friendly India elephant whose fame is a curse More snow to sweep UK as Arctic blast hits I\\'ll keep speaking out, says Lineker after criticism Stopping small boats is priority for people - PM A mum\\'s \\'remarkable turnaround\\' to win her baby back Why Lineker\\'s comments present problem for the BBC How cycling carried two sisters out of the Talibanâ\\x80\\x99s reach Indecent exposure: \\'I was the 8th woman he\\'d attacked\\' Why a million Americans a year risk Mexico medical tourism Zoe Saldana\\'s box office record (and 15 other Oscar facts) What is International Women\\'s Day? The mad scramble for Eurovision tickets. AudioThe mad scramble for Eurovision tickets How a \\'pig butcher\\' romances and scams his victims. VideoHow a \\'pig butcher\\' romances and scams his victims \\'Money can\\'t buy you a better cheeseburger\\' Billionaire Bill Gates talks to Amol Rajan about wealth, conspiracies and controversy How much money do you need to be happy? A panel of experts discuss the finances of happiness Break up the week with a film night There\\'s something for everyone on BBC iPlayer Is paying more for premium petrol worth it? Greg Foot drives the investigation into the fumy world of petrol Who is Andrew Tate? P!nk\\'s spine-tingling performance! Stanley embarks on a whirlwind tour  One simple tip to boost mental health Â© 2023 BBC. The BBC is not responsible for the content of external sites. Read about our approach to external linking.'"
      ]
     },
     "execution_count": 20,
     "metadata": {},
     "output_type": "execute_result"
    }
   ],
   "source": [
    "documents[3]"
   ]
  },
  {
   "cell_type": "code",
   "execution_count": null,
   "id": "810729b8",
   "metadata": {},
   "outputs": [],
   "source": []
  },
  {
   "cell_type": "code",
   "execution_count": null,
   "id": "a58efca1",
   "metadata": {},
   "outputs": [],
   "source": []
  },
  {
   "cell_type": "code",
   "execution_count": null,
   "id": "81375edc",
   "metadata": {},
   "outputs": [],
   "source": []
  }
 ],
 "metadata": {
  "kernelspec": {
   "display_name": "Python 3 (ipykernel)",
   "language": "python",
   "name": "python3"
  },
  "language_info": {
   "codemirror_mode": {
    "name": "ipython",
    "version": 3
   },
   "file_extension": ".py",
   "mimetype": "text/x-python",
   "name": "python",
   "nbconvert_exporter": "python",
   "pygments_lexer": "ipython3",
   "version": "3.10.7"
  }
 },
 "nbformat": 4,
 "nbformat_minor": 5
}
